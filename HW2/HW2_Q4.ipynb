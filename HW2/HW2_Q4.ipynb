{
  "nbformat": 4,
  "nbformat_minor": 0,
  "metadata": {
    "accelerator": "GPU",
    "colab": {
      "provenance": [],
      "collapsed_sections": [
        "GrFpZXNQB9FW"
      ],
      "toc_visible": true
    },
    "kernelspec": {
      "name": "python3",
      "display_name": "Python 3"
    },
    "gpuClass": "standard"
  },
  "cells": [
    {
      "cell_type": "markdown",
      "metadata": {
        "id": "GrFpZXNQB9FW"
      },
      "source": [
        "#### Copyright 2018 Google LLC."
      ]
    },
    {
      "cell_type": "code",
      "metadata": {
        "id": "43_9Kh8LCDPK"
      },
      "source": [
        "# Licensed under the Apache License, Version 2.0 (the \"License\");\n",
        "# you may not use this file except in compliance with the License.\n",
        "# You may obtain a copy of the License at\n",
        "#\n",
        "# https://www.apache.org/licenses/LICENSE-2.0\n",
        "#\n",
        "# Unless required by applicable law or agreed to in writing, software\n",
        "# distributed under the License is distributed on an \"AS IS\" BASIS,\n",
        "# WITHOUT WARRANTIES OR CONDITIONS OF ANY KIND, either express or implied.\n",
        "# See the License for the specific language governing permissions and\n",
        "# limitations under the License."
      ],
      "execution_count": null,
      "outputs": []
    },
    {
      "cell_type": "markdown",
      "metadata": {
        "id": "YHK6DyunSbs4"
      },
      "source": [
        "# Cat vs. Dog Image Classification\n"
      ]
    },
    {
      "cell_type": "code",
      "metadata": {
        "id": "xvnAdS6YFTQZ"
      },
      "source": [
        "## Set These Parameters\n",
        "last_layer_neurons = 2\n",
        "last_layer_activation = 'softmax'\n",
        "loss_function = 'categorical_crossentropy'"
      ],
      "execution_count": null,
      "outputs": []
    },
    {
      "cell_type": "code",
      "metadata": {
        "id": "XK-IN_zNgLlT"
      },
      "source": [
        "from tensorflow.keras.preprocessing.image import ImageDataGenerator\n",
        "\n",
        "datagen = ImageDataGenerator(\n",
        "      rotation_range=40,\n",
        "      width_shift_range=0.2,\n",
        "      height_shift_range=0.2,\n",
        "      shear_range=0.2,\n",
        "      zoom_range=0.2,\n",
        "      horizontal_flip=True,\n",
        "      fill_mode='nearest')"
      ],
      "execution_count": null,
      "outputs": []
    },
    {
      "cell_type": "code",
      "metadata": {
        "id": "dhztKtUSFMXp",
        "colab": {
          "base_uri": "https://localhost:8080/"
        },
        "outputId": "25d722b4-50f7-4296-f1dc-19626d84d618"
      },
      "source": [
        "!wget --no-check-certificate \\\n",
        "   https://storage.googleapis.com/mledu-datasets/cats_and_dogs_filtered.zip -O \\\n",
        "   /tmp/cats_and_dogs_filtered.zip"
      ],
      "execution_count": null,
      "outputs": [
        {
          "output_type": "stream",
          "name": "stdout",
          "text": [
            "--2022-11-06 10:07:45--  https://storage.googleapis.com/mledu-datasets/cats_and_dogs_filtered.zip\n",
            "Resolving storage.googleapis.com (storage.googleapis.com)... 142.250.31.128, 142.251.163.128, 142.251.16.128, ...\n",
            "Connecting to storage.googleapis.com (storage.googleapis.com)|142.250.31.128|:443... connected.\n",
            "HTTP request sent, awaiting response... 200 OK\n",
            "Length: 68606236 (65M) [application/zip]\n",
            "Saving to: ‘/tmp/cats_and_dogs_filtered.zip’\n",
            "\n",
            "/tmp/cats_and_dogs_ 100%[===================>]  65.43M   277MB/s    in 0.2s    \n",
            "\n",
            "2022-11-06 10:07:45 (277 MB/s) - ‘/tmp/cats_and_dogs_filtered.zip’ saved [68606236/68606236]\n",
            "\n"
          ]
        }
      ]
    },
    {
      "cell_type": "code",
      "metadata": {
        "id": "LWkSRoJRfvGL"
      },
      "source": [
        "import os\n",
        "import zipfile\n",
        "\n",
        "local_zip = '/tmp/cats_and_dogs_filtered.zip'\n",
        "zip_ref = zipfile.ZipFile(local_zip, 'r')\n",
        "zip_ref.extractall('/tmp')\n",
        "zip_ref.close()\n",
        "  \n",
        "base_dir = '/tmp/cats_and_dogs_filtered'\n",
        "train_dir = os.path.join(base_dir, 'train')\n",
        "validation_dir = os.path.join(base_dir, 'validation')\n",
        "\n",
        "# Directory with our training cat pictures\n",
        "train_cats_dir = os.path.join(train_dir, 'cats')\n",
        "\n",
        "# Directory with our training dog pictures\n",
        "train_dogs_dir = os.path.join(train_dir, 'dogs')\n",
        "\n",
        "# Directory with our validation cat pictures\n",
        "validation_cats_dir = os.path.join(validation_dir, 'cats')\n",
        "\n",
        "# Directory with our validation dog pictures\n",
        "validation_dogs_dir = os.path.join(validation_dir, 'dogs')\n",
        "\n",
        "train_cat_fnames = os.listdir(train_cats_dir)\n",
        "train_dog_fnames = os.listdir(train_dogs_dir)"
      ],
      "execution_count": null,
      "outputs": []
    },
    {
      "cell_type": "markdown",
      "metadata": {
        "id": "02r1oXaegECk"
      },
      "source": [
        "Next, let's apply the `datagen` transformations to a cat image from the training set to produce five random variants. Rerun the cell a few times to see fresh batches of random variants."
      ]
    },
    {
      "cell_type": "code",
      "metadata": {
        "id": "e8HgwcAbmdcu",
        "colab": {
          "base_uri": "https://localhost:8080/"
        },
        "outputId": "720d6bd3-37f4-474b-b0f3-49d2c9ecc172"
      },
      "source": [
        "# Adding rescale, rotation_range, width_shift_range, height_shift_range,\n",
        "# shear_range, zoom_range, and horizontal flip to our ImageDataGenerator\n",
        "train_datagen = ImageDataGenerator(\n",
        "    rescale=1./255,\n",
        "    rotation_range=20,\n",
        "    width_shift_range=0.1,\n",
        "    height_shift_range=0.1,\n",
        "    # shear_range=0.2,\n",
        "    # zoom_range=0.2,\n",
        "    horizontal_flip=True,)\n",
        "\n",
        "# Note that the validation data should not be augmented!\n",
        "val_datagen = ImageDataGenerator(rescale=1./255)\n",
        "\n",
        "#\n",
        "class_mode = 'binary' if last_layer_neurons == 1 else 'categorical'\n",
        "\n",
        "# Flow training images in batches of 32 using train_datagen generator\n",
        "train_generator = train_datagen.flow_from_directory(\n",
        "        train_dir,  # This is the source directory for training images\n",
        "        target_size=(150, 150),  # All images will be resized to 150x150\n",
        "        batch_size=20,\n",
        "        # Since we use binary_crossentropy loss, we need binary labels\n",
        "        class_mode=class_mode)\n",
        "\n",
        "# Flow validation images in batches of 32 using val_datagen generator\n",
        "validation_generator = val_datagen.flow_from_directory(\n",
        "        validation_dir,\n",
        "        target_size=(150, 150),\n",
        "        batch_size=20,\n",
        "        class_mode=class_mode)"
      ],
      "execution_count": null,
      "outputs": [
        {
          "output_type": "stream",
          "name": "stdout",
          "text": [
            "Found 2000 images belonging to 2 classes.\n",
            "Found 1000 images belonging to 2 classes.\n"
          ]
        }
      ]
    },
    {
      "cell_type": "markdown",
      "metadata": {
        "id": "K-3PrfDwDJjB"
      },
      "source": [
        "If we train a new network using this data augmentation configuration, our network will never see the same input twice. However the inputs that it sees are still heavily intercorrelated, so this might not be quite enough to completely get rid of overfitting."
      ]
    },
    {
      "cell_type": "markdown",
      "metadata": {
        "id": "lYguAfH3gyv6"
      },
      "source": [
        "## Building a Small ConvNet\n"
      ]
    },
    {
      "cell_type": "code",
      "metadata": {
        "id": "SVC4FgxiDje6",
        "colab": {
          "base_uri": "https://localhost:8080/"
        },
        "outputId": "94fc93e7-2c5e-4a46-f4d3-bf9a4d127ba9"
      },
      "source": [
        "from tensorflow.keras import layers\n",
        "from tensorflow.keras import Model\n",
        "from tensorflow.keras import optimizers\n",
        "\n",
        "# Our input feature map is 150x150x3: 150x150 for the image pixels, and 3 for\n",
        "# the three color channels: R, G, and B\n",
        "img_input = layers.Input(shape=(150, 150, 3))\n",
        "\n",
        "# First convolution extracts 32 filters that are 3x3\n",
        "# Convolution is followed by max-pooling layer with a 2x2 window\n",
        "x = layers.Conv2D(32, 3, activation='relu')(img_input) \n",
        "x = layers.MaxPooling2D(2)(x)\n",
        "\n",
        "# Second convolution extracts 64 filters that are 3x3\n",
        "# Convolution is followed by max-pooling layer with a 2x2 window\n",
        "x = layers.Conv2D(64, 3, activation='relu')(x) \n",
        "x = layers.MaxPooling2D(2)(x)\n",
        "\n",
        "# Third convolution extracts 128 filters that are 3x3\n",
        "# Convolution is followed by max-pooling layer with a 2x2 window\n",
        "x = layers.Convolution2D(128, 3, activation='relu')(x) \n",
        "x = layers.MaxPooling2D(2)(x)\n",
        "\n",
        "# Flatten feature map to a 1-dim tensor\n",
        "x = layers.Flatten()(x)\n",
        "\n",
        "# Create a fully connected layer with ReLU activation and 512 hidden units\n",
        "x = layers.Dense(512, activation='relu')(x) \n",
        "\n",
        "# Add a dropout rate of 0.5\n",
        "x = layers.Dropout(0.2)(x)\n",
        "print(\"ali\")\n",
        "\n",
        "# add output layer\n",
        "output = layers.Dense(last_layer_neurons, activation=last_layer_activation)(x)\n",
        "\n",
        "# Configure and compile the model\n",
        "model = Model(img_input, output)\n",
        "model.compile(loss=loss_function,\n",
        "              optimizer=optimizers.RMSprop(lr=1e-3),\n",
        "              metrics=['acc'])\n"
      ],
      "execution_count": null,
      "outputs": [
        {
          "output_type": "stream",
          "name": "stdout",
          "text": [
            "ali\n"
          ]
        }
      ]
    },
    {
      "cell_type": "code",
      "metadata": {
        "cellView": "code",
        "id": "SdW6geEVi2S8",
        "colab": {
          "base_uri": "https://localhost:8080/"
        },
        "outputId": "393e0a36-661a-4a89-c381-2fb821f00d4a"
      },
      "source": [
        "history = model.fit(\n",
        "      train_generator,\n",
        "      epochs=50,\n",
        "      validation_data=validation_generator,\n",
        "      verbose=1)"
      ],
      "execution_count": null,
      "outputs": [
        {
          "output_type": "stream",
          "name": "stdout",
          "text": [
            "Epoch 1/50\n",
            "100/100 [==============================] - 18s 174ms/step - loss: 0.8932 - acc: 0.5325 - val_loss: 0.6556 - val_acc: 0.5900\n",
            "Epoch 2/50\n",
            "100/100 [==============================] - 17s 170ms/step - loss: 0.7117 - acc: 0.5745 - val_loss: 0.6757 - val_acc: 0.6060\n",
            "Epoch 3/50\n",
            "100/100 [==============================] - 17s 168ms/step - loss: 0.6640 - acc: 0.6320 - val_loss: 0.6046 - val_acc: 0.6770\n",
            "Epoch 4/50\n",
            "100/100 [==============================] - 17s 169ms/step - loss: 0.6259 - acc: 0.6680 - val_loss: 0.6076 - val_acc: 0.6710\n",
            "Epoch 5/50\n",
            "100/100 [==============================] - 17s 170ms/step - loss: 0.6195 - acc: 0.6770 - val_loss: 0.6458 - val_acc: 0.6070\n",
            "Epoch 6/50\n",
            "100/100 [==============================] - 17s 168ms/step - loss: 0.5979 - acc: 0.6935 - val_loss: 0.5899 - val_acc: 0.6910\n",
            "Epoch 7/50\n",
            "100/100 [==============================] - 17s 167ms/step - loss: 0.5894 - acc: 0.7035 - val_loss: 0.6357 - val_acc: 0.6620\n",
            "Epoch 8/50\n",
            "100/100 [==============================] - 17s 168ms/step - loss: 0.5713 - acc: 0.7065 - val_loss: 0.6157 - val_acc: 0.6520\n",
            "Epoch 9/50\n",
            "100/100 [==============================] - 17s 168ms/step - loss: 0.5585 - acc: 0.7185 - val_loss: 0.5493 - val_acc: 0.7110\n",
            "Epoch 10/50\n",
            "100/100 [==============================] - 17s 168ms/step - loss: 0.5362 - acc: 0.7410 - val_loss: 0.5421 - val_acc: 0.7640\n",
            "Epoch 11/50\n",
            "100/100 [==============================] - 17s 169ms/step - loss: 0.5321 - acc: 0.7290 - val_loss: 0.5092 - val_acc: 0.7440\n",
            "Epoch 12/50\n",
            "100/100 [==============================] - 17s 168ms/step - loss: 0.5115 - acc: 0.7630 - val_loss: 0.5874 - val_acc: 0.7270\n",
            "Epoch 13/50\n",
            "100/100 [==============================] - 17s 170ms/step - loss: 0.5126 - acc: 0.7535 - val_loss: 0.5098 - val_acc: 0.7600\n",
            "Epoch 14/50\n",
            "100/100 [==============================] - 17s 169ms/step - loss: 0.5346 - acc: 0.7385 - val_loss: 0.5110 - val_acc: 0.7510\n",
            "Epoch 15/50\n",
            "100/100 [==============================] - 17s 170ms/step - loss: 0.5006 - acc: 0.7640 - val_loss: 0.5218 - val_acc: 0.7490\n",
            "Epoch 16/50\n",
            "100/100 [==============================] - 17s 168ms/step - loss: 0.5051 - acc: 0.7645 - val_loss: 0.4617 - val_acc: 0.7840\n",
            "Epoch 17/50\n",
            "100/100 [==============================] - 17s 169ms/step - loss: 0.4858 - acc: 0.7655 - val_loss: 0.5298 - val_acc: 0.7600\n",
            "Epoch 18/50\n",
            "100/100 [==============================] - 17s 168ms/step - loss: 0.4763 - acc: 0.7830 - val_loss: 0.4968 - val_acc: 0.7680\n",
            "Epoch 19/50\n",
            "100/100 [==============================] - 17s 171ms/step - loss: 0.4634 - acc: 0.7940 - val_loss: 0.4751 - val_acc: 0.7890\n",
            "Epoch 20/50\n",
            "100/100 [==============================] - 17s 170ms/step - loss: 0.4610 - acc: 0.7890 - val_loss: 0.4689 - val_acc: 0.7910\n",
            "Epoch 21/50\n",
            "100/100 [==============================] - 17s 169ms/step - loss: 0.4585 - acc: 0.7995 - val_loss: 0.4582 - val_acc: 0.7950\n",
            "Epoch 22/50\n",
            "100/100 [==============================] - 17s 169ms/step - loss: 0.4678 - acc: 0.7855 - val_loss: 0.5541 - val_acc: 0.7740\n",
            "Epoch 23/50\n",
            "100/100 [==============================] - 17s 170ms/step - loss: 0.4554 - acc: 0.7925 - val_loss: 0.6353 - val_acc: 0.7710\n",
            "Epoch 24/50\n",
            "100/100 [==============================] - 17s 170ms/step - loss: 0.4391 - acc: 0.8020 - val_loss: 0.4649 - val_acc: 0.7830\n",
            "Epoch 25/50\n",
            "100/100 [==============================] - 17s 168ms/step - loss: 0.4447 - acc: 0.8035 - val_loss: 0.4643 - val_acc: 0.7860\n",
            "Epoch 26/50\n",
            "100/100 [==============================] - 17s 168ms/step - loss: 0.4348 - acc: 0.8015 - val_loss: 0.7047 - val_acc: 0.7220\n",
            "Epoch 27/50\n",
            "100/100 [==============================] - 17s 167ms/step - loss: 0.4269 - acc: 0.8130 - val_loss: 0.5038 - val_acc: 0.7950\n",
            "Epoch 28/50\n",
            "100/100 [==============================] - 17s 169ms/step - loss: 0.4215 - acc: 0.8105 - val_loss: 0.4344 - val_acc: 0.8140\n",
            "Epoch 29/50\n",
            "100/100 [==============================] - 17s 170ms/step - loss: 0.4334 - acc: 0.8055 - val_loss: 0.6078 - val_acc: 0.7570\n",
            "Epoch 30/50\n",
            "100/100 [==============================] - 17s 169ms/step - loss: 0.4331 - acc: 0.8115 - val_loss: 0.4538 - val_acc: 0.7930\n",
            "Epoch 31/50\n",
            "100/100 [==============================] - 17s 169ms/step - loss: 0.4173 - acc: 0.8100 - val_loss: 0.6072 - val_acc: 0.7590\n",
            "Epoch 32/50\n",
            "100/100 [==============================] - 17s 168ms/step - loss: 0.4206 - acc: 0.8180 - val_loss: 0.4365 - val_acc: 0.8060\n",
            "Epoch 33/50\n",
            "100/100 [==============================] - 17s 173ms/step - loss: 0.4143 - acc: 0.8145 - val_loss: 0.4356 - val_acc: 0.8020\n",
            "Epoch 34/50\n",
            "100/100 [==============================] - 17s 170ms/step - loss: 0.4077 - acc: 0.8245 - val_loss: 0.5114 - val_acc: 0.7760\n",
            "Epoch 35/50\n",
            "100/100 [==============================] - 17s 168ms/step - loss: 0.3926 - acc: 0.8325 - val_loss: 0.5000 - val_acc: 0.8140\n",
            "Epoch 36/50\n",
            "100/100 [==============================] - 17s 167ms/step - loss: 0.4115 - acc: 0.8205 - val_loss: 0.4600 - val_acc: 0.8120\n",
            "Epoch 37/50\n",
            "100/100 [==============================] - 17s 170ms/step - loss: 0.3965 - acc: 0.8315 - val_loss: 0.4627 - val_acc: 0.8100\n",
            "Epoch 38/50\n",
            "100/100 [==============================] - 17s 169ms/step - loss: 0.4161 - acc: 0.8280 - val_loss: 0.4608 - val_acc: 0.8070\n",
            "Epoch 39/50\n",
            "100/100 [==============================] - 17s 168ms/step - loss: 0.4027 - acc: 0.8280 - val_loss: 0.6032 - val_acc: 0.7770\n",
            "Epoch 40/50\n",
            "100/100 [==============================] - 17s 169ms/step - loss: 0.4033 - acc: 0.8345 - val_loss: 0.7714 - val_acc: 0.7390\n",
            "Epoch 41/50\n",
            "100/100 [==============================] - 17s 173ms/step - loss: 0.4182 - acc: 0.8275 - val_loss: 0.4692 - val_acc: 0.8110\n",
            "Epoch 42/50\n",
            "100/100 [==============================] - 17s 171ms/step - loss: 0.3881 - acc: 0.8385 - val_loss: 0.4574 - val_acc: 0.7870\n",
            "Epoch 43/50\n",
            "100/100 [==============================] - 17s 170ms/step - loss: 0.3938 - acc: 0.8380 - val_loss: 0.7833 - val_acc: 0.7520\n",
            "Epoch 44/50\n",
            "100/100 [==============================] - 17s 170ms/step - loss: 0.3801 - acc: 0.8405 - val_loss: 0.4674 - val_acc: 0.8180\n",
            "Epoch 45/50\n",
            "100/100 [==============================] - 17s 171ms/step - loss: 0.3993 - acc: 0.8210 - val_loss: 0.4479 - val_acc: 0.8230\n",
            "Epoch 46/50\n",
            "100/100 [==============================] - 17s 170ms/step - loss: 0.3766 - acc: 0.8375 - val_loss: 0.7668 - val_acc: 0.7880\n",
            "Epoch 47/50\n",
            "100/100 [==============================] - 17s 172ms/step - loss: 0.3931 - acc: 0.8305 - val_loss: 0.5542 - val_acc: 0.7520\n",
            "Epoch 48/50\n",
            "100/100 [==============================] - 17s 171ms/step - loss: 0.3931 - acc: 0.8390 - val_loss: 0.4551 - val_acc: 0.7900\n",
            "Epoch 49/50\n",
            "100/100 [==============================] - 17s 170ms/step - loss: 0.3964 - acc: 0.8355 - val_loss: 0.6064 - val_acc: 0.7880\n",
            "Epoch 50/50\n",
            "100/100 [==============================] - 17s 169ms/step - loss: 0.3899 - acc: 0.8375 - val_loss: 0.5159 - val_acc: 0.7940\n"
          ]
        }
      ]
    },
    {
      "cell_type": "markdown",
      "metadata": {
        "id": "1LTWMLV6SUvP"
      },
      "source": [
        "Note that with data augmentation in place, the 2,000 training images are randomly transformed each time a new training epoch runs, which means that the model will never see the same image twice during training."
      ]
    },
    {
      "cell_type": "markdown",
      "metadata": {
        "id": "IZqvC9UJlWc2"
      },
      "source": [
        "## Evaluate the Results\n",
        "\n",
        "Let's evaluate the results of model training with data augmentation and dropout:"
      ]
    },
    {
      "cell_type": "code",
      "metadata": {
        "id": "NKCjHegASXaA",
        "colab": {
          "base_uri": "https://localhost:8080/",
          "height": 562
        },
        "outputId": "04af0674-e8d3-4d2c-d2b5-ea31ce94370b"
      },
      "source": [
        "from matplotlib import pyplot as plt\n",
        "\n",
        "# Retrieve a list of accuracy results on training and validation data\n",
        "# sets for each training epoch\n",
        "acc = history.history['acc']\n",
        "val_acc = history.history['val_acc']\n",
        "\n",
        "# Retrieve a list of list results on training and validation data\n",
        "# sets for each training epoch\n",
        "loss = history.history['loss']\n",
        "val_loss = history.history['val_loss']\n",
        "\n",
        "# Get number of epochs\n",
        "epochs = range(len(acc))\n",
        "\n",
        "# Plot training and validation accuracy per epoch\n",
        "plt.plot(epochs, acc)\n",
        "plt.plot(epochs, val_acc)\n",
        "plt.title('Training and validation accuracy')\n",
        "\n",
        "plt.figure()\n",
        "\n",
        "# Plot training and validation loss per epoch\n",
        "plt.plot(epochs, loss)\n",
        "plt.plot(epochs, val_loss)\n",
        "plt.title('Training and validation loss')"
      ],
      "execution_count": null,
      "outputs": [
        {
          "output_type": "execute_result",
          "data": {
            "text/plain": [
              "Text(0.5, 1.0, 'Training and validation loss')"
            ]
          },
          "metadata": {},
          "execution_count": 52
        },
        {
          "output_type": "display_data",
          "data": {
            "text/plain": [
              "<Figure size 432x288 with 1 Axes>"
            ],
            "image/png": "[encoded data removed]"
          },
          "metadata": {
            "needs_background": "light"
          }
        },
        {
          "output_type": "display_data",
          "data": {
            "text/plain": [
              "<Figure size 432x288 with 1 Axes>"
            ],
            "image/png": "[encoded data removed]"
          },
          "metadata": {
            "needs_background": "light"
          }
        }
      ]
    },
    {
      "cell_type": "code",
      "source": [],
      "metadata": {
        "id": "xww7FMaBVr9j"
      },
      "execution_count": null,
      "outputs": []
    }
  ]
}