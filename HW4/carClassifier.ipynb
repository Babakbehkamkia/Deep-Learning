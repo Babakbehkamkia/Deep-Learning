{
  "cells": [
    {
      "cell_type": "code",
      "execution_count": 1,
      "metadata": {
        "id": "02ik9B4YDzpA"
      },
      "outputs": [],
      "source": [
        "import sys\n",
        "import glob\n",
        "import cv2\n",
        "import numpy as np\n",
        "import os\n",
        "\n",
        "from shutil import copytree\n",
        "from shutil import rmtree\n",
        "\n",
        "\n",
        "\n",
        "import pickle\n",
        "import math, re\n",
        "from os import path\n",
        "\n",
        "import tensorflow as tf\n",
        "import tensorflow.keras as keras\n",
        "from keras_preprocessing.image import ImageDataGenerator\n",
        "from tensorflow.keras import layers\n",
        "from tensorflow.keras import Sequential, Model\n",
        "from sklearn.model_selection import train_test_split\n",
        "from tensorflow.keras.callbacks import EarlyStopping, ReduceLROnPlateau, ModelCheckpoint\n",
        "from tensorflow.keras.losses import CategoricalCrossentropy\n",
        "from tensorflow.keras.optimizers import Adamax, RMSprop\n",
        "import matplotlib.pyplot as plt\n",
        "\n",
        "import pandas as pd\n",
        "import random\n",
        "import shutil\n",
        "import pathlib"
      ]
    },
    {
      "cell_type": "code",
      "execution_count": 2,
      "metadata": {
        "colab": {
          "base_uri": "https://localhost:8080/"
        },
        "id": "lFMxKu0XbIi9",
        "outputId": "486be4fe-8570-48b1-bca9-aa74ee6f6e5e"
      },
      "outputs": [
        {
          "output_type": "stream",
          "name": "stdout",
          "text": [
            "Mounted at /content/drive/\n",
            "UnZip 6.00 of 20 April 2009, by Debian. Original by Info-ZIP.\n",
            "\n",
            "Usage: unzip [-Z] [-opts[modifiers]] file[.zip] [list] [-x xlist] [-d exdir]\n",
            "  Default action is to extract files in list, except those in xlist, to exdir;\n",
            "  file[.zip] may be a wildcard.  -Z => ZipInfo mode (\"unzip -Z\" for usage).\n",
            "\n",
            "  -p  extract files to pipe, no messages     -l  list files (short format)\n",
            "  -f  freshen existing files, create none    -t  test compressed archive data\n",
            "  -u  update files, create if necessary      -z  display archive comment only\n",
            "  -v  list verbosely/show version info       -T  timestamp archive to latest\n",
            "  -x  exclude files that follow (in xlist)   -d  extract files into exdir\n",
            "modifiers:\n",
            "  -n  never overwrite existing files         -q  quiet mode (-qq => quieter)\n",
            "  -o  overwrite files WITHOUT prompting      -a  auto-convert any text files\n",
            "  -j  junk paths (do not make directories)   -aa treat ALL files as text\n",
            "  -U  use escapes for all non-ASCII Unicode  -UU ignore any Unicode fields\n",
            "  -C  match filenames case-insensitively     -L  make (some) names lowercase\n",
            "  -X  restore UID/GID info                   -V  retain VMS version numbers\n",
            "  -K  keep setuid/setgid/tacky permissions   -M  pipe through \"more\" pager\n",
            "  -O CHARSET  specify a character encoding for DOS, Windows and OS/2 archives\n",
            "  -I CHARSET  specify a character encoding for UNIX and other archives\n",
            "\n",
            "See \"unzip -hh\" or unzip.txt for more help.  Examples:\n",
            "  unzip data1 -x joe   => extract all files except joe from zipfile data1.zip\n",
            "  unzip -p foo | more  => send contents of foo.zip via pipe into program more\n",
            "  unzip -fo foo ReadMe => quietly replace existing ReadMe if archive file newer\n"
          ]
        }
      ],
      "source": [
        "import zipfile\n",
        "from google.colab import drive\n",
        "\n",
        "drive.mount('/content/drive/')\n",
        "\n",
        "path = \"/content/drive/My Drive/DL course/HW4/\"\n",
        "\n",
        "!unzip "
      ]
    },
    {
      "cell_type": "code",
      "execution_count": null,
      "metadata": {
        "id": "73YMRY0i2-lW"
      },
      "outputs": [],
      "source": []
    },
    {
      "cell_type": "markdown",
      "metadata": {
        "id": "k7trQz3vOvt0"
      },
      "source": [
        "## **Data preparation**\n",
        "\n",
        "In this cell you're going to:\n",
        "1.   Read images\n",
        "2.   Preprocess them\n",
        "3.   Create labels from the dirs.\n",
        "\n",
        "Don't forget to create test, val and train sets\n",
        "\n",
        "Split them appropriately\n",
        "\n",
        "If you want to use **ImageDataGenerator** please write your final dataset in a directory\n"
      ]
    },
    {
      "cell_type": "code",
      "execution_count": null,
      "metadata": {
        "colab": {
          "base_uri": "https://localhost:8080/"
        },
        "id": "Qt4KWkQp1oRV",
        "outputId": "88ddb56b-4539-41d0-bf2e-e815bfafcd99"
      },
      "outputs": [
        {
          "name": "stdout",
          "output_type": "stream",
          "text": [
            "\n",
            "mazda_3\n",
            "kia_cerato\n",
            "peugeot_206\n",
            "saipa_saina\n",
            "iranKhodro_dena\n"
          ]
        }
      ],
      "source": [
        "images = []\n",
        "labels = []\n",
        "\n",
        "for root, dirs, files in os.walk(path + \"data/dataset/\"):\n",
        "    print(os.path.basename(root))\n",
        "    label = os.path.basename(root)\n",
        "\n",
        "    for file_ in files:\n",
        "        full_file_path = os.path.join(root, file_)\n",
        "        img = cv2.imread(full_file_path)\n",
        "        img = cv2.cvtColor(img, cv2.COLOR_BGR2RGB)\n",
        "        s = img.shape\n",
        "        if s[0] < 300 or s[1] < 300:\n",
        "            continue\n",
        "        images.append(img[:300, :300])\n",
        "        labels.append(label)"
      ]
    },
    {
      "cell_type": "code",
      "execution_count": null,
      "metadata": {
        "id": "Uapi4vFf6m6n"
      },
      "outputs": [],
      "source": [
        "import numpy as np\n",
        "from sklearn.model_selection import train_test_split\n",
        "\n",
        "X_train, X_test, y_train, y_test = train_test_split(images, labels, test_size=0.2, random_state=42)"
      ]
    },
    {
      "cell_type": "code",
      "execution_count": null,
      "metadata": {
        "id": "XVdJAR3H8OlW"
      },
      "outputs": [],
      "source": [
        "X_train, X_val, y_train, y_val = train_test_split(X_train, y_train, test_size=0.2, random_state=42)"
      ]
    },
    {
      "cell_type": "code",
      "execution_count": null,
      "metadata": {
        "colab": {
          "base_uri": "https://localhost:8080/"
        },
        "id": "lH9SYyQC-6TH",
        "outputId": "e312b88b-6d56-4a91-a217-c64054038610"
      },
      "outputs": [
        {
          "data": {
            "text/plain": [
              "(300, 300, 3)"
            ]
          },
          "execution_count": 8,
          "metadata": {},
          "output_type": "execute_result"
        }
      ],
      "source": [
        "X_train[6].shape"
      ]
    },
    {
      "cell_type": "code",
      "execution_count": null,
      "metadata": {
        "id": "laImrt9ABh_0"
      },
      "outputs": [],
      "source": [
        "X_train = [X_train]"
      ]
    },
    {
      "cell_type": "code",
      "execution_count": null,
      "metadata": {
        "id": "eme9-56w8aQm"
      },
      "outputs": [],
      "source": [
        "X_train = np.concatenate(X_train, axis=0 )"
      ]
    },
    {
      "cell_type": "code",
      "execution_count": null,
      "metadata": {
        "colab": {
          "base_uri": "https://localhost:8080/"
        },
        "id": "3EOcuHlu9381",
        "outputId": "dd5f22b2-60a1-41a3-ef0d-40b3d09fac08"
      },
      "outputs": [
        {
          "data": {
            "text/plain": [
              "(1254, 300, 300, 3)"
            ]
          },
          "execution_count": 11,
          "metadata": {},
          "output_type": "execute_result"
        }
      ],
      "source": [
        "X_train.shape"
      ]
    },
    {
      "cell_type": "code",
      "execution_count": 8,
      "metadata": {
        "colab": {
          "base_uri": "https://localhost:8080/"
        },
        "id": "Wvj93O5uOq5Q",
        "outputId": "231660c3-0128-4370-cc4c-f4c00edae502"
      },
      "outputs": [
        {
          "output_type": "stream",
          "name": "stdout",
          "text": [
            "Found 2102 images belonging to 5 classes.\n"
          ]
        }
      ],
      "source": [
        "#####################################\n",
        "##### Your implementation here ######\n",
        "\n",
        "\n",
        "\n",
        "#####################################"
      ]
    },
    {
      "cell_type": "markdown",
      "metadata": {
        "id": "wGRHt1xKQl5I"
      },
      "source": [
        "## **Define global variable**\n",
        "\n",
        "Feel free to change them"
      ]
    },
    {
      "cell_type": "code",
      "execution_count": 3,
      "metadata": {
        "id": "LgKAYMVDQO2r"
      },
      "outputs": [],
      "source": [
        "num_classes = 5\n",
        "EPOCHS = 150\n",
        "BATCH_SIZE = 20\n",
        "\n",
        "BASE_FOLDER = './data/'"
      ]
    },
    {
      "cell_type": "markdown",
      "metadata": {
        "id": "EcK030kfTjlH"
      },
      "source": [
        "## **Create your own CNN model**"
      ]
    },
    {
      "cell_type": "code",
      "execution_count": null,
      "metadata": {
        "id": "Fd_B3oMsRUWk"
      },
      "outputs": [],
      "source": [
        "def create_cnn_model():\n",
        "  '''\n",
        "  In this function you should create your CNN model and define layers\n",
        "  via Sequential or Functional API\n",
        "  \n",
        "  Feel free to set hyperparameters of model as you desired\n",
        "\n",
        "  Then compile your model and define optimizer ans loss function\n",
        "\n",
        "  Please set your metrices to monitor the accuracy\n",
        "\n",
        "  At the end of the code please print the summary of the model\n",
        "\n",
        "  Arguments:\n",
        "  output: created model\n",
        "  '''\n",
        "  #####################################\n",
        "  ##### Your implementation here ######\n",
        "\n",
        "  model = Sequential([\n",
        "                    layers.Conv2D(16,3,padding='SAME',activation=\"relu\",input_shape=(224,224,3)),\n",
        "                    layers.MaxPooling2D(2),\n",
        "                    layers.Conv2D(32,3,padding='SAME',activation=\"relu\"),\n",
        "                    layers.MaxPooling2D(2),\n",
        "                    # layers.Conv2D(64,3,padding='SAME',activation=\"relu\"),\n",
        "                    # layers.MaxPooling2D(2),\n",
        "                    layers.Flatten(),\n",
        "                    layers.Dense(32,activation=\"relu\"),\n",
        "                    layers.Dense(5,activation=\"softmax\")\n",
        "  ])\n",
        "\n",
        "  \n",
        "  model.compile(\n",
        "      optimizer='adam',\n",
        "      loss='categorical_crossentropy',\n",
        "      metrics=['accuracy']\n",
        "  )\n",
        "\n",
        "  print(model.summary())\n",
        "\n",
        "\n",
        "  #####################################\n",
        "  return model\n",
        "  "
      ]
    },
    {
      "cell_type": "code",
      "execution_count": 13,
      "metadata": {
        "id": "k2mnIG0MSe_4"
      },
      "outputs": [],
      "source": [
        "def create_callbacks():\n",
        "  '''\n",
        "  We prefer use three of the callbacks in the keras API\n",
        "\n",
        "  1. early stopping: take a look at https://keras.io/api/callbacks/early_stopping/\n",
        "  2. reduce_lr: take a look at https://keras.io/api/callbacks/reduce_lr_on_plateau/\n",
        "  3. model_checkpoints: take a look at https://keras.io/api/callbacks/model_checkpoint/\n",
        "\n",
        "  Arguments:\n",
        "    output: a list of callbacks\n",
        "\n",
        "  '''\n",
        "  #####################################\n",
        "  ##### Your implementation here ######  \n",
        "  callback = tf.keras.callbacks.EarlyStopping(monitor='loss', patience=3)\n",
        "  reduce_lr = ReduceLROnPlateau(monitor='val_loss', factor=0.2,\n",
        "                              patience=5, min_lr=0.001)\n",
        "  model_checkpoint_callback = tf.keras.callbacks.ModelCheckpoint(\n",
        "      'models/my_model.hdf5',\n",
        "      monitor=\"val_accuracy\",\n",
        "      save_best_only=True)\n",
        "\n",
        "  callbacks = [\n",
        "      callback,\n",
        "      reduce_lr,\n",
        "      model_checkpoint_callback\n",
        "  ]\n",
        "\n",
        "\n",
        "  #####################################\n",
        "\n",
        "  return callbacks"
      ]
    },
    {
      "cell_type": "code",
      "execution_count": 14,
      "metadata": {
        "id": "5kDFNRpkS-jg"
      },
      "outputs": [],
      "source": [
        "def train_model_naive_split():\n",
        "  '''\n",
        "  We need to first read our stored data then fit our created model with provided callbacks\n",
        "\n",
        "  For this use the https://www.tensorflow.org/api_docs/python/tf/keras/preprocessing/image/ImageDataGenerator function\n",
        "\n",
        "  You can load your data in a way you feel comfortable and there is no force to use this methods\n",
        "\n",
        "  outputs: The History of the training process\n",
        "  '''\n",
        "  #####################################\n",
        "  ##### Your implementation here ######  \n",
        "\n",
        "  train_datagen = ImageDataGenerator(rescale=1./255,\n",
        "                                     rotation_range=5,\n",
        "                                      width_shift_range=0.2,\n",
        "                                      height_shift_range=0.2,\n",
        "                                      zoom_range=0.2,\n",
        "                                      horizontal_flip=True,\n",
        "                                      brightness_range=[0.2,0.8])\n",
        "\n",
        "  train_generator = train_datagen.flow_from_directory(directory=path + \"data/train/\",\n",
        "                                                      target_size=(224, 224),\n",
        "                                                      color_mode=\"rgb\",\n",
        "                                                      batch_size=32,\n",
        "                                                      class_mode=\"categorical\",\n",
        "                                                      shuffle=True,\n",
        "                                                      seed=42\n",
        "                                                  )\n",
        "\n",
        "  validation_datagen = ImageDataGenerator(rescale=1./255)\n",
        "\n",
        "  validation_generator = validation_datagen.flow_from_directory(directory=path + \"data/validation/\",\n",
        "                                                                target_size=(224, 224),\n",
        "                                                                color_mode=\"rgb\",\n",
        "                                                                batch_size=32,\n",
        "                                                                class_mode=\"categorical\",\n",
        "                                                                shuffle=True,\n",
        "                                                                seed=42\n",
        "                                                            )\n",
        "\n",
        "  model = create_cnn_model()\n",
        "\n",
        "  STEP_SIZE_TRAIN=train_generator.n//train_generator.batch_size\n",
        "  STEP_SIZE_VALID=validation_generator.n//validation_generator.batch_size\n",
        "\n",
        "\n",
        "  history =  model.fit_generator(generator=train_generator,\n",
        "                                  steps_per_epoch=STEP_SIZE_TRAIN,\n",
        "                                  validation_data=validation_generator,\n",
        "                                  validation_steps=STEP_SIZE_VALID,\n",
        "                                  epochs=50,\n",
        "                                  verbose=2,\n",
        "                                  callbacks=create_callbacks()\n",
        "                                )\n",
        "\n",
        "  #####################################\n",
        "\n",
        "  return history"
      ]
    },
    {
      "cell_type": "code",
      "execution_count": 15,
      "metadata": {
        "id": "MFczBeEqWWnH",
        "colab": {
          "base_uri": "https://localhost:8080/"
        },
        "outputId": "e0b0c7c1-c26e-4a2d-f9fc-25387240aba5"
      },
      "outputs": [
        {
          "metadata": {
            "tags": null
          },
          "name": "stdout",
          "output_type": "stream",
          "text": [
            "Found 1622 images belonging to 5 classes.\n",
            "Found 225 images belonging to 5 classes.\n",
            "Model: \"sequential_3\"\n",
            "_________________________________________________________________\n",
            " Layer (type)                Output Shape              Param #   \n",
            "=================================================================\n",
            " conv2d_6 (Conv2D)           (None, 224, 224, 16)      448       \n",
            "                                                                 \n",
            " max_pooling2d_6 (MaxPooling  (None, 112, 112, 16)     0         \n",
            " 2D)                                                             \n",
            "                                                                 \n",
            " conv2d_7 (Conv2D)           (None, 112, 112, 32)      4640      \n",
            "                                                                 \n",
            " max_pooling2d_7 (MaxPooling  (None, 56, 56, 32)       0         \n",
            " 2D)                                                             \n",
            "                                                                 \n",
            " flatten_3 (Flatten)         (None, 100352)            0         \n",
            "                                                                 \n",
            " dense_6 (Dense)             (None, 32)                3211296   \n",
            "                                                                 \n",
            " dense_7 (Dense)             (None, 5)                 165       \n",
            "                                                                 \n",
            "=================================================================\n",
            "Total params: 3,216,549\n",
            "Trainable params: 3,216,549\n",
            "Non-trainable params: 0\n",
            "_________________________________________________________________\n",
            "None\n"
          ]
        },
        {
          "metadata": {
            "tags": null
          },
          "name": "stderr",
          "output_type": "stream",
          "text": [
            "<ipython-input-14-22f87df72833>:48: UserWarning: `Model.fit_generator` is deprecated and will be removed in a future version. Please use `Model.fit`, which supports generators.\n",
            "  history =  model.fit_generator(generator=train_generator,\n"
          ]
        },
        {
          "output_type": "stream",
          "name": "stdout",
          "text": [
            "Epoch 1/50\n",
            "50/50 - 31s - loss: 1.6675 - accuracy: 0.2358 - val_loss: 1.8711 - val_accuracy: 0.1696 - lr: 0.0010 - 31s/epoch - 622ms/step\n",
            "Epoch 2/50\n",
            "50/50 - 30s - loss: 1.5961 - accuracy: 0.2472 - val_loss: 1.5947 - val_accuracy: 0.2366 - lr: 0.0010 - 30s/epoch - 603ms/step\n",
            "Epoch 3/50\n",
            "50/50 - 30s - loss: 1.5775 - accuracy: 0.2843 - val_loss: 1.6275 - val_accuracy: 0.2277 - lr: 0.0010 - 30s/epoch - 606ms/step\n",
            "Epoch 4/50\n",
            "50/50 - 31s - loss: 1.5623 - accuracy: 0.2855 - val_loss: 1.5990 - val_accuracy: 0.2455 - lr: 0.0010 - 31s/epoch - 624ms/step\n",
            "Epoch 5/50\n",
            "50/50 - 30s - loss: 1.5471 - accuracy: 0.3088 - val_loss: 1.6096 - val_accuracy: 0.2768 - lr: 0.0010 - 30s/epoch - 610ms/step\n",
            "Epoch 6/50\n",
            "50/50 - 31s - loss: 1.5405 - accuracy: 0.3201 - val_loss: 1.5918 - val_accuracy: 0.2634 - lr: 0.0010 - 31s/epoch - 610ms/step\n",
            "Epoch 7/50\n",
            "50/50 - 30s - loss: 1.5423 - accuracy: 0.2981 - val_loss: 1.5998 - val_accuracy: 0.2768 - lr: 0.0010 - 30s/epoch - 609ms/step\n",
            "Epoch 8/50\n",
            "50/50 - 31s - loss: 1.5239 - accuracy: 0.3106 - val_loss: 1.7063 - val_accuracy: 0.2500 - lr: 0.0010 - 31s/epoch - 624ms/step\n",
            "Epoch 9/50\n",
            "50/50 - 31s - loss: 1.5144 - accuracy: 0.3145 - val_loss: 1.6848 - val_accuracy: 0.2411 - lr: 0.0010 - 31s/epoch - 621ms/step\n",
            "Epoch 10/50\n",
            "50/50 - 31s - loss: 1.5006 - accuracy: 0.3346 - val_loss: 1.7200 - val_accuracy: 0.2455 - lr: 0.0010 - 31s/epoch - 611ms/step\n",
            "Epoch 11/50\n",
            "50/50 - 30s - loss: 1.4876 - accuracy: 0.3497 - val_loss: 1.6689 - val_accuracy: 0.2946 - lr: 0.0010 - 30s/epoch - 605ms/step\n",
            "Epoch 12/50\n",
            "50/50 - 30s - loss: 1.4902 - accuracy: 0.3365 - val_loss: 1.5986 - val_accuracy: 0.3214 - lr: 0.0010 - 30s/epoch - 609ms/step\n",
            "Epoch 13/50\n",
            "50/50 - 32s - loss: 1.4909 - accuracy: 0.3371 - val_loss: 1.6053 - val_accuracy: 0.2902 - lr: 0.0010 - 32s/epoch - 634ms/step\n",
            "Epoch 14/50\n",
            "50/50 - 30s - loss: 1.4770 - accuracy: 0.3547 - val_loss: 1.5731 - val_accuracy: 0.3304 - lr: 0.0010 - 30s/epoch - 607ms/step\n",
            "Epoch 15/50\n",
            "50/50 - 30s - loss: 1.4531 - accuracy: 0.3610 - val_loss: 1.7040 - val_accuracy: 0.3125 - lr: 0.0010 - 30s/epoch - 603ms/step\n",
            "Epoch 16/50\n",
            "50/50 - 30s - loss: 1.4686 - accuracy: 0.3698 - val_loss: 1.5731 - val_accuracy: 0.3214 - lr: 0.0010 - 30s/epoch - 604ms/step\n",
            "Epoch 17/50\n",
            "50/50 - 31s - loss: 1.4685 - accuracy: 0.3500 - val_loss: 1.5303 - val_accuracy: 0.3527 - lr: 0.0010 - 31s/epoch - 628ms/step\n",
            "Epoch 18/50\n",
            "50/50 - 30s - loss: 1.4540 - accuracy: 0.3660 - val_loss: 1.5865 - val_accuracy: 0.3438 - lr: 0.0010 - 30s/epoch - 603ms/step\n"
          ]
        }
      ],
      "source": [
        "## Train the model\n",
        "\n",
        "history = train_model_naive_split()"
      ]
    },
    {
      "cell_type": "code",
      "source": [
        "  type(history)"
      ],
      "metadata": {
        "colab": {
          "base_uri": "https://localhost:8080/"
        },
        "id": "1xblthSfcoC8",
        "outputId": "f302af88-8932-444c-e27f-17ec3d13d4a7"
      },
      "execution_count": 16,
      "outputs": [
        {
          "output_type": "execute_result",
          "data": {
            "text/plain": [
              "keras.callbacks.History"
            ]
          },
          "metadata": {},
          "execution_count": 16
        }
      ]
    },
    {
      "cell_type": "code",
      "execution_count": 16,
      "metadata": {
        "id": "MRtRUeVsWeJR",
        "colab": {
          "base_uri": "https://localhost:8080/",
          "height": 545
        },
        "outputId": "0c61f897-7114-40a6-b402-ed3bc2d8324d"
      },
      "outputs": [
        {
          "output_type": "display_data",
          "data": {
            "text/plain": [
              "<Figure size 432x288 with 1 Axes>"
            ],
            "image/png": "[encoded data removed]"
          },
          "metadata": {
            "needs_background": "light"
          }
        },
        {
          "output_type": "display_data",
          "data": {
            "text/plain": [
              "<Figure size 432x288 with 1 Axes>"
            ],
            "image/png": "[encoded data removed]"
          },
          "metadata": {
            "needs_background": "light"
          }
        }
      ],
      "source": [
        "## just run the bellow cell and see the acc and loss plots\n",
        "\n",
        "acc = history.history['accuracy']\n",
        "val_acc = history.history['val_accuracy']\n",
        "loss = history.history['loss']\n",
        "val_loss = history.history['val_loss']\n",
        "\n",
        "epochs = range(len(acc))\n",
        "\n",
        "plt.plot(epochs, acc, 'r', label='Training accuracy')\n",
        "plt.plot(epochs, val_acc, 'b', label='Validation accuracy')\n",
        "plt.title('Training and validation accuracy')\n",
        "plt.legend()\n",
        "\n",
        "plt.figure()\n",
        "\n",
        "plt.plot(epochs, loss, 'r', label='Training Loss')\n",
        "plt.plot(epochs, val_loss, 'b', label='Validation Loss')\n",
        "plt.title('Training and validation loss')\n",
        "plt.legend()\n",
        "\n",
        "plt.show()"
      ]
    },
    {
      "cell_type": "code",
      "execution_count": 17,
      "metadata": {
        "id": "5iEUcT-yWtPl"
      },
      "outputs": [],
      "source": [
        "def load_and_predict(model, path):\n",
        "  '''\n",
        "  This function is used to generate the models predictions on test data\n",
        "\n",
        "  If you loaded your data in other way please change the function to produce your predictions correctly\n",
        "\n",
        "  If not, just run the cell\n",
        "  '''\n",
        "  test_generator = ImageDataGenerator(rescale=1. / 255)\n",
        "\n",
        "  test_iterator = test_generator.flow_from_directory(\n",
        "        path,\n",
        "        target_size=(224, 224),\n",
        "        shuffle=False,\n",
        "        class_mode='categorical',\n",
        "        batch_size=1) \n",
        "\n",
        "  ids = []\n",
        "  for filename in test_iterator.filenames:\n",
        "    print(filename)\n",
        "    ids.append(filename)\n",
        "\n",
        "  predict_result = model.predict(test_iterator, steps=len(test_iterator.filenames))\n",
        "  predictions = []\n",
        "  for index, prediction in enumerate(predict_result):\n",
        "    classes = np.argmax(prediction)\n",
        "    predictions.append([ids[index], classes])\n",
        "  predictions.sort()\n",
        "\n",
        "  return predictions"
      ]
    },
    {
      "cell_type": "code",
      "execution_count": 18,
      "metadata": {
        "id": "JnnoIf87Yrau"
      },
      "outputs": [],
      "source": [
        "def store_prediction(model_path, test_data_path, result_path):\n",
        "  '''\n",
        "  A function to run the load and predict function\n",
        "\n",
        "  just run the cell\n",
        "  '''\n",
        "  model = keras.models.load_model(model_path, compile = True)\n",
        "\n",
        "  predictions = load_and_predict(model, test_data_path)\n",
        "\n",
        "  df = pd.DataFrame(data=predictions, columns=['image_id', 'label'])\n",
        "  df = df.set_index(['image_id'])\n",
        "\n",
        "  print(df.head())\n",
        "  print('Writing submission')\n",
        "  df.to_csv(result_path)"
      ]
    },
    {
      "cell_type": "code",
      "execution_count": 23,
      "metadata": {
        "id": "nQJQGX8JW60A",
        "colab": {
          "base_uri": "https://localhost:8080/"
        },
        "outputId": "ffefa9c2-2c26-49cd-d2d8-72df5c4a3cce"
      },
      "outputs": [
        {
          "output_type": "stream",
          "name": "stdout",
          "text": [
            "Found 255 images belonging to 5 classes.\n",
            "iranKhodro_dena/1.jpg\n",
            "iranKhodro_dena/10.jpg\n",
            "iranKhodro_dena/11.jpg\n",
            "iranKhodro_dena/12.jpg\n",
            "iranKhodro_dena/13.jpg\n",
            "iranKhodro_dena/14.jpg\n",
            "iranKhodro_dena/15.jpg\n",
            "iranKhodro_dena/16.jpg\n",
            "iranKhodro_dena/17.jpg\n",
            "iranKhodro_dena/18.jpg\n",
            "iranKhodro_dena/19.jpg\n",
            "iranKhodro_dena/2.jpg\n",
            "iranKhodro_dena/20.jpg\n",
            "iranKhodro_dena/21.jpg\n",
            "iranKhodro_dena/22.jpg\n",
            "iranKhodro_dena/23.jpg\n",
            "iranKhodro_dena/24.jpg\n",
            "iranKhodro_dena/25.jpg\n",
            "iranKhodro_dena/26.jpg\n",
            "iranKhodro_dena/27.jpg\n",
            "iranKhodro_dena/28.jpg\n",
            "iranKhodro_dena/29.jpg\n",
            "iranKhodro_dena/3.jpg\n",
            "iranKhodro_dena/30.jpg\n",
            "iranKhodro_dena/31.jpg\n",
            "iranKhodro_dena/32.jpg\n",
            "iranKhodro_dena/33.jpg\n",
            "iranKhodro_dena/34.jpg\n",
            "iranKhodro_dena/35.jpg\n",
            "iranKhodro_dena/36.jpg\n",
            "iranKhodro_dena/37.jpg\n",
            "iranKhodro_dena/38.jpg\n",
            "iranKhodro_dena/39.jpg\n",
            "iranKhodro_dena/4.jpg\n",
            "iranKhodro_dena/40.jpg\n",
            "iranKhodro_dena/41.jpg\n",
            "iranKhodro_dena/42.jpg\n",
            "iranKhodro_dena/43.jpg\n",
            "iranKhodro_dena/44.jpg\n",
            "iranKhodro_dena/45.jpg\n",
            "iranKhodro_dena/46.jpg\n",
            "iranKhodro_dena/47.jpg\n",
            "iranKhodro_dena/48.jpg\n",
            "iranKhodro_dena/49.jpg\n",
            "iranKhodro_dena/5.jpg\n",
            "iranKhodro_dena/50.jpg\n",
            "iranKhodro_dena/51.jpg\n",
            "iranKhodro_dena/52.jpg\n",
            "iranKhodro_dena/53.jpg\n",
            "iranKhodro_dena/54.jpg\n",
            "iranKhodro_dena/55.jpg\n",
            "iranKhodro_dena/6.jpg\n",
            "iranKhodro_dena/7.jpg\n",
            "iranKhodro_dena/8.jpg\n",
            "iranKhodro_dena/9.jpg\n",
            "kia_cerato/1.jpg\n",
            "kia_cerato/10.jpg\n",
            "kia_cerato/11.jpg\n",
            "kia_cerato/12.jpg\n",
            "kia_cerato/13.jpg\n",
            "kia_cerato/14.jpg\n",
            "kia_cerato/15.jpg\n",
            "kia_cerato/16.jpg\n",
            "kia_cerato/17.jpg\n",
            "kia_cerato/18.jpg\n",
            "kia_cerato/19.jpg\n",
            "kia_cerato/2.jpg\n",
            "kia_cerato/20.jpg\n",
            "kia_cerato/21.jpg\n",
            "kia_cerato/22.jpg\n",
            "kia_cerato/23.jpg\n",
            "kia_cerato/24.jpg\n",
            "kia_cerato/25.jpg\n",
            "kia_cerato/26.jpg\n",
            "kia_cerato/27.jpg\n",
            "kia_cerato/28.jpg\n",
            "kia_cerato/29.jpg\n",
            "kia_cerato/3.jpg\n",
            "kia_cerato/30.jpg\n",
            "kia_cerato/31.jpg\n",
            "kia_cerato/32.jpg\n",
            "kia_cerato/33.jpg\n",
            "kia_cerato/34.jpg\n",
            "kia_cerato/35.jpg\n",
            "kia_cerato/36.jpg\n",
            "kia_cerato/37.jpg\n",
            "kia_cerato/38.jpg\n",
            "kia_cerato/39.jpg\n",
            "kia_cerato/4.jpg\n",
            "kia_cerato/40.jpg\n",
            "kia_cerato/41.jpg\n",
            "kia_cerato/42.jpg\n",
            "kia_cerato/43.jpg\n",
            "kia_cerato/44.jpg\n",
            "kia_cerato/45.jpg\n",
            "kia_cerato/46.jpg\n",
            "kia_cerato/47.jpg\n",
            "kia_cerato/48.jpg\n",
            "kia_cerato/49.jpg\n",
            "kia_cerato/5.jpg\n",
            "kia_cerato/50.jpg\n",
            "kia_cerato/6.jpg\n",
            "kia_cerato/7.jpg\n",
            "kia_cerato/8.jpg\n",
            "kia_cerato/9.jpg\n",
            "mazda_3/1.jpg\n",
            "mazda_3/10.jpg\n",
            "mazda_3/11.jpg\n",
            "mazda_3/12.jpg\n",
            "mazda_3/13.jpg\n",
            "mazda_3/14.jpg\n",
            "mazda_3/15.jpg\n",
            "mazda_3/16.jpg\n",
            "mazda_3/17.jpg\n",
            "mazda_3/18.jpg\n",
            "mazda_3/19.jpg\n",
            "mazda_3/2.jpg\n",
            "mazda_3/20.jpg\n",
            "mazda_3/21.jpg\n",
            "mazda_3/22.jpg\n",
            "mazda_3/23.jpg\n",
            "mazda_3/24.jpg\n",
            "mazda_3/25.jpg\n",
            "mazda_3/26.jpg\n",
            "mazda_3/27.jpg\n",
            "mazda_3/28.jpg\n",
            "mazda_3/29.jpg\n",
            "mazda_3/3.jpg\n",
            "mazda_3/30.jpg\n",
            "mazda_3/31.jpg\n",
            "mazda_3/32.jpg\n",
            "mazda_3/33.jpg\n",
            "mazda_3/34.jpg\n",
            "mazda_3/35.jpg\n",
            "mazda_3/36.jpg\n",
            "mazda_3/37.jpg\n",
            "mazda_3/38.jpg\n",
            "mazda_3/39.jpg\n",
            "mazda_3/4.jpg\n",
            "mazda_3/40.jpg\n",
            "mazda_3/41.jpg\n",
            "mazda_3/42.jpg\n",
            "mazda_3/43.jpg\n",
            "mazda_3/44.jpg\n",
            "mazda_3/45.jpg\n",
            "mazda_3/46.jpg\n",
            "mazda_3/47.jpg\n",
            "mazda_3/48.jpg\n",
            "mazda_3/49.jpg\n",
            "mazda_3/5.jpg\n",
            "mazda_3/50.jpg\n",
            "mazda_3/6.jpg\n",
            "mazda_3/7.jpg\n",
            "mazda_3/8.jpg\n",
            "mazda_3/9.jpg\n",
            "peugeot_206/1.jpg\n",
            "peugeot_206/10.jpg\n",
            "peugeot_206/11.jpg\n",
            "peugeot_206/12.jpg\n",
            "peugeot_206/13.jpg\n",
            "peugeot_206/14.jpg\n",
            "peugeot_206/15.jpg\n",
            "peugeot_206/16.jpg\n",
            "peugeot_206/17.jpg\n",
            "peugeot_206/18.jpg\n",
            "peugeot_206/19.jpg\n",
            "peugeot_206/2.jpg\n",
            "peugeot_206/20.jpg\n",
            "peugeot_206/21.jpg\n",
            "peugeot_206/22.jpg\n",
            "peugeot_206/23.jpg\n",
            "peugeot_206/24.jpg\n",
            "peugeot_206/25.jpg\n",
            "peugeot_206/26.jpg\n",
            "peugeot_206/27.jpg\n",
            "peugeot_206/28.jpg\n",
            "peugeot_206/29.jpg\n",
            "peugeot_206/3.jpg\n",
            "peugeot_206/30.jpg\n",
            "peugeot_206/31.jpg\n",
            "peugeot_206/32.jpg\n",
            "peugeot_206/33.jpg\n",
            "peugeot_206/34.jpg\n",
            "peugeot_206/35.jpg\n",
            "peugeot_206/36.jpg\n",
            "peugeot_206/37.jpg\n",
            "peugeot_206/38.jpg\n",
            "peugeot_206/39.jpg\n",
            "peugeot_206/4.jpg\n",
            "peugeot_206/40.jpg\n",
            "peugeot_206/41.jpg\n",
            "peugeot_206/42.jpg\n",
            "peugeot_206/43.jpg\n",
            "peugeot_206/44.jpg\n",
            "peugeot_206/45.jpg\n",
            "peugeot_206/46.jpg\n",
            "peugeot_206/47.jpg\n",
            "peugeot_206/48.jpg\n",
            "peugeot_206/49.jpg\n",
            "peugeot_206/5.jpg\n",
            "peugeot_206/50.jpg\n",
            "peugeot_206/6.jpg\n",
            "peugeot_206/7.jpg\n",
            "peugeot_206/8.jpg\n",
            "peugeot_206/9.jpg\n",
            "saipa_saina/1.jpg\n",
            "saipa_saina/10.jpg\n",
            "saipa_saina/11.jpg\n",
            "saipa_saina/12.jpg\n",
            "saipa_saina/13.jpg\n",
            "saipa_saina/14.jpg\n",
            "saipa_saina/15.jpg\n",
            "saipa_saina/16.jpg\n",
            "saipa_saina/17.jpg\n",
            "saipa_saina/18.jpg\n",
            "saipa_saina/19.jpg\n",
            "saipa_saina/2.jpg\n",
            "saipa_saina/20.jpg\n",
            "saipa_saina/21.jpg\n",
            "saipa_saina/22.jpg\n",
            "saipa_saina/23.jpg\n",
            "saipa_saina/24.jpg\n",
            "saipa_saina/25.jpg\n",
            "saipa_saina/26.jpg\n",
            "saipa_saina/27.jpg\n",
            "saipa_saina/28.jpg\n",
            "saipa_saina/29.jpg\n",
            "saipa_saina/3.jpg\n",
            "saipa_saina/30.jpg\n",
            "saipa_saina/31.jpg\n",
            "saipa_saina/32.jpg\n",
            "saipa_saina/33.jpg\n",
            "saipa_saina/34.jpg\n",
            "saipa_saina/35.jpg\n",
            "saipa_saina/36.jpg\n",
            "saipa_saina/37.jpg\n",
            "saipa_saina/38.jpg\n",
            "saipa_saina/39.jpg\n",
            "saipa_saina/4.jpg\n",
            "saipa_saina/40.jpg\n",
            "saipa_saina/41.jpg\n",
            "saipa_saina/42.jpg\n",
            "saipa_saina/43.jpg\n",
            "saipa_saina/44.jpg\n",
            "saipa_saina/45.jpg\n",
            "saipa_saina/46.jpg\n",
            "saipa_saina/47.jpg\n",
            "saipa_saina/48.jpg\n",
            "saipa_saina/49.jpg\n",
            "saipa_saina/5.jpg\n",
            "saipa_saina/50.jpg\n",
            "saipa_saina/6.jpg\n",
            "saipa_saina/7.jpg\n",
            "saipa_saina/8.jpg\n",
            "saipa_saina/9.jpg\n",
            "255/255 [==============================] - 2s 8ms/step\n",
            "                        label\n",
            "image_id                     \n",
            "iranKhodro_dena/1.jpg       4\n",
            "iranKhodro_dena/10.jpg      0\n",
            "iranKhodro_dena/11.jpg      1\n",
            "iranKhodro_dena/12.jpg      1\n",
            "iranKhodro_dena/13.jpg      1\n",
            "Writing submission\n"
          ]
        }
      ],
      "source": [
        "store_prediction('./models/my_model.hdf5', path + 'data/test/', './results.csv')"
      ]
    },
    {
      "cell_type": "markdown",
      "metadata": {
        "id": "DzosYT3jaWXY"
      },
      "source": [
        "Here your own CNN model implementation has done"
      ]
    },
    {
      "cell_type": "markdown",
      "metadata": {
        "id": "dmOU1p6KaVaP"
      },
      "source": [
        "## **Transfer learning from a pre-trained model**\n",
        "\n",
        "This implementation is as the same to the previous one except in the model creation and training sections\n",
        "\n",
        "So use the other ones for code simplicity "
      ]
    },
    {
      "cell_type": "code",
      "execution_count": 24,
      "metadata": {
        "id": "0wzy1GJsZ_Zs"
      },
      "outputs": [],
      "source": [
        "def create_cnn_model():\n",
        "  from keras.applications.mobilenet_v2 import MobileNetV2, preprocess_input\n",
        "  '''\n",
        "  In this function you need to implement a cnn model from pre-trained one\n",
        "\n",
        "  We recommand use the MobileNetV2 network\n",
        "\n",
        "  See the bellow link:\n",
        "\n",
        "  https://keras.io/api/applications/mobilenet/\n",
        "\n",
        "  don't forget to fine-tune the last layer\n",
        "\n",
        "  Use the imagenet weights\n",
        "\n",
        "  '''\n",
        "  #####################################\n",
        "  ##### Your implementation here ######    \n",
        "  MobileNetV2 = tf.keras.applications.MobileNetV2(input_shape=(224, 224, 3),\n",
        "                                            alpha=1.0,\n",
        "                                            include_top=False,\n",
        "                                            weights=\"imagenet\",\n",
        "                                            input_tensor=None,\n",
        "                                            pooling=None,\n",
        "                                            classes=5,\n",
        "                                            classifier_activation=\"softmax\",\n",
        "                                        )\n",
        "  \n",
        "  model = Sequential()\n",
        "  model.add(MobileNetV2)\n",
        "  model.add(layers.Flatten())\n",
        "  model.add(layers.Dense(5, activation='softmax'))\n",
        "  \n",
        "\n",
        "  model.compile(\n",
        "      optimizer='adam',\n",
        "      loss='categorical_crossentropy',\n",
        "      metrics=['accuracy']\n",
        "  )\n",
        "\n",
        "  print(model.summary())\n",
        "\n",
        "  #####################################\n",
        "  return model"
      ]
    },
    {
      "cell_type": "code",
      "execution_count": 25,
      "metadata": {
        "id": "YRGQaUKOdOv3",
        "colab": {
          "base_uri": "https://localhost:8080/"
        },
        "outputId": "9d59ecd1-8959-4d70-c4fb-68b42a0a813f"
      },
      "outputs": [
        {
          "metadata": {
            "tags": null
          },
          "name": "stdout",
          "output_type": "stream",
          "text": [
            "Found 1622 images belonging to 5 classes.\n",
            "Found 225 images belonging to 5 classes.\n",
            "Downloading data from https://storage.googleapis.com/tensorflow/keras-applications/mobilenet_v2/mobilenet_v2_weights_tf_dim_ordering_tf_kernels_1.0_224_no_top.h5\n",
            "9406464/9406464 [==============================] - 0s 0us/step\n",
            "Model: \"sequential_4\"\n",
            "_________________________________________________________________\n",
            " Layer (type)                Output Shape              Param #   \n",
            "=================================================================\n",
            " mobilenetv2_1.00_224 (Funct  (None, 7, 7, 1280)       2257984   \n",
            " ional)                                                          \n",
            "                                                                 \n",
            " flatten_4 (Flatten)         (None, 62720)             0         \n",
            "                                                                 \n",
            " dense_8 (Dense)             (None, 5)                 313605    \n",
            "                                                                 \n",
            "=================================================================\n",
            "Total params: 2,571,589\n",
            "Trainable params: 2,537,477\n",
            "Non-trainable params: 34,112\n",
            "_________________________________________________________________\n",
            "None\n"
          ]
        },
        {
          "metadata": {
            "tags": null
          },
          "name": "stderr",
          "output_type": "stream",
          "text": [
            "<ipython-input-14-22f87df72833>:48: UserWarning: `Model.fit_generator` is deprecated and will be removed in a future version. Please use `Model.fit`, which supports generators.\n",
            "  history =  model.fit_generator(generator=train_generator,\n"
          ]
        },
        {
          "output_type": "stream",
          "name": "stdout",
          "text": [
            "Epoch 1/50\n",
            "50/50 - 94s - loss: 2.1567 - accuracy: 0.4698 - val_loss: 50.5749 - val_accuracy: 0.2232 - lr: 0.0010 - 94s/epoch - 2s/step\n",
            "Epoch 2/50\n",
            "50/50 - 33s - loss: 1.9894 - accuracy: 0.6673 - val_loss: 57.5789 - val_accuracy: 0.2232 - lr: 0.0010 - 33s/epoch - 658ms/step\n",
            "Epoch 3/50\n",
            "50/50 - 33s - loss: 2.1181 - accuracy: 0.6119 - val_loss: 65.3449 - val_accuracy: 0.2232 - lr: 0.0010 - 33s/epoch - 660ms/step\n",
            "Epoch 4/50\n",
            "50/50 - 33s - loss: 2.6260 - accuracy: 0.5308 - val_loss: 72.3259 - val_accuracy: 0.2232 - lr: 0.0010 - 33s/epoch - 661ms/step\n",
            "Epoch 5/50\n",
            "50/50 - 33s - loss: 2.3464 - accuracy: 0.5711 - val_loss: 47.8842 - val_accuracy: 0.2232 - lr: 0.0010 - 33s/epoch - 667ms/step\n",
            "50/50 - 33s - loss: 2.3464 - accuracy: 0.5711 - val_loss: 47.8842 - val_accuracy: 0.2232 - lr: 0.0010 - 33s/epoch - 667ms/step\n"
          ]
        }
      ],
      "source": [
        "## train the model but don't forget adapte the hyper-parameters\n",
        "\n",
        "history=train_model_naive_split()"
      ]
    },
    {
      "cell_type": "code",
      "execution_count": 26,
      "metadata": {
        "id": "AUNsb1LydmPx",
        "colab": {
          "base_uri": "https://localhost:8080/",
          "height": 545
        },
        "outputId": "4dd49e36-41c2-403c-c52e-5e50e8ce7d69"
      },
      "outputs": [
        {
          "output_type": "display_data",
          "data": {
            "text/plain": [
              "<Figure size 432x288 with 1 Axes>"
            ],
            "image/png": "[encoded data removed]"
          },
          "metadata": {
            "needs_background": "light"
          }
        },
        {
          "output_type": "display_data",
          "data": {
            "text/plain": [
              "<Figure size 432x288 with 1 Axes>"
            ],
            "image/png": "[encoded data removed]"
          },
          "metadata": {
            "needs_background": "light"
          }
        }
      ],
      "source": [
        "acc = history.history['accuracy']\n",
        "val_acc = history.history['val_accuracy']\n",
        "loss = history.history['loss']\n",
        "val_loss = history.history['val_loss']\n",
        "\n",
        "epochs = range(len(acc))\n",
        "\n",
        "plt.plot(epochs, acc, 'r', label='Training accuracy')\n",
        "plt.plot(epochs, val_acc, 'b', label='Validation accuracy')\n",
        "plt.title('Training and validation accuracy')\n",
        "plt.legend()\n",
        "\n",
        "plt.figure()\n",
        "\n",
        "plt.plot(epochs, loss, 'r', label='Training Loss')\n",
        "plt.plot(epochs, val_loss, 'b', label='Validation Loss')\n",
        "plt.title('Training and validation loss')\n",
        "plt.legend()\n",
        "\n",
        "plt.show()"
      ]
    },
    {
      "cell_type": "code",
      "execution_count": 27,
      "metadata": {
        "id": "VWJ3V90mdvoY",
        "colab": {
          "base_uri": "https://localhost:8080/"
        },
        "outputId": "c749e248-8f48-473c-b182-8dff16eba633"
      },
      "outputs": [
        {
          "output_type": "stream",
          "name": "stdout",
          "text": [
            "Found 255 images belonging to 5 classes.\n",
            "iranKhodro_dena/1.jpg\n",
            "iranKhodro_dena/10.jpg\n",
            "iranKhodro_dena/11.jpg\n",
            "iranKhodro_dena/12.jpg\n",
            "iranKhodro_dena/13.jpg\n",
            "iranKhodro_dena/14.jpg\n",
            "iranKhodro_dena/15.jpg\n",
            "iranKhodro_dena/16.jpg\n",
            "iranKhodro_dena/17.jpg\n",
            "iranKhodro_dena/18.jpg\n",
            "iranKhodro_dena/19.jpg\n",
            "iranKhodro_dena/2.jpg\n",
            "iranKhodro_dena/20.jpg\n",
            "iranKhodro_dena/21.jpg\n",
            "iranKhodro_dena/22.jpg\n",
            "iranKhodro_dena/23.jpg\n",
            "iranKhodro_dena/24.jpg\n",
            "iranKhodro_dena/25.jpg\n",
            "iranKhodro_dena/26.jpg\n",
            "iranKhodro_dena/27.jpg\n",
            "iranKhodro_dena/28.jpg\n",
            "iranKhodro_dena/29.jpg\n",
            "iranKhodro_dena/3.jpg\n",
            "iranKhodro_dena/30.jpg\n",
            "iranKhodro_dena/31.jpg\n",
            "iranKhodro_dena/32.jpg\n",
            "iranKhodro_dena/33.jpg\n",
            "iranKhodro_dena/34.jpg\n",
            "iranKhodro_dena/35.jpg\n",
            "iranKhodro_dena/36.jpg\n",
            "iranKhodro_dena/37.jpg\n",
            "iranKhodro_dena/38.jpg\n",
            "iranKhodro_dena/39.jpg\n",
            "iranKhodro_dena/4.jpg\n",
            "iranKhodro_dena/40.jpg\n",
            "iranKhodro_dena/41.jpg\n",
            "iranKhodro_dena/42.jpg\n",
            "iranKhodro_dena/43.jpg\n",
            "iranKhodro_dena/44.jpg\n",
            "iranKhodro_dena/45.jpg\n",
            "iranKhodro_dena/46.jpg\n",
            "iranKhodro_dena/47.jpg\n",
            "iranKhodro_dena/48.jpg\n",
            "iranKhodro_dena/49.jpg\n",
            "iranKhodro_dena/5.jpg\n",
            "iranKhodro_dena/50.jpg\n",
            "iranKhodro_dena/51.jpg\n",
            "iranKhodro_dena/52.jpg\n",
            "iranKhodro_dena/53.jpg\n",
            "iranKhodro_dena/54.jpg\n",
            "iranKhodro_dena/55.jpg\n",
            "iranKhodro_dena/6.jpg\n",
            "iranKhodro_dena/7.jpg\n",
            "iranKhodro_dena/8.jpg\n",
            "iranKhodro_dena/9.jpg\n",
            "kia_cerato/1.jpg\n",
            "kia_cerato/10.jpg\n",
            "kia_cerato/11.jpg\n",
            "kia_cerato/12.jpg\n",
            "kia_cerato/13.jpg\n",
            "kia_cerato/14.jpg\n",
            "kia_cerato/15.jpg\n",
            "kia_cerato/16.jpg\n",
            "kia_cerato/17.jpg\n",
            "kia_cerato/18.jpg\n",
            "kia_cerato/19.jpg\n",
            "kia_cerato/2.jpg\n",
            "kia_cerato/20.jpg\n",
            "kia_cerato/21.jpg\n",
            "kia_cerato/22.jpg\n",
            "kia_cerato/23.jpg\n",
            "kia_cerato/24.jpg\n",
            "kia_cerato/25.jpg\n",
            "kia_cerato/26.jpg\n",
            "kia_cerato/27.jpg\n",
            "kia_cerato/28.jpg\n",
            "kia_cerato/29.jpg\n",
            "kia_cerato/3.jpg\n",
            "kia_cerato/30.jpg\n",
            "kia_cerato/31.jpg\n",
            "kia_cerato/32.jpg\n",
            "kia_cerato/33.jpg\n",
            "kia_cerato/34.jpg\n",
            "kia_cerato/35.jpg\n",
            "kia_cerato/36.jpg\n",
            "kia_cerato/37.jpg\n",
            "kia_cerato/38.jpg\n",
            "kia_cerato/39.jpg\n",
            "kia_cerato/4.jpg\n",
            "kia_cerato/40.jpg\n",
            "kia_cerato/41.jpg\n",
            "kia_cerato/42.jpg\n",
            "kia_cerato/43.jpg\n",
            "kia_cerato/44.jpg\n",
            "kia_cerato/45.jpg\n",
            "kia_cerato/46.jpg\n",
            "kia_cerato/47.jpg\n",
            "kia_cerato/48.jpg\n",
            "kia_cerato/49.jpg\n",
            "kia_cerato/5.jpg\n",
            "kia_cerato/50.jpg\n",
            "kia_cerato/6.jpg\n",
            "kia_cerato/7.jpg\n",
            "kia_cerato/8.jpg\n",
            "kia_cerato/9.jpg\n",
            "mazda_3/1.jpg\n",
            "mazda_3/10.jpg\n",
            "mazda_3/11.jpg\n",
            "mazda_3/12.jpg\n",
            "mazda_3/13.jpg\n",
            "mazda_3/14.jpg\n",
            "mazda_3/15.jpg\n",
            "mazda_3/16.jpg\n",
            "mazda_3/17.jpg\n",
            "mazda_3/18.jpg\n",
            "mazda_3/19.jpg\n",
            "mazda_3/2.jpg\n",
            "mazda_3/20.jpg\n",
            "mazda_3/21.jpg\n",
            "mazda_3/22.jpg\n",
            "mazda_3/23.jpg\n",
            "mazda_3/24.jpg\n",
            "mazda_3/25.jpg\n",
            "mazda_3/26.jpg\n",
            "mazda_3/27.jpg\n",
            "mazda_3/28.jpg\n",
            "mazda_3/29.jpg\n",
            "mazda_3/3.jpg\n",
            "mazda_3/30.jpg\n",
            "mazda_3/31.jpg\n",
            "mazda_3/32.jpg\n",
            "mazda_3/33.jpg\n",
            "mazda_3/34.jpg\n",
            "mazda_3/35.jpg\n",
            "mazda_3/36.jpg\n",
            "mazda_3/37.jpg\n",
            "mazda_3/38.jpg\n",
            "mazda_3/39.jpg\n",
            "mazda_3/4.jpg\n",
            "mazda_3/40.jpg\n",
            "mazda_3/41.jpg\n",
            "mazda_3/42.jpg\n",
            "mazda_3/43.jpg\n",
            "mazda_3/44.jpg\n",
            "mazda_3/45.jpg\n",
            "mazda_3/46.jpg\n",
            "mazda_3/47.jpg\n",
            "mazda_3/48.jpg\n",
            "mazda_3/49.jpg\n",
            "mazda_3/5.jpg\n",
            "mazda_3/50.jpg\n",
            "mazda_3/6.jpg\n",
            "mazda_3/7.jpg\n",
            "mazda_3/8.jpg\n",
            "mazda_3/9.jpg\n",
            "peugeot_206/1.jpg\n",
            "peugeot_206/10.jpg\n",
            "peugeot_206/11.jpg\n",
            "peugeot_206/12.jpg\n",
            "peugeot_206/13.jpg\n",
            "peugeot_206/14.jpg\n",
            "peugeot_206/15.jpg\n",
            "peugeot_206/16.jpg\n",
            "peugeot_206/17.jpg\n",
            "peugeot_206/18.jpg\n",
            "peugeot_206/19.jpg\n",
            "peugeot_206/2.jpg\n",
            "peugeot_206/20.jpg\n",
            "peugeot_206/21.jpg\n",
            "peugeot_206/22.jpg\n",
            "peugeot_206/23.jpg\n",
            "peugeot_206/24.jpg\n",
            "peugeot_206/25.jpg\n",
            "peugeot_206/26.jpg\n",
            "peugeot_206/27.jpg\n",
            "peugeot_206/28.jpg\n",
            "peugeot_206/29.jpg\n",
            "peugeot_206/3.jpg\n",
            "peugeot_206/30.jpg\n",
            "peugeot_206/31.jpg\n",
            "peugeot_206/32.jpg\n",
            "peugeot_206/33.jpg\n",
            "peugeot_206/34.jpg\n",
            "peugeot_206/35.jpg\n",
            "peugeot_206/36.jpg\n",
            "peugeot_206/37.jpg\n",
            "peugeot_206/38.jpg\n",
            "peugeot_206/39.jpg\n",
            "peugeot_206/4.jpg\n",
            "peugeot_206/40.jpg\n",
            "peugeot_206/41.jpg\n",
            "peugeot_206/42.jpg\n",
            "peugeot_206/43.jpg\n",
            "peugeot_206/44.jpg\n",
            "peugeot_206/45.jpg\n",
            "peugeot_206/46.jpg\n",
            "peugeot_206/47.jpg\n",
            "peugeot_206/48.jpg\n",
            "peugeot_206/49.jpg\n",
            "peugeot_206/5.jpg\n",
            "peugeot_206/50.jpg\n",
            "peugeot_206/6.jpg\n",
            "peugeot_206/7.jpg\n",
            "peugeot_206/8.jpg\n",
            "peugeot_206/9.jpg\n",
            "saipa_saina/1.jpg\n",
            "saipa_saina/10.jpg\n",
            "saipa_saina/11.jpg\n",
            "saipa_saina/12.jpg\n",
            "saipa_saina/13.jpg\n",
            "saipa_saina/14.jpg\n",
            "saipa_saina/15.jpg\n",
            "saipa_saina/16.jpg\n",
            "saipa_saina/17.jpg\n",
            "saipa_saina/18.jpg\n",
            "saipa_saina/19.jpg\n",
            "saipa_saina/2.jpg\n",
            "saipa_saina/20.jpg\n",
            "saipa_saina/21.jpg\n",
            "saipa_saina/22.jpg\n",
            "saipa_saina/23.jpg\n",
            "saipa_saina/24.jpg\n",
            "saipa_saina/25.jpg\n",
            "saipa_saina/26.jpg\n",
            "saipa_saina/27.jpg\n",
            "saipa_saina/28.jpg\n",
            "saipa_saina/29.jpg\n",
            "saipa_saina/3.jpg\n",
            "saipa_saina/30.jpg\n",
            "saipa_saina/31.jpg\n",
            "saipa_saina/32.jpg\n",
            "saipa_saina/33.jpg\n",
            "saipa_saina/34.jpg\n",
            "saipa_saina/35.jpg\n",
            "saipa_saina/36.jpg\n",
            "saipa_saina/37.jpg\n",
            "saipa_saina/38.jpg\n",
            "saipa_saina/39.jpg\n",
            "saipa_saina/4.jpg\n",
            "saipa_saina/40.jpg\n",
            "saipa_saina/41.jpg\n",
            "saipa_saina/42.jpg\n",
            "saipa_saina/43.jpg\n",
            "saipa_saina/44.jpg\n",
            "saipa_saina/45.jpg\n",
            "saipa_saina/46.jpg\n",
            "saipa_saina/47.jpg\n",
            "saipa_saina/48.jpg\n",
            "saipa_saina/49.jpg\n",
            "saipa_saina/5.jpg\n",
            "saipa_saina/50.jpg\n",
            "saipa_saina/6.jpg\n",
            "saipa_saina/7.jpg\n",
            "saipa_saina/8.jpg\n",
            "saipa_saina/9.jpg\n",
            "255/255 [==============================] - 4s 11ms/step\n",
            "                        label\n",
            "image_id                     \n",
            "iranKhodro_dena/1.jpg       4\n",
            "iranKhodro_dena/10.jpg      4\n",
            "iranKhodro_dena/11.jpg      4\n",
            "iranKhodro_dena/12.jpg      4\n",
            "iranKhodro_dena/13.jpg      4\n",
            "Writing submission\n"
          ]
        }
      ],
      "source": [
        "store_prediction('./models/my_model.hdf5', path + 'data/test/', './results.csv')"
      ]
    },
    {
      "cell_type": "markdown",
      "metadata": {
        "id": "jIKSfy8FQW-H"
      },
      "source": [
        "## **Grad-CAM**\n",
        "For some random images from different classes, show the heatmaps based on the grad-cam algorithm that you have learned."
      ]
    },
    {
      "cell_type": "code",
      "execution_count": null,
      "metadata": {
        "id": "LxEYBbYPQf4R"
      },
      "outputs": [],
      "source": []
    }
  ],
  "metadata": {
    "colab": {
      "provenance": []
    },
    "kernelspec": {
      "display_name": "Python 3",
      "name": "python3"
    },
    "language_info": {
      "name": "python"
    },
    "accelerator": "GPU",
    "gpuClass": "standard"
  },
  "nbformat": 4,
  "nbformat_minor": 0
}