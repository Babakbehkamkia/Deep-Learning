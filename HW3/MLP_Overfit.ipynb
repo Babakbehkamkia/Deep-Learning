{
  "cells": [
    {
      "cell_type": "markdown",
      "metadata": {
        "id": "ZqAxD7DuJMUf"
      },
      "source": [
        "# Overfitting Problem\n",
        "#### Here you need to create a model that overfits, then use different methods to avoid it"
      ]
    },
    {
      "cell_type": "markdown",
      "metadata": {
        "id": "BrZ3fbqPJMUh"
      },
      "source": [
        "### Import libraries"
      ]
    },
    {
      "cell_type": "code",
      "execution_count": 2,
      "metadata": {
        "id": "GgTv79CGcaS3"
      },
      "outputs": [],
      "source": [
        "import matplotlib.pyplot as plt\n",
        "import numpy as np\n",
        "%matplotlib inline"
      ]
    },
    {
      "cell_type": "markdown",
      "metadata": {
        "id": "7BFABj28JMUj"
      },
      "source": [
        "### Generate Sample Data"
      ]
    },
    {
      "cell_type": "code",
      "execution_count": 18,
      "metadata": {
        "id": "GQiA-gDKcdrg"
      },
      "outputs": [],
      "source": [
        "# This function generates random data for 2 different classes\n",
        "\n",
        "# np.random.seed(0xdeadbeef)\n",
        "\n",
        "def make_sample(nexamples, means=([0.,0.],[1.,1.]), sigma=1.):\n",
        "    normal = np.random.multivariate_normal\n",
        "    # squared width:\n",
        "    s2 = sigma**2.\n",
        "    # below, we provide the coordinates of the mean as \n",
        "    # a first argument, and then the covariance matrix\n",
        "    # which describes the width of the Gaussian along the \n",
        "    # two directions.\n",
        "    # we generate nexamples examples for each category\n",
        "    sgx0 = normal(means[0], [[s2, 0.], [0.,s2]], nexamples)\n",
        "    sgx1 = normal(means[1], [[s2, 0.], [0.,s2]], nexamples)\n",
        "    # setting the labels for each category\n",
        "    sgy0 = np.zeros((nexamples,))\n",
        "    sgy1 = np.ones((nexamples,))\n",
        "    sgx = np.concatenate([sgx0,sgx1])\n",
        "    sgy = np.concatenate([sgy0,sgy1])\n",
        "    return sgx, sgy"
      ]
    },
    {
      "cell_type": "code",
      "execution_count": 19,
      "metadata": {
        "id": "x56SkqITchGu"
      },
      "outputs": [],
      "source": [
        "# Don't change the number of samples for your first model.\n",
        "# After that (For your second model) you can play with the numbers to see how increasing your dataset helps to avoid overfitting\n",
        "\n",
        "sgx, sgy = make_sample(30)"
      ]
    },
    {
      "cell_type": "code",
      "execution_count": 21,
      "metadata": {
        "colab": {
          "base_uri": "https://localhost:8080/",
          "height": 296
        },
        "id": "72Ll1R9yJMUk",
        "outputId": "16796e4a-a6b4-4e51-81cf-e5bd8cd26e01"
      },
      "outputs": [
        {
          "output_type": "execute_result",
          "data": {
            "text/plain": [
              "Text(0, 0.5, 'x2')"
            ]
          },
          "metadata": {},
          "execution_count": 21
        },
        {
          "output_type": "display_data",
          "data": {
            "text/plain": [
              "<Figure size 432x288 with 1 Axes>"
            ],
            "image/png": "[encoded data removed]"
          },
          "metadata": {
            "needs_background": "light"
          }
        }
      ],
      "source": [
        "# note how the two categories are plotted\n",
        "# together in one go by providing the \n",
        "# label array as color argument (c=sgy)\n",
        "\n",
        "plt.scatter(sgx[:,0], sgx[:,1], alpha=0.5, c=sgy)\n",
        "plt.xlabel('x1')\n",
        "plt.ylabel('x2')"
      ]
    },
    {
      "cell_type": "markdown",
      "metadata": {
        "id": "4Iry0h-SJMUl"
      },
      "source": [
        "### Import Keras"
      ]
    },
    {
      "cell_type": "code",
      "execution_count": 87,
      "metadata": {
        "id": "9tIxM1YDcnBx"
      },
      "outputs": [],
      "source": [
        "from keras.models import Sequential\n",
        "from keras.layers import Dense, Activation, Dropout\n",
        "from keras.optimizers import Adam\n",
        "from keras.losses import BinaryCrossentropy\n",
        "from sklearn.model_selection import train_test_split\n",
        "import tensorflow as tf\n",
        "from sklearn.model_selection import KFold"
      ]
    },
    {
      "cell_type": "markdown",
      "metadata": {
        "id": "e85mtZmOJMUm"
      },
      "source": [
        "### Create a model that overfits"
      ]
    },
    {
      "cell_type": "code",
      "execution_count": 23,
      "metadata": {
        "id": "QyDsIAHOJMUm"
      },
      "outputs": [],
      "source": [
        "# Create a Sequential MLP model with these Dense layers:\n",
        "# 3 hidden layers with 50 units each and 'relu' activation\n",
        "# 1 unit output with 'softmax' activation\n",
        "\n",
        "model = Sequential([\n",
        "    Dense(50, activation = 'relu'),\n",
        "    Dense(50, activation = 'relu'),\n",
        "    Dense(50, activation = 'relu'),\n",
        "    Dense(1, activation = 'sigmoid')\n",
        "])\n",
        "########################\n",
        "## PUT YOUR CODE HERE ##\n",
        "########################\n"
      ]
    },
    {
      "cell_type": "code",
      "execution_count": 24,
      "metadata": {
        "id": "ZLIGJELCJMUn"
      },
      "outputs": [],
      "source": [
        "# Split your dataset to test and train with your desired implementation\n",
        "# use sklearn.model_selection.train_test_split\n",
        "\n",
        "X_train, X_test, y_train, y_test = train_test_split(sgx, sgy, test_size=0.5)\n",
        "########################\n",
        "## PUT YOUR CODE HERE ##\n",
        "########################"
      ]
    },
    {
      "cell_type": "code",
      "execution_count": 25,
      "metadata": {
        "id": "1HxhJf3MJMUn"
      },
      "outputs": [],
      "source": [
        "# Compile with your desired optimizer and loss function with 'accuracy' as metric\n",
        "# Don't forget to monitor the overfitting, you should take care of val_accuracy and val_loss\n",
        "\n",
        "########################\n",
        "## PUT YOUR CODE HERE ##\n",
        "########################\n",
        "\n",
        "model.compile(optimizer='rmsprop',\n",
        "              loss=tf.keras.losses.BinaryCrossentropy(),\n",
        "              metrics=['accuracy'])"
      ]
    },
    {
      "cell_type": "code",
      "execution_count": 26,
      "metadata": {
        "colab": {
          "base_uri": "https://localhost:8080/"
        },
        "id": "szYjhHPzJMUn",
        "outputId": "c090c4a4-ab5e-4517-c2f7-e33b530bd1f4"
      },
      "outputs": [
        {
          "output_type": "stream",
          "name": "stdout",
          "text": [
            "Epoch 1/100\n",
            "1/1 - 1s - loss: 0.7043 - accuracy: 0.5417 - val_loss: 0.6670 - val_accuracy: 0.8333 - 1s/epoch - 1s/step\n",
            "Epoch 2/100\n",
            "1/1 - 0s - loss: 0.6628 - accuracy: 0.7917 - val_loss: 0.6416 - val_accuracy: 0.8333 - 36ms/epoch - 36ms/step\n",
            "Epoch 3/100\n",
            "1/1 - 0s - loss: 0.6384 - accuracy: 0.7917 - val_loss: 0.6231 - val_accuracy: 0.8333 - 37ms/epoch - 37ms/step\n",
            "Epoch 4/100\n",
            "1/1 - 0s - loss: 0.6183 - accuracy: 0.7917 - val_loss: 0.6075 - val_accuracy: 0.8333 - 36ms/epoch - 36ms/step\n",
            "Epoch 5/100\n",
            "1/1 - 0s - loss: 0.6012 - accuracy: 0.7917 - val_loss: 0.5950 - val_accuracy: 0.8333 - 36ms/epoch - 36ms/step\n",
            "Epoch 6/100\n",
            "1/1 - 0s - loss: 0.5861 - accuracy: 0.7917 - val_loss: 0.5842 - val_accuracy: 0.8333 - 32ms/epoch - 32ms/step\n",
            "Epoch 7/100\n",
            "1/1 - 0s - loss: 0.5727 - accuracy: 0.7917 - val_loss: 0.5746 - val_accuracy: 0.8333 - 38ms/epoch - 38ms/step\n",
            "Epoch 8/100\n",
            "1/1 - 0s - loss: 0.5603 - accuracy: 0.7917 - val_loss: 0.5671 - val_accuracy: 0.8333 - 32ms/epoch - 32ms/step\n",
            "Epoch 9/100\n",
            "1/1 - 0s - loss: 0.5489 - accuracy: 0.7917 - val_loss: 0.5587 - val_accuracy: 0.8333 - 40ms/epoch - 40ms/step\n",
            "Epoch 10/100\n",
            "1/1 - 0s - loss: 0.5380 - accuracy: 0.7917 - val_loss: 0.5513 - val_accuracy: 0.8333 - 31ms/epoch - 31ms/step\n",
            "Epoch 11/100\n",
            "1/1 - 0s - loss: 0.5272 - accuracy: 0.7917 - val_loss: 0.5450 - val_accuracy: 0.8333 - 32ms/epoch - 32ms/step\n",
            "Epoch 12/100\n",
            "1/1 - 0s - loss: 0.5170 - accuracy: 0.7917 - val_loss: 0.5383 - val_accuracy: 0.8333 - 37ms/epoch - 37ms/step\n",
            "Epoch 13/100\n",
            "1/1 - 0s - loss: 0.5072 - accuracy: 0.7917 - val_loss: 0.5330 - val_accuracy: 0.8333 - 33ms/epoch - 33ms/step\n",
            "Epoch 14/100\n",
            "1/1 - 0s - loss: 0.4977 - accuracy: 0.7917 - val_loss: 0.5277 - val_accuracy: 0.8333 - 37ms/epoch - 37ms/step\n",
            "Epoch 15/100\n",
            "1/1 - 0s - loss: 0.4888 - accuracy: 0.7917 - val_loss: 0.5222 - val_accuracy: 0.8333 - 32ms/epoch - 32ms/step\n",
            "Epoch 16/100\n",
            "1/1 - 0s - loss: 0.4800 - accuracy: 0.7917 - val_loss: 0.5186 - val_accuracy: 0.8333 - 31ms/epoch - 31ms/step\n",
            "Epoch 17/100\n",
            "1/1 - 0s - loss: 0.4714 - accuracy: 0.7917 - val_loss: 0.5120 - val_accuracy: 0.8333 - 30ms/epoch - 30ms/step\n",
            "Epoch 18/100\n",
            "1/1 - 0s - loss: 0.4633 - accuracy: 0.7917 - val_loss: 0.5101 - val_accuracy: 0.8333 - 31ms/epoch - 31ms/step\n",
            "Epoch 19/100\n",
            "1/1 - 0s - loss: 0.4556 - accuracy: 0.7917 - val_loss: 0.5039 - val_accuracy: 0.8333 - 38ms/epoch - 38ms/step\n",
            "Epoch 20/100\n",
            "1/1 - 0s - loss: 0.4482 - accuracy: 0.7917 - val_loss: 0.5021 - val_accuracy: 0.8333 - 35ms/epoch - 35ms/step\n",
            "Epoch 21/100\n",
            "1/1 - 0s - loss: 0.4414 - accuracy: 0.7917 - val_loss: 0.4969 - val_accuracy: 0.8333 - 27ms/epoch - 27ms/step\n",
            "Epoch 22/100\n",
            "1/1 - 0s - loss: 0.4347 - accuracy: 0.7917 - val_loss: 0.4957 - val_accuracy: 0.8333 - 31ms/epoch - 31ms/step\n",
            "Epoch 23/100\n",
            "1/1 - 0s - loss: 0.4285 - accuracy: 0.7917 - val_loss: 0.4922 - val_accuracy: 0.8333 - 31ms/epoch - 31ms/step\n",
            "Epoch 24/100\n",
            "1/1 - 0s - loss: 0.4225 - accuracy: 0.7917 - val_loss: 0.4897 - val_accuracy: 0.8333 - 35ms/epoch - 35ms/step\n",
            "Epoch 25/100\n",
            "1/1 - 0s - loss: 0.4170 - accuracy: 0.8333 - val_loss: 0.4895 - val_accuracy: 0.8333 - 36ms/epoch - 36ms/step\n",
            "Epoch 26/100\n",
            "1/1 - 0s - loss: 0.4117 - accuracy: 0.8333 - val_loss: 0.4876 - val_accuracy: 0.8333 - 29ms/epoch - 29ms/step\n",
            "Epoch 27/100\n",
            "1/1 - 0s - loss: 0.4068 - accuracy: 0.8333 - val_loss: 0.4871 - val_accuracy: 0.8333 - 36ms/epoch - 36ms/step\n",
            "Epoch 28/100\n",
            "1/1 - 0s - loss: 0.4021 - accuracy: 0.8333 - val_loss: 0.4858 - val_accuracy: 0.8333 - 44ms/epoch - 44ms/step\n",
            "Epoch 29/100\n",
            "1/1 - 0s - loss: 0.3978 - accuracy: 0.8333 - val_loss: 0.4867 - val_accuracy: 0.8333 - 31ms/epoch - 31ms/step\n",
            "Epoch 30/100\n",
            "1/1 - 0s - loss: 0.3937 - accuracy: 0.8333 - val_loss: 0.4836 - val_accuracy: 0.8333 - 44ms/epoch - 44ms/step\n",
            "Epoch 31/100\n",
            "1/1 - 0s - loss: 0.3897 - accuracy: 0.8333 - val_loss: 0.4853 - val_accuracy: 0.8333 - 41ms/epoch - 41ms/step\n",
            "Epoch 32/100\n",
            "1/1 - 0s - loss: 0.3860 - accuracy: 0.8333 - val_loss: 0.4848 - val_accuracy: 0.8333 - 37ms/epoch - 37ms/step\n",
            "Epoch 33/100\n",
            "1/1 - 0s - loss: 0.3823 - accuracy: 0.8333 - val_loss: 0.4853 - val_accuracy: 0.8333 - 26ms/epoch - 26ms/step\n",
            "Epoch 34/100\n",
            "1/1 - 0s - loss: 0.3789 - accuracy: 0.8333 - val_loss: 0.4851 - val_accuracy: 0.8333 - 34ms/epoch - 34ms/step\n",
            "Epoch 35/100\n",
            "1/1 - 0s - loss: 0.3752 - accuracy: 0.8333 - val_loss: 0.4853 - val_accuracy: 0.8333 - 33ms/epoch - 33ms/step\n",
            "Epoch 36/100\n",
            "1/1 - 0s - loss: 0.3719 - accuracy: 0.8333 - val_loss: 0.4876 - val_accuracy: 0.8333 - 28ms/epoch - 28ms/step\n",
            "Epoch 37/100\n",
            "1/1 - 0s - loss: 0.3684 - accuracy: 0.8333 - val_loss: 0.4842 - val_accuracy: 0.8333 - 30ms/epoch - 30ms/step\n",
            "Epoch 38/100\n",
            "1/1 - 0s - loss: 0.3654 - accuracy: 0.8333 - val_loss: 0.4895 - val_accuracy: 0.8333 - 34ms/epoch - 34ms/step\n",
            "Epoch 39/100\n",
            "1/1 - 0s - loss: 0.3619 - accuracy: 0.8333 - val_loss: 0.4868 - val_accuracy: 0.8333 - 36ms/epoch - 36ms/step\n",
            "Epoch 40/100\n",
            "1/1 - 0s - loss: 0.3589 - accuracy: 0.8333 - val_loss: 0.4928 - val_accuracy: 0.8333 - 34ms/epoch - 34ms/step\n",
            "Epoch 41/100\n",
            "1/1 - 0s - loss: 0.3556 - accuracy: 0.8333 - val_loss: 0.4888 - val_accuracy: 0.8333 - 36ms/epoch - 36ms/step\n",
            "Epoch 42/100\n",
            "1/1 - 0s - loss: 0.3524 - accuracy: 0.8333 - val_loss: 0.4949 - val_accuracy: 0.8333 - 44ms/epoch - 44ms/step\n",
            "Epoch 43/100\n",
            "1/1 - 0s - loss: 0.3493 - accuracy: 0.8333 - val_loss: 0.4932 - val_accuracy: 0.8333 - 38ms/epoch - 38ms/step\n",
            "Epoch 44/100\n",
            "1/1 - 0s - loss: 0.3467 - accuracy: 0.8333 - val_loss: 0.4990 - val_accuracy: 0.8333 - 32ms/epoch - 32ms/step\n",
            "Epoch 45/100\n",
            "1/1 - 0s - loss: 0.3435 - accuracy: 0.8333 - val_loss: 0.4958 - val_accuracy: 0.8333 - 30ms/epoch - 30ms/step\n",
            "Epoch 46/100\n",
            "1/1 - 0s - loss: 0.3409 - accuracy: 0.8333 - val_loss: 0.5037 - val_accuracy: 0.8333 - 32ms/epoch - 32ms/step\n",
            "Epoch 47/100\n",
            "1/1 - 0s - loss: 0.3378 - accuracy: 0.8333 - val_loss: 0.4984 - val_accuracy: 0.8333 - 30ms/epoch - 30ms/step\n",
            "Epoch 48/100\n",
            "1/1 - 0s - loss: 0.3354 - accuracy: 0.8333 - val_loss: 0.5119 - val_accuracy: 0.8333 - 29ms/epoch - 29ms/step\n",
            "Epoch 49/100\n",
            "1/1 - 0s - loss: 0.3325 - accuracy: 0.8333 - val_loss: 0.5011 - val_accuracy: 0.8333 - 33ms/epoch - 33ms/step\n",
            "Epoch 50/100\n",
            "1/1 - 0s - loss: 0.3299 - accuracy: 0.8750 - val_loss: 0.5156 - val_accuracy: 0.8333 - 61ms/epoch - 61ms/step\n",
            "Epoch 51/100\n",
            "1/1 - 0s - loss: 0.3268 - accuracy: 0.8333 - val_loss: 0.5081 - val_accuracy: 0.8333 - 51ms/epoch - 51ms/step\n",
            "Epoch 52/100\n",
            "1/1 - 0s - loss: 0.3238 - accuracy: 0.8750 - val_loss: 0.5227 - val_accuracy: 0.8333 - 32ms/epoch - 32ms/step\n",
            "Epoch 53/100\n",
            "1/1 - 0s - loss: 0.3209 - accuracy: 0.8750 - val_loss: 0.5140 - val_accuracy: 0.8333 - 42ms/epoch - 42ms/step\n",
            "Epoch 54/100\n",
            "1/1 - 0s - loss: 0.3183 - accuracy: 0.8750 - val_loss: 0.5283 - val_accuracy: 0.8333 - 37ms/epoch - 37ms/step\n",
            "Epoch 55/100\n",
            "1/1 - 0s - loss: 0.3151 - accuracy: 0.8750 - val_loss: 0.5224 - val_accuracy: 0.8333 - 39ms/epoch - 39ms/step\n",
            "Epoch 56/100\n",
            "1/1 - 0s - loss: 0.3123 - accuracy: 0.8750 - val_loss: 0.5367 - val_accuracy: 0.8333 - 39ms/epoch - 39ms/step\n",
            "Epoch 57/100\n",
            "1/1 - 0s - loss: 0.3095 - accuracy: 0.8750 - val_loss: 0.5280 - val_accuracy: 0.8333 - 44ms/epoch - 44ms/step\n",
            "Epoch 58/100\n",
            "1/1 - 0s - loss: 0.3064 - accuracy: 0.8750 - val_loss: 0.5437 - val_accuracy: 0.8333 - 44ms/epoch - 44ms/step\n",
            "Epoch 59/100\n",
            "1/1 - 0s - loss: 0.3033 - accuracy: 0.8750 - val_loss: 0.5382 - val_accuracy: 0.8333 - 37ms/epoch - 37ms/step\n",
            "Epoch 60/100\n",
            "1/1 - 0s - loss: 0.3001 - accuracy: 0.8750 - val_loss: 0.5498 - val_accuracy: 0.8333 - 32ms/epoch - 32ms/step\n",
            "Epoch 61/100\n",
            "1/1 - 0s - loss: 0.2973 - accuracy: 0.8750 - val_loss: 0.5425 - val_accuracy: 0.8333 - 52ms/epoch - 52ms/step\n",
            "Epoch 62/100\n",
            "1/1 - 0s - loss: 0.2947 - accuracy: 0.8750 - val_loss: 0.5615 - val_accuracy: 0.8333 - 32ms/epoch - 32ms/step\n",
            "Epoch 63/100\n",
            "1/1 - 0s - loss: 0.2924 - accuracy: 0.8750 - val_loss: 0.5490 - val_accuracy: 0.8333 - 33ms/epoch - 33ms/step\n",
            "Epoch 64/100\n",
            "1/1 - 0s - loss: 0.2896 - accuracy: 0.8750 - val_loss: 0.5690 - val_accuracy: 0.8333 - 37ms/epoch - 37ms/step\n",
            "Epoch 65/100\n",
            "1/1 - 0s - loss: 0.2863 - accuracy: 0.8750 - val_loss: 0.5532 - val_accuracy: 0.8333 - 40ms/epoch - 40ms/step\n",
            "Epoch 66/100\n",
            "1/1 - 0s - loss: 0.2839 - accuracy: 0.9167 - val_loss: 0.5746 - val_accuracy: 0.8333 - 52ms/epoch - 52ms/step\n",
            "Epoch 67/100\n",
            "1/1 - 0s - loss: 0.2810 - accuracy: 0.8750 - val_loss: 0.5640 - val_accuracy: 0.8333 - 49ms/epoch - 49ms/step\n",
            "Epoch 68/100\n",
            "1/1 - 0s - loss: 0.2778 - accuracy: 0.9167 - val_loss: 0.5808 - val_accuracy: 0.8333 - 39ms/epoch - 39ms/step\n",
            "Epoch 69/100\n",
            "1/1 - 0s - loss: 0.2756 - accuracy: 0.8750 - val_loss: 0.5695 - val_accuracy: 0.8333 - 37ms/epoch - 37ms/step\n",
            "Epoch 70/100\n",
            "1/1 - 0s - loss: 0.2726 - accuracy: 0.9167 - val_loss: 0.5859 - val_accuracy: 0.8333 - 35ms/epoch - 35ms/step\n",
            "Epoch 71/100\n",
            "1/1 - 0s - loss: 0.2701 - accuracy: 0.8750 - val_loss: 0.5779 - val_accuracy: 0.8333 - 34ms/epoch - 34ms/step\n",
            "Epoch 72/100\n",
            "1/1 - 0s - loss: 0.2678 - accuracy: 0.9167 - val_loss: 0.5960 - val_accuracy: 0.8333 - 48ms/epoch - 48ms/step\n",
            "Epoch 73/100\n",
            "1/1 - 0s - loss: 0.2651 - accuracy: 0.8750 - val_loss: 0.5832 - val_accuracy: 0.8333 - 32ms/epoch - 32ms/step\n",
            "Epoch 74/100\n",
            "1/1 - 0s - loss: 0.2623 - accuracy: 0.9167 - val_loss: 0.6043 - val_accuracy: 0.8333 - 34ms/epoch - 34ms/step\n",
            "Epoch 75/100\n",
            "1/1 - 0s - loss: 0.2602 - accuracy: 0.8750 - val_loss: 0.5899 - val_accuracy: 0.8333 - 32ms/epoch - 32ms/step\n",
            "Epoch 76/100\n",
            "1/1 - 0s - loss: 0.2574 - accuracy: 0.9167 - val_loss: 0.6124 - val_accuracy: 0.8333 - 29ms/epoch - 29ms/step\n",
            "Epoch 77/100\n",
            "1/1 - 0s - loss: 0.2550 - accuracy: 0.9167 - val_loss: 0.5964 - val_accuracy: 0.8333 - 34ms/epoch - 34ms/step\n",
            "Epoch 78/100\n",
            "1/1 - 0s - loss: 0.2525 - accuracy: 0.9167 - val_loss: 0.6242 - val_accuracy: 0.8333 - 38ms/epoch - 38ms/step\n",
            "Epoch 79/100\n",
            "1/1 - 0s - loss: 0.2506 - accuracy: 0.9167 - val_loss: 0.6027 - val_accuracy: 0.8333 - 29ms/epoch - 29ms/step\n",
            "Epoch 80/100\n",
            "1/1 - 0s - loss: 0.2479 - accuracy: 0.9167 - val_loss: 0.6296 - val_accuracy: 0.8333 - 32ms/epoch - 32ms/step\n",
            "Epoch 81/100\n",
            "1/1 - 0s - loss: 0.2456 - accuracy: 0.9167 - val_loss: 0.6109 - val_accuracy: 0.8333 - 35ms/epoch - 35ms/step\n",
            "Epoch 82/100\n",
            "1/1 - 0s - loss: 0.2430 - accuracy: 0.9167 - val_loss: 0.6362 - val_accuracy: 0.8333 - 36ms/epoch - 36ms/step\n",
            "Epoch 83/100\n",
            "1/1 - 0s - loss: 0.2409 - accuracy: 0.9167 - val_loss: 0.6195 - val_accuracy: 0.8333 - 46ms/epoch - 46ms/step\n",
            "Epoch 84/100\n",
            "1/1 - 0s - loss: 0.2385 - accuracy: 0.9167 - val_loss: 0.6443 - val_accuracy: 0.8333 - 102ms/epoch - 102ms/step\n",
            "Epoch 85/100\n",
            "1/1 - 0s - loss: 0.2367 - accuracy: 0.9167 - val_loss: 0.6267 - val_accuracy: 0.8333 - 33ms/epoch - 33ms/step\n",
            "Epoch 86/100\n",
            "1/1 - 0s - loss: 0.2335 - accuracy: 0.9167 - val_loss: 0.6519 - val_accuracy: 0.8333 - 30ms/epoch - 30ms/step\n",
            "Epoch 87/100\n",
            "1/1 - 0s - loss: 0.2313 - accuracy: 0.9167 - val_loss: 0.6349 - val_accuracy: 0.8333 - 31ms/epoch - 31ms/step\n",
            "Epoch 88/100\n",
            "1/1 - 0s - loss: 0.2288 - accuracy: 0.9167 - val_loss: 0.6586 - val_accuracy: 0.8333 - 34ms/epoch - 34ms/step\n",
            "Epoch 89/100\n",
            "1/1 - 0s - loss: 0.2268 - accuracy: 0.9167 - val_loss: 0.6426 - val_accuracy: 0.8333 - 35ms/epoch - 35ms/step\n",
            "Epoch 90/100\n",
            "1/1 - 0s - loss: 0.2243 - accuracy: 0.9167 - val_loss: 0.6649 - val_accuracy: 0.8333 - 37ms/epoch - 37ms/step\n",
            "Epoch 91/100\n",
            "1/1 - 0s - loss: 0.2220 - accuracy: 0.9167 - val_loss: 0.6528 - val_accuracy: 0.8333 - 42ms/epoch - 42ms/step\n",
            "Epoch 92/100\n",
            "1/1 - 0s - loss: 0.2196 - accuracy: 0.9167 - val_loss: 0.6782 - val_accuracy: 0.8333 - 41ms/epoch - 41ms/step\n",
            "Epoch 93/100\n",
            "1/1 - 0s - loss: 0.2176 - accuracy: 0.9167 - val_loss: 0.6575 - val_accuracy: 0.6667 - 67ms/epoch - 67ms/step\n",
            "Epoch 94/100\n",
            "1/1 - 0s - loss: 0.2150 - accuracy: 0.9167 - val_loss: 0.6863 - val_accuracy: 0.8333 - 50ms/epoch - 50ms/step\n",
            "Epoch 95/100\n",
            "1/1 - 0s - loss: 0.2134 - accuracy: 0.9167 - val_loss: 0.6576 - val_accuracy: 0.6667 - 32ms/epoch - 32ms/step\n",
            "Epoch 96/100\n",
            "1/1 - 0s - loss: 0.2108 - accuracy: 0.9167 - val_loss: 0.6921 - val_accuracy: 0.8333 - 34ms/epoch - 34ms/step\n",
            "Epoch 97/100\n",
            "1/1 - 0s - loss: 0.2085 - accuracy: 0.9167 - val_loss: 0.6749 - val_accuracy: 0.6667 - 33ms/epoch - 33ms/step\n",
            "Epoch 98/100\n",
            "1/1 - 0s - loss: 0.2062 - accuracy: 0.9167 - val_loss: 0.7025 - val_accuracy: 0.8333 - 38ms/epoch - 38ms/step\n",
            "Epoch 99/100\n",
            "1/1 - 0s - loss: 0.2042 - accuracy: 0.9167 - val_loss: 0.6740 - val_accuracy: 0.6667 - 41ms/epoch - 41ms/step\n",
            "Epoch 100/100\n",
            "1/1 - 0s - loss: 0.2015 - accuracy: 0.9167 - val_loss: 0.7058 - val_accuracy: 0.8333 - 32ms/epoch - 32ms/step\n"
          ]
        }
      ],
      "source": [
        "# Start training and fit your model with desired parameters and validation_split=0.2\n",
        "\n",
        "########################\n",
        "## PUT YOUR CODE HERE ##\n",
        "########################\n",
        "\n",
        "history = model.fit(X_train, y_train, validation_split=0.2, epochs=100, verbose=2)"
      ]
    },
    {
      "cell_type": "markdown",
      "metadata": {
        "id": "JFS7_MO7JMUo"
      },
      "source": [
        "### Plot Your Results"
      ]
    },
    {
      "cell_type": "code",
      "execution_count": 27,
      "metadata": {
        "colab": {
          "base_uri": "https://localhost:8080/",
          "height": 545
        },
        "id": "134UziWRQQ2x",
        "outputId": "5ee52b87-6506-4a75-a298-f2cbe0fe18aa"
      },
      "outputs": [
        {
          "output_type": "display_data",
          "data": {
            "text/plain": [
              "<Figure size 432x288 with 1 Axes>"
            ],
            "image/png": "[encoded data removed]"
          },
          "metadata": {
            "needs_background": "light"
          }
        },
        {
          "output_type": "display_data",
          "data": {
            "text/plain": [
              "<Figure size 432x288 with 1 Axes>"
            ],
            "image/png": "[encoded data removed]"
          },
          "metadata": {
            "needs_background": "light"
          }
        }
      ],
      "source": [
        "import matplotlib.pyplot as plt\n",
        "acc = history.history['accuracy']\n",
        "val_acc = history.history['val_accuracy']\n",
        "loss = history.history['loss']\n",
        "val_loss = history.history['val_loss']\n",
        "\n",
        "epochs = range(len(acc))\n",
        "\n",
        "plt.plot(epochs, acc, 'r', label='Training accuracy')\n",
        "plt.plot(epochs, val_acc, 'b', label='Validation accuracy')\n",
        "plt.title('Training and validation accuracy')\n",
        "plt.legend()\n",
        "\n",
        "plt.figure()\n",
        "\n",
        "plt.plot(epochs, loss, 'r', label='Training Loss')\n",
        "plt.plot(epochs, val_loss, 'b', label='Validation Loss')\n",
        "plt.title('Training and validation loss')\n",
        "plt.legend()\n",
        "\n",
        "plt.show()"
      ]
    },
    {
      "cell_type": "markdown",
      "metadata": {
        "id": "At-SA1knJMUo"
      },
      "source": [
        "### Evaluate your model"
      ]
    },
    {
      "cell_type": "code",
      "execution_count": 28,
      "metadata": {
        "colab": {
          "base_uri": "https://localhost:8080/"
        },
        "id": "WMzZjed3ei39",
        "outputId": "c4c05329-6273-464a-c875-0526c7b57716"
      },
      "outputs": [
        {
          "output_type": "stream",
          "name": "stdout",
          "text": [
            "train evaluation:\n",
            "1/1 [==============================] - 0s 27ms/step - loss: 0.3007 - accuracy: 0.9000\n",
            "[0.3006574511528015, 0.8999999761581421]\n",
            "test evaluation:\n",
            "1/1 [==============================] - 0s 28ms/step - loss: 0.7300 - accuracy: 0.6333\n",
            "[0.7299900650978088, 0.6333333253860474]\n"
          ]
        }
      ],
      "source": [
        "# Evaluate your model with train and test data\n",
        "\n",
        "\n",
        "########################\n",
        "## PUT YOUR CODE HERE ##\n",
        "########################\n",
        "\n",
        "print(\"train evaluation:\")\n",
        "print(model.evaluate(X_train, y_train))\n",
        "\n",
        "print(\"test evaluation:\")\n",
        "print(model.evaluate(X_test, y_test))"
      ]
    },
    {
      "cell_type": "markdown",
      "metadata": {
        "id": "KLuGeV_uJMUp"
      },
      "source": [
        "# Now you need to use your knowledge and methods (Regularization, Dropout, etc) to prevent overfitting and then evaluate and compare your results"
      ]
    },
    {
      "cell_type": "code",
      "source": [
        "sgx, sgy = make_sample(30)\n",
        "plt.scatter(sgx[:,0], sgx[:,1], alpha=0.5, c=sgy)\n",
        "plt.xlabel('x1')\n",
        "plt.ylabel('x2')\n",
        "\n",
        "X_train, X_test, y_train, y_test = train_test_split(sgx, sgy, test_size=0.2)"
      ],
      "metadata": {
        "colab": {
          "base_uri": "https://localhost:8080/",
          "height": 279
        },
        "id": "Kvz_TVWg5DWS",
        "outputId": "cdeadeab-ff7a-4b5e-f9d8-cbc8eca5b11f"
      },
      "execution_count": 49,
      "outputs": [
        {
          "output_type": "display_data",
          "data": {
            "text/plain": [
              "<Figure size 432x288 with 1 Axes>"
            ],
            "image/png": "[encoded data removed]"
          },
          "metadata": {
            "needs_background": "light"
          }
        }
      ]
    },
    {
      "cell_type": "code",
      "source": [
        "model2 = Sequential([\n",
        "    Dense(32, activation='relu'),\n",
        "    Dropout(0.2),\n",
        "    Dense(16, activation='relu'),\n",
        "    Dense(1, activation='sigmoid')\n",
        "])\n",
        "\n",
        "model2.compile(optimizer='rmsprop',\n",
        "              loss=tf.keras.losses.BinaryCrossentropy(),\n",
        "              metrics=['accuracy'])\n",
        "\n",
        "history = model2.fit(X_train, y_train, validation_split=0.2, epochs=100, verbose=2)"
      ],
      "metadata": {
        "colab": {
          "base_uri": "https://localhost:8080/"
        },
        "id": "TG9b_kWKrCh5",
        "outputId": "1b01c88f-1ad0-4f66-9c26-e1b1a8dad4e5"
      },
      "execution_count": 50,
      "outputs": [
        {
          "output_type": "stream",
          "name": "stdout",
          "text": [
            "Epoch 1/100\n",
            "2/2 - 1s - loss: 0.7114 - accuracy: 0.5263 - val_loss: 0.7178 - val_accuracy: 0.4000 - 1s/epoch - 564ms/step\n",
            "Epoch 2/100\n",
            "2/2 - 0s - loss: 0.7043 - accuracy: 0.5263 - val_loss: 0.7060 - val_accuracy: 0.4000 - 34ms/epoch - 17ms/step\n",
            "Epoch 3/100\n",
            "2/2 - 0s - loss: 0.6967 - accuracy: 0.5263 - val_loss: 0.6992 - val_accuracy: 0.4000 - 34ms/epoch - 17ms/step\n",
            "Epoch 4/100\n",
            "2/2 - 0s - loss: 0.6907 - accuracy: 0.5263 - val_loss: 0.6905 - val_accuracy: 0.5000 - 35ms/epoch - 18ms/step\n",
            "Epoch 5/100\n",
            "2/2 - 0s - loss: 0.6923 - accuracy: 0.5526 - val_loss: 0.6828 - val_accuracy: 0.5000 - 42ms/epoch - 21ms/step\n",
            "Epoch 6/100\n",
            "2/2 - 0s - loss: 0.6826 - accuracy: 0.5526 - val_loss: 0.6784 - val_accuracy: 0.5000 - 40ms/epoch - 20ms/step\n",
            "Epoch 7/100\n",
            "2/2 - 0s - loss: 0.6831 - accuracy: 0.4474 - val_loss: 0.6746 - val_accuracy: 0.5000 - 53ms/epoch - 26ms/step\n",
            "Epoch 8/100\n",
            "2/2 - 0s - loss: 0.6770 - accuracy: 0.5000 - val_loss: 0.6717 - val_accuracy: 0.5000 - 40ms/epoch - 20ms/step\n",
            "Epoch 9/100\n",
            "2/2 - 0s - loss: 0.6721 - accuracy: 0.5789 - val_loss: 0.6665 - val_accuracy: 0.6000 - 45ms/epoch - 22ms/step\n",
            "Epoch 10/100\n",
            "2/2 - 0s - loss: 0.6769 - accuracy: 0.5526 - val_loss: 0.6601 - val_accuracy: 0.8000 - 32ms/epoch - 16ms/step\n",
            "Epoch 11/100\n",
            "2/2 - 0s - loss: 0.6658 - accuracy: 0.6842 - val_loss: 0.6562 - val_accuracy: 0.8000 - 46ms/epoch - 23ms/step\n",
            "Epoch 12/100\n",
            "2/2 - 0s - loss: 0.6642 - accuracy: 0.7105 - val_loss: 0.6531 - val_accuracy: 0.9000 - 37ms/epoch - 19ms/step\n",
            "Epoch 13/100\n",
            "2/2 - 0s - loss: 0.6688 - accuracy: 0.6579 - val_loss: 0.6507 - val_accuracy: 0.9000 - 34ms/epoch - 17ms/step\n",
            "Epoch 14/100\n",
            "2/2 - 0s - loss: 0.6694 - accuracy: 0.6579 - val_loss: 0.6484 - val_accuracy: 0.9000 - 36ms/epoch - 18ms/step\n",
            "Epoch 15/100\n",
            "2/2 - 0s - loss: 0.6583 - accuracy: 0.6316 - val_loss: 0.6457 - val_accuracy: 0.9000 - 36ms/epoch - 18ms/step\n",
            "Epoch 16/100\n",
            "2/2 - 0s - loss: 0.6499 - accuracy: 0.6842 - val_loss: 0.6413 - val_accuracy: 0.9000 - 35ms/epoch - 18ms/step\n",
            "Epoch 17/100\n",
            "2/2 - 0s - loss: 0.6520 - accuracy: 0.7105 - val_loss: 0.6386 - val_accuracy: 0.9000 - 35ms/epoch - 17ms/step\n",
            "Epoch 18/100\n",
            "2/2 - 0s - loss: 0.6544 - accuracy: 0.6842 - val_loss: 0.6362 - val_accuracy: 0.9000 - 34ms/epoch - 17ms/step\n",
            "Epoch 19/100\n",
            "2/2 - 0s - loss: 0.6432 - accuracy: 0.6579 - val_loss: 0.6318 - val_accuracy: 0.9000 - 47ms/epoch - 24ms/step\n",
            "Epoch 20/100\n",
            "2/2 - 0s - loss: 0.6535 - accuracy: 0.6842 - val_loss: 0.6269 - val_accuracy: 0.9000 - 53ms/epoch - 26ms/step\n",
            "Epoch 21/100\n",
            "2/2 - 0s - loss: 0.6547 - accuracy: 0.6842 - val_loss: 0.6237 - val_accuracy: 0.9000 - 42ms/epoch - 21ms/step\n",
            "Epoch 22/100\n",
            "2/2 - 0s - loss: 0.6339 - accuracy: 0.6842 - val_loss: 0.6191 - val_accuracy: 0.9000 - 30ms/epoch - 15ms/step\n",
            "Epoch 23/100\n",
            "2/2 - 0s - loss: 0.6440 - accuracy: 0.6053 - val_loss: 0.6156 - val_accuracy: 0.9000 - 32ms/epoch - 16ms/step\n",
            "Epoch 24/100\n",
            "2/2 - 0s - loss: 0.6353 - accuracy: 0.7105 - val_loss: 0.6098 - val_accuracy: 0.9000 - 30ms/epoch - 15ms/step\n",
            "Epoch 25/100\n",
            "2/2 - 0s - loss: 0.6454 - accuracy: 0.6842 - val_loss: 0.6026 - val_accuracy: 0.9000 - 33ms/epoch - 16ms/step\n",
            "Epoch 26/100\n",
            "2/2 - 0s - loss: 0.6203 - accuracy: 0.7105 - val_loss: 0.5995 - val_accuracy: 0.9000 - 43ms/epoch - 22ms/step\n",
            "Epoch 27/100\n",
            "2/2 - 0s - loss: 0.6281 - accuracy: 0.6842 - val_loss: 0.5952 - val_accuracy: 0.9000 - 44ms/epoch - 22ms/step\n",
            "Epoch 28/100\n",
            "2/2 - 0s - loss: 0.6166 - accuracy: 0.7105 - val_loss: 0.5909 - val_accuracy: 0.9000 - 44ms/epoch - 22ms/step\n",
            "Epoch 29/100\n",
            "2/2 - 0s - loss: 0.6294 - accuracy: 0.7105 - val_loss: 0.5870 - val_accuracy: 0.9000 - 42ms/epoch - 21ms/step\n",
            "Epoch 30/100\n",
            "2/2 - 0s - loss: 0.6190 - accuracy: 0.6842 - val_loss: 0.5823 - val_accuracy: 0.9000 - 41ms/epoch - 20ms/step\n",
            "Epoch 31/100\n",
            "2/2 - 0s - loss: 0.6162 - accuracy: 0.6842 - val_loss: 0.5818 - val_accuracy: 0.9000 - 37ms/epoch - 19ms/step\n",
            "Epoch 32/100\n",
            "2/2 - 0s - loss: 0.6287 - accuracy: 0.6842 - val_loss: 0.5806 - val_accuracy: 0.9000 - 39ms/epoch - 20ms/step\n",
            "Epoch 33/100\n",
            "2/2 - 0s - loss: 0.6136 - accuracy: 0.6842 - val_loss: 0.5767 - val_accuracy: 0.9000 - 36ms/epoch - 18ms/step\n",
            "Epoch 34/100\n",
            "2/2 - 0s - loss: 0.6207 - accuracy: 0.7105 - val_loss: 0.5735 - val_accuracy: 0.9000 - 31ms/epoch - 15ms/step\n",
            "Epoch 35/100\n",
            "2/2 - 0s - loss: 0.6156 - accuracy: 0.6842 - val_loss: 0.5710 - val_accuracy: 0.9000 - 33ms/epoch - 16ms/step\n",
            "Epoch 36/100\n",
            "2/2 - 0s - loss: 0.6186 - accuracy: 0.6842 - val_loss: 0.5690 - val_accuracy: 0.9000 - 35ms/epoch - 17ms/step\n",
            "Epoch 37/100\n",
            "2/2 - 0s - loss: 0.6147 - accuracy: 0.6842 - val_loss: 0.5676 - val_accuracy: 0.9000 - 37ms/epoch - 19ms/step\n",
            "Epoch 38/100\n",
            "2/2 - 0s - loss: 0.6133 - accuracy: 0.7105 - val_loss: 0.5640 - val_accuracy: 0.9000 - 28ms/epoch - 14ms/step\n",
            "Epoch 39/100\n",
            "2/2 - 0s - loss: 0.6147 - accuracy: 0.6842 - val_loss: 0.5613 - val_accuracy: 0.9000 - 32ms/epoch - 16ms/step\n",
            "Epoch 40/100\n",
            "2/2 - 0s - loss: 0.6153 - accuracy: 0.6842 - val_loss: 0.5585 - val_accuracy: 0.9000 - 36ms/epoch - 18ms/step\n",
            "Epoch 41/100\n",
            "2/2 - 0s - loss: 0.6061 - accuracy: 0.7105 - val_loss: 0.5551 - val_accuracy: 0.9000 - 34ms/epoch - 17ms/step\n",
            "Epoch 42/100\n",
            "2/2 - 0s - loss: 0.6182 - accuracy: 0.7105 - val_loss: 0.5516 - val_accuracy: 0.9000 - 35ms/epoch - 17ms/step\n",
            "Epoch 43/100\n",
            "2/2 - 0s - loss: 0.6093 - accuracy: 0.6842 - val_loss: 0.5521 - val_accuracy: 0.9000 - 31ms/epoch - 16ms/step\n",
            "Epoch 44/100\n",
            "2/2 - 0s - loss: 0.5988 - accuracy: 0.6842 - val_loss: 0.5482 - val_accuracy: 0.9000 - 41ms/epoch - 20ms/step\n",
            "Epoch 45/100\n",
            "2/2 - 0s - loss: 0.6142 - accuracy: 0.7105 - val_loss: 0.5445 - val_accuracy: 0.9000 - 32ms/epoch - 16ms/step\n",
            "Epoch 46/100\n",
            "2/2 - 0s - loss: 0.6014 - accuracy: 0.7105 - val_loss: 0.5414 - val_accuracy: 0.9000 - 34ms/epoch - 17ms/step\n",
            "Epoch 47/100\n",
            "2/2 - 0s - loss: 0.6096 - accuracy: 0.7105 - val_loss: 0.5381 - val_accuracy: 0.9000 - 31ms/epoch - 15ms/step\n",
            "Epoch 48/100\n",
            "2/2 - 0s - loss: 0.5877 - accuracy: 0.7105 - val_loss: 0.5332 - val_accuracy: 0.9000 - 34ms/epoch - 17ms/step\n",
            "Epoch 49/100\n",
            "2/2 - 0s - loss: 0.5901 - accuracy: 0.7105 - val_loss: 0.5296 - val_accuracy: 0.9000 - 38ms/epoch - 19ms/step\n",
            "Epoch 50/100\n",
            "2/2 - 0s - loss: 0.5860 - accuracy: 0.6842 - val_loss: 0.5263 - val_accuracy: 0.9000 - 32ms/epoch - 16ms/step\n",
            "Epoch 51/100\n",
            "2/2 - 0s - loss: 0.5905 - accuracy: 0.6842 - val_loss: 0.5248 - val_accuracy: 0.9000 - 32ms/epoch - 16ms/step\n",
            "Epoch 52/100\n",
            "2/2 - 0s - loss: 0.5911 - accuracy: 0.6842 - val_loss: 0.5241 - val_accuracy: 0.9000 - 44ms/epoch - 22ms/step\n",
            "Epoch 53/100\n",
            "2/2 - 0s - loss: 0.6010 - accuracy: 0.6842 - val_loss: 0.5239 - val_accuracy: 0.9000 - 36ms/epoch - 18ms/step\n",
            "Epoch 54/100\n",
            "2/2 - 0s - loss: 0.5851 - accuracy: 0.6842 - val_loss: 0.5238 - val_accuracy: 0.9000 - 37ms/epoch - 19ms/step\n",
            "Epoch 55/100\n",
            "2/2 - 0s - loss: 0.5960 - accuracy: 0.7105 - val_loss: 0.5230 - val_accuracy: 0.9000 - 38ms/epoch - 19ms/step\n",
            "Epoch 56/100\n",
            "2/2 - 0s - loss: 0.5850 - accuracy: 0.7105 - val_loss: 0.5211 - val_accuracy: 0.9000 - 47ms/epoch - 23ms/step\n",
            "Epoch 57/100\n",
            "2/2 - 0s - loss: 0.5993 - accuracy: 0.6842 - val_loss: 0.5189 - val_accuracy: 0.9000 - 41ms/epoch - 20ms/step\n",
            "Epoch 58/100\n",
            "2/2 - 0s - loss: 0.5967 - accuracy: 0.7105 - val_loss: 0.5170 - val_accuracy: 0.9000 - 45ms/epoch - 22ms/step\n",
            "Epoch 59/100\n",
            "2/2 - 0s - loss: 0.5997 - accuracy: 0.7105 - val_loss: 0.5171 - val_accuracy: 0.9000 - 30ms/epoch - 15ms/step\n",
            "Epoch 60/100\n",
            "2/2 - 0s - loss: 0.5808 - accuracy: 0.7105 - val_loss: 0.5116 - val_accuracy: 0.9000 - 35ms/epoch - 18ms/step\n",
            "Epoch 61/100\n",
            "2/2 - 0s - loss: 0.5853 - accuracy: 0.7368 - val_loss: 0.5084 - val_accuracy: 0.9000 - 31ms/epoch - 16ms/step\n",
            "Epoch 62/100\n",
            "2/2 - 0s - loss: 0.5838 - accuracy: 0.6579 - val_loss: 0.5061 - val_accuracy: 0.9000 - 35ms/epoch - 17ms/step\n",
            "Epoch 63/100\n",
            "2/2 - 0s - loss: 0.5786 - accuracy: 0.7105 - val_loss: 0.5060 - val_accuracy: 0.9000 - 36ms/epoch - 18ms/step\n",
            "Epoch 64/100\n",
            "2/2 - 0s - loss: 0.5995 - accuracy: 0.6842 - val_loss: 0.5034 - val_accuracy: 0.9000 - 35ms/epoch - 18ms/step\n",
            "Epoch 65/100\n",
            "2/2 - 0s - loss: 0.5802 - accuracy: 0.7105 - val_loss: 0.5012 - val_accuracy: 0.9000 - 50ms/epoch - 25ms/step\n",
            "Epoch 66/100\n",
            "2/2 - 0s - loss: 0.5735 - accuracy: 0.7105 - val_loss: 0.5011 - val_accuracy: 0.9000 - 39ms/epoch - 20ms/step\n",
            "Epoch 67/100\n",
            "2/2 - 0s - loss: 0.5710 - accuracy: 0.7105 - val_loss: 0.4989 - val_accuracy: 0.9000 - 37ms/epoch - 18ms/step\n",
            "Epoch 68/100\n",
            "2/2 - 0s - loss: 0.5964 - accuracy: 0.6842 - val_loss: 0.4955 - val_accuracy: 0.9000 - 43ms/epoch - 22ms/step\n",
            "Epoch 69/100\n",
            "2/2 - 0s - loss: 0.5909 - accuracy: 0.6842 - val_loss: 0.4919 - val_accuracy: 0.9000 - 36ms/epoch - 18ms/step\n",
            "Epoch 70/100\n",
            "2/2 - 0s - loss: 0.5703 - accuracy: 0.7105 - val_loss: 0.4922 - val_accuracy: 0.9000 - 46ms/epoch - 23ms/step\n",
            "Epoch 71/100\n",
            "2/2 - 0s - loss: 0.5629 - accuracy: 0.7105 - val_loss: 0.4938 - val_accuracy: 0.9000 - 42ms/epoch - 21ms/step\n",
            "Epoch 72/100\n",
            "2/2 - 0s - loss: 0.5851 - accuracy: 0.7368 - val_loss: 0.4940 - val_accuracy: 0.9000 - 45ms/epoch - 23ms/step\n",
            "Epoch 73/100\n",
            "2/2 - 0s - loss: 0.5860 - accuracy: 0.7105 - val_loss: 0.4918 - val_accuracy: 0.9000 - 35ms/epoch - 18ms/step\n",
            "Epoch 74/100\n",
            "2/2 - 0s - loss: 0.5788 - accuracy: 0.6842 - val_loss: 0.4926 - val_accuracy: 0.9000 - 34ms/epoch - 17ms/step\n",
            "Epoch 75/100\n",
            "2/2 - 0s - loss: 0.5959 - accuracy: 0.7105 - val_loss: 0.4934 - val_accuracy: 0.9000 - 40ms/epoch - 20ms/step\n",
            "Epoch 76/100\n",
            "2/2 - 0s - loss: 0.5682 - accuracy: 0.7368 - val_loss: 0.4914 - val_accuracy: 0.9000 - 40ms/epoch - 20ms/step\n",
            "Epoch 77/100\n",
            "2/2 - 0s - loss: 0.5781 - accuracy: 0.7105 - val_loss: 0.4909 - val_accuracy: 0.9000 - 46ms/epoch - 23ms/step\n",
            "Epoch 78/100\n",
            "2/2 - 0s - loss: 0.5768 - accuracy: 0.7105 - val_loss: 0.4871 - val_accuracy: 0.9000 - 39ms/epoch - 19ms/step\n",
            "Epoch 79/100\n",
            "2/2 - 0s - loss: 0.5632 - accuracy: 0.7368 - val_loss: 0.4863 - val_accuracy: 0.9000 - 32ms/epoch - 16ms/step\n",
            "Epoch 80/100\n",
            "2/2 - 0s - loss: 0.5849 - accuracy: 0.7105 - val_loss: 0.4869 - val_accuracy: 0.9000 - 32ms/epoch - 16ms/step\n",
            "Epoch 81/100\n",
            "2/2 - 0s - loss: 0.5756 - accuracy: 0.7105 - val_loss: 0.4857 - val_accuracy: 0.9000 - 41ms/epoch - 20ms/step\n",
            "Epoch 82/100\n",
            "2/2 - 0s - loss: 0.5729 - accuracy: 0.7105 - val_loss: 0.4841 - val_accuracy: 0.9000 - 53ms/epoch - 26ms/step\n",
            "Epoch 83/100\n",
            "2/2 - 0s - loss: 0.5694 - accuracy: 0.7368 - val_loss: 0.4864 - val_accuracy: 0.9000 - 47ms/epoch - 23ms/step\n",
            "Epoch 84/100\n",
            "2/2 - 0s - loss: 0.5644 - accuracy: 0.7105 - val_loss: 0.4853 - val_accuracy: 0.9000 - 58ms/epoch - 29ms/step\n",
            "Epoch 85/100\n",
            "2/2 - 0s - loss: 0.5754 - accuracy: 0.7632 - val_loss: 0.4838 - val_accuracy: 0.9000 - 51ms/epoch - 25ms/step\n",
            "Epoch 86/100\n",
            "2/2 - 0s - loss: 0.5571 - accuracy: 0.7105 - val_loss: 0.4842 - val_accuracy: 0.9000 - 45ms/epoch - 22ms/step\n",
            "Epoch 87/100\n",
            "2/2 - 0s - loss: 0.5874 - accuracy: 0.6579 - val_loss: 0.4819 - val_accuracy: 0.9000 - 45ms/epoch - 23ms/step\n",
            "Epoch 88/100\n",
            "2/2 - 0s - loss: 0.5707 - accuracy: 0.6842 - val_loss: 0.4842 - val_accuracy: 0.9000 - 45ms/epoch - 23ms/step\n",
            "Epoch 89/100\n",
            "2/2 - 0s - loss: 0.5839 - accuracy: 0.7105 - val_loss: 0.4842 - val_accuracy: 0.9000 - 33ms/epoch - 17ms/step\n",
            "Epoch 90/100\n",
            "2/2 - 0s - loss: 0.5788 - accuracy: 0.7105 - val_loss: 0.4846 - val_accuracy: 0.9000 - 49ms/epoch - 24ms/step\n",
            "Epoch 91/100\n",
            "2/2 - 0s - loss: 0.5640 - accuracy: 0.7105 - val_loss: 0.4830 - val_accuracy: 0.9000 - 43ms/epoch - 22ms/step\n",
            "Epoch 92/100\n",
            "2/2 - 0s - loss: 0.5581 - accuracy: 0.7105 - val_loss: 0.4834 - val_accuracy: 0.9000 - 44ms/epoch - 22ms/step\n",
            "Epoch 93/100\n",
            "2/2 - 0s - loss: 0.5697 - accuracy: 0.6842 - val_loss: 0.4821 - val_accuracy: 0.9000 - 40ms/epoch - 20ms/step\n",
            "Epoch 94/100\n",
            "2/2 - 0s - loss: 0.5650 - accuracy: 0.7105 - val_loss: 0.4802 - val_accuracy: 0.9000 - 36ms/epoch - 18ms/step\n",
            "Epoch 95/100\n",
            "2/2 - 0s - loss: 0.5663 - accuracy: 0.6842 - val_loss: 0.4779 - val_accuracy: 0.9000 - 42ms/epoch - 21ms/step\n",
            "Epoch 96/100\n",
            "2/2 - 0s - loss: 0.5485 - accuracy: 0.7105 - val_loss: 0.4746 - val_accuracy: 0.9000 - 47ms/epoch - 24ms/step\n",
            "Epoch 97/100\n",
            "2/2 - 0s - loss: 0.5639 - accuracy: 0.7368 - val_loss: 0.4752 - val_accuracy: 0.9000 - 47ms/epoch - 24ms/step\n",
            "Epoch 98/100\n",
            "2/2 - 0s - loss: 0.5412 - accuracy: 0.6842 - val_loss: 0.4740 - val_accuracy: 0.9000 - 52ms/epoch - 26ms/step\n",
            "Epoch 99/100\n",
            "2/2 - 0s - loss: 0.5780 - accuracy: 0.7105 - val_loss: 0.4759 - val_accuracy: 0.9000 - 47ms/epoch - 24ms/step\n",
            "Epoch 100/100\n",
            "2/2 - 0s - loss: 0.5722 - accuracy: 0.7105 - val_loss: 0.4732 - val_accuracy: 0.9000 - 42ms/epoch - 21ms/step\n"
          ]
        }
      ]
    },
    {
      "cell_type": "code",
      "source": [
        "print(\"train evaluation:\")\n",
        "print(model2.evaluate(X_train, y_train))\n",
        "\n",
        "print(\"test evaluation:\")\n",
        "print(model2.evaluate(X_test, y_test))"
      ],
      "metadata": {
        "colab": {
          "base_uri": "https://localhost:8080/"
        },
        "id": "AdVgUkcjAaX2",
        "outputId": "df10be57-bb5f-429e-cd80-ae748a2fcbae"
      },
      "execution_count": 51,
      "outputs": [
        {
          "output_type": "stream",
          "name": "stdout",
          "text": [
            "train evaluation:\n",
            "2/2 [==============================] - 0s 7ms/step - loss: 0.5449 - accuracy: 0.7500\n",
            "[0.5448781847953796, 0.75]\n",
            "test evaluation:\n",
            "1/1 [==============================] - 0s 30ms/step - loss: 0.6527 - accuracy: 0.5000\n",
            "[0.6527340412139893, 0.5]\n"
          ]
        }
      ]
    },
    {
      "cell_type": "code",
      "source": [
        "sgx, sgy = make_sample(500)\n",
        "plt.scatter(sgx[:,0], sgx[:,1], alpha=0.5, c=sgy)\n",
        "plt.xlabel('x1')\n",
        "plt.ylabel('x2')\n",
        "\n",
        "X_train, X_test, y_train, y_test = train_test_split(sgx, sgy, test_size=0.2)"
      ],
      "metadata": {
        "colab": {
          "base_uri": "https://localhost:8080/",
          "height": 279
        },
        "id": "uIpSejPqAkcU",
        "outputId": "bcda5a6a-9d1b-4213-9a80-c61012ca5b28"
      },
      "execution_count": 56,
      "outputs": [
        {
          "output_type": "display_data",
          "data": {
            "text/plain": [
              "<Figure size 432x288 with 1 Axes>"
            ],
            "image/png": "[encoded data removed]"
          },
          "metadata": {
            "needs_background": "light"
          }
        }
      ]
    },
    {
      "cell_type": "code",
      "source": [
        "model3 = Sequential([\n",
        "    Dense(32, activation='relu'),\n",
        "    Dropout(0.2),\n",
        "    Dense(16, activation='relu'),\n",
        "    Dense(1, activation='sigmoid')\n",
        "])\n",
        "\n",
        "model3.compile(optimizer='rmsprop',\n",
        "              loss=tf.keras.losses.BinaryCrossentropy(),\n",
        "              metrics=['accuracy'])\n",
        "\n",
        "history = model3.fit(X_train, y_train, validation_split=0.2, epochs=100, verbose=2)"
      ],
      "metadata": {
        "colab": {
          "base_uri": "https://localhost:8080/"
        },
        "id": "DjvjC8Kr6FRV",
        "outputId": "6530134c-1416-4cd4-fc43-f2b9be13a895"
      },
      "execution_count": 57,
      "outputs": [
        {
          "output_type": "stream",
          "name": "stdout",
          "text": [
            "Epoch 1/100\n",
            "20/20 - 1s - loss: 0.6102 - accuracy: 0.6391 - val_loss: 0.5774 - val_accuracy: 0.7000 - 792ms/epoch - 40ms/step\n",
            "Epoch 2/100\n",
            "20/20 - 0s - loss: 0.5653 - accuracy: 0.7078 - val_loss: 0.5444 - val_accuracy: 0.7500 - 65ms/epoch - 3ms/step\n",
            "Epoch 3/100\n",
            "20/20 - 0s - loss: 0.5396 - accuracy: 0.7344 - val_loss: 0.5200 - val_accuracy: 0.7937 - 60ms/epoch - 3ms/step\n",
            "Epoch 4/100\n",
            "20/20 - 0s - loss: 0.5091 - accuracy: 0.7547 - val_loss: 0.5015 - val_accuracy: 0.8000 - 60ms/epoch - 3ms/step\n",
            "Epoch 5/100\n",
            "20/20 - 0s - loss: 0.4946 - accuracy: 0.7781 - val_loss: 0.4888 - val_accuracy: 0.8062 - 53ms/epoch - 3ms/step\n",
            "Epoch 6/100\n",
            "20/20 - 0s - loss: 0.4853 - accuracy: 0.7609 - val_loss: 0.4810 - val_accuracy: 0.8062 - 57ms/epoch - 3ms/step\n",
            "Epoch 7/100\n",
            "20/20 - 0s - loss: 0.4803 - accuracy: 0.7656 - val_loss: 0.4756 - val_accuracy: 0.8125 - 57ms/epoch - 3ms/step\n",
            "Epoch 8/100\n",
            "20/20 - 0s - loss: 0.4807 - accuracy: 0.7766 - val_loss: 0.4720 - val_accuracy: 0.8125 - 56ms/epoch - 3ms/step\n",
            "Epoch 9/100\n",
            "20/20 - 0s - loss: 0.4811 - accuracy: 0.7672 - val_loss: 0.4714 - val_accuracy: 0.8125 - 57ms/epoch - 3ms/step\n",
            "Epoch 10/100\n",
            "20/20 - 0s - loss: 0.4794 - accuracy: 0.7766 - val_loss: 0.4701 - val_accuracy: 0.8125 - 75ms/epoch - 4ms/step\n",
            "Epoch 11/100\n",
            "20/20 - 0s - loss: 0.4752 - accuracy: 0.7734 - val_loss: 0.4700 - val_accuracy: 0.8125 - 68ms/epoch - 3ms/step\n",
            "Epoch 12/100\n",
            "20/20 - 0s - loss: 0.4753 - accuracy: 0.7688 - val_loss: 0.4695 - val_accuracy: 0.8188 - 55ms/epoch - 3ms/step\n",
            "Epoch 13/100\n",
            "20/20 - 0s - loss: 0.4685 - accuracy: 0.7719 - val_loss: 0.4702 - val_accuracy: 0.8125 - 70ms/epoch - 4ms/step\n",
            "Epoch 14/100\n",
            "20/20 - 0s - loss: 0.4732 - accuracy: 0.7812 - val_loss: 0.4694 - val_accuracy: 0.8250 - 57ms/epoch - 3ms/step\n",
            "Epoch 15/100\n",
            "20/20 - 0s - loss: 0.4734 - accuracy: 0.7719 - val_loss: 0.4685 - val_accuracy: 0.8250 - 55ms/epoch - 3ms/step\n",
            "Epoch 16/100\n",
            "20/20 - 0s - loss: 0.4691 - accuracy: 0.7844 - val_loss: 0.4684 - val_accuracy: 0.8250 - 83ms/epoch - 4ms/step\n",
            "Epoch 17/100\n",
            "20/20 - 0s - loss: 0.4658 - accuracy: 0.7719 - val_loss: 0.4690 - val_accuracy: 0.8250 - 70ms/epoch - 3ms/step\n",
            "Epoch 18/100\n",
            "20/20 - 0s - loss: 0.4714 - accuracy: 0.7766 - val_loss: 0.4684 - val_accuracy: 0.8188 - 75ms/epoch - 4ms/step\n",
            "Epoch 19/100\n",
            "20/20 - 0s - loss: 0.4770 - accuracy: 0.7797 - val_loss: 0.4693 - val_accuracy: 0.8188 - 55ms/epoch - 3ms/step\n",
            "Epoch 20/100\n",
            "20/20 - 0s - loss: 0.4675 - accuracy: 0.7781 - val_loss: 0.4680 - val_accuracy: 0.8125 - 90ms/epoch - 4ms/step\n",
            "Epoch 21/100\n",
            "20/20 - 0s - loss: 0.4853 - accuracy: 0.7672 - val_loss: 0.4681 - val_accuracy: 0.8250 - 88ms/epoch - 4ms/step\n",
            "Epoch 22/100\n",
            "20/20 - 0s - loss: 0.4825 - accuracy: 0.7781 - val_loss: 0.4671 - val_accuracy: 0.8250 - 96ms/epoch - 5ms/step\n",
            "Epoch 23/100\n",
            "20/20 - 0s - loss: 0.4717 - accuracy: 0.7781 - val_loss: 0.4678 - val_accuracy: 0.8188 - 102ms/epoch - 5ms/step\n",
            "Epoch 24/100\n",
            "20/20 - 0s - loss: 0.4729 - accuracy: 0.7766 - val_loss: 0.4675 - val_accuracy: 0.8188 - 103ms/epoch - 5ms/step\n",
            "Epoch 25/100\n",
            "20/20 - 0s - loss: 0.4695 - accuracy: 0.7734 - val_loss: 0.4675 - val_accuracy: 0.8188 - 98ms/epoch - 5ms/step\n",
            "Epoch 26/100\n",
            "20/20 - 0s - loss: 0.4729 - accuracy: 0.7812 - val_loss: 0.4677 - val_accuracy: 0.8250 - 99ms/epoch - 5ms/step\n",
            "Epoch 27/100\n",
            "20/20 - 0s - loss: 0.4706 - accuracy: 0.7656 - val_loss: 0.4675 - val_accuracy: 0.8188 - 106ms/epoch - 5ms/step\n",
            "Epoch 28/100\n",
            "20/20 - 0s - loss: 0.4787 - accuracy: 0.7688 - val_loss: 0.4677 - val_accuracy: 0.8188 - 136ms/epoch - 7ms/step\n",
            "Epoch 29/100\n",
            "20/20 - 0s - loss: 0.4785 - accuracy: 0.7703 - val_loss: 0.4678 - val_accuracy: 0.8188 - 103ms/epoch - 5ms/step\n",
            "Epoch 30/100\n",
            "20/20 - 0s - loss: 0.4781 - accuracy: 0.7797 - val_loss: 0.4676 - val_accuracy: 0.8125 - 59ms/epoch - 3ms/step\n",
            "Epoch 31/100\n",
            "20/20 - 0s - loss: 0.4781 - accuracy: 0.7859 - val_loss: 0.4667 - val_accuracy: 0.8125 - 56ms/epoch - 3ms/step\n",
            "Epoch 32/100\n",
            "20/20 - 0s - loss: 0.4681 - accuracy: 0.7781 - val_loss: 0.4676 - val_accuracy: 0.8188 - 57ms/epoch - 3ms/step\n",
            "Epoch 33/100\n",
            "20/20 - 0s - loss: 0.4638 - accuracy: 0.7719 - val_loss: 0.4676 - val_accuracy: 0.8188 - 56ms/epoch - 3ms/step\n",
            "Epoch 34/100\n",
            "20/20 - 0s - loss: 0.4673 - accuracy: 0.7734 - val_loss: 0.4674 - val_accuracy: 0.8188 - 54ms/epoch - 3ms/step\n",
            "Epoch 35/100\n",
            "20/20 - 0s - loss: 0.4759 - accuracy: 0.7672 - val_loss: 0.4674 - val_accuracy: 0.8125 - 53ms/epoch - 3ms/step\n",
            "Epoch 36/100\n",
            "20/20 - 0s - loss: 0.4756 - accuracy: 0.7719 - val_loss: 0.4678 - val_accuracy: 0.8250 - 55ms/epoch - 3ms/step\n",
            "Epoch 37/100\n",
            "20/20 - 0s - loss: 0.4759 - accuracy: 0.7750 - val_loss: 0.4675 - val_accuracy: 0.8188 - 61ms/epoch - 3ms/step\n",
            "Epoch 38/100\n",
            "20/20 - 0s - loss: 0.4711 - accuracy: 0.7797 - val_loss: 0.4670 - val_accuracy: 0.8125 - 75ms/epoch - 4ms/step\n",
            "Epoch 39/100\n",
            "20/20 - 0s - loss: 0.4750 - accuracy: 0.7766 - val_loss: 0.4676 - val_accuracy: 0.8125 - 55ms/epoch - 3ms/step\n",
            "Epoch 40/100\n",
            "20/20 - 0s - loss: 0.4685 - accuracy: 0.7672 - val_loss: 0.4675 - val_accuracy: 0.8125 - 68ms/epoch - 3ms/step\n",
            "Epoch 41/100\n",
            "20/20 - 0s - loss: 0.4728 - accuracy: 0.7750 - val_loss: 0.4679 - val_accuracy: 0.8125 - 68ms/epoch - 3ms/step\n",
            "Epoch 42/100\n",
            "20/20 - 0s - loss: 0.4678 - accuracy: 0.7703 - val_loss: 0.4674 - val_accuracy: 0.8125 - 72ms/epoch - 4ms/step\n",
            "Epoch 43/100\n",
            "20/20 - 0s - loss: 0.4663 - accuracy: 0.7734 - val_loss: 0.4685 - val_accuracy: 0.8125 - 54ms/epoch - 3ms/step\n",
            "Epoch 44/100\n",
            "20/20 - 0s - loss: 0.4759 - accuracy: 0.7609 - val_loss: 0.4688 - val_accuracy: 0.8125 - 54ms/epoch - 3ms/step\n",
            "Epoch 45/100\n",
            "20/20 - 0s - loss: 0.4729 - accuracy: 0.7766 - val_loss: 0.4700 - val_accuracy: 0.8125 - 54ms/epoch - 3ms/step\n",
            "Epoch 46/100\n",
            "20/20 - 0s - loss: 0.4661 - accuracy: 0.7703 - val_loss: 0.4697 - val_accuracy: 0.8125 - 57ms/epoch - 3ms/step\n",
            "Epoch 47/100\n",
            "20/20 - 0s - loss: 0.4663 - accuracy: 0.7844 - val_loss: 0.4698 - val_accuracy: 0.8125 - 70ms/epoch - 3ms/step\n",
            "Epoch 48/100\n",
            "20/20 - 0s - loss: 0.4675 - accuracy: 0.7719 - val_loss: 0.4694 - val_accuracy: 0.8125 - 73ms/epoch - 4ms/step\n",
            "Epoch 49/100\n",
            "20/20 - 0s - loss: 0.4668 - accuracy: 0.7766 - val_loss: 0.4695 - val_accuracy: 0.8125 - 55ms/epoch - 3ms/step\n",
            "Epoch 50/100\n",
            "20/20 - 0s - loss: 0.4734 - accuracy: 0.7766 - val_loss: 0.4698 - val_accuracy: 0.8125 - 58ms/epoch - 3ms/step\n",
            "Epoch 51/100\n",
            "20/20 - 0s - loss: 0.4631 - accuracy: 0.7703 - val_loss: 0.4703 - val_accuracy: 0.8062 - 56ms/epoch - 3ms/step\n",
            "Epoch 52/100\n",
            "20/20 - 0s - loss: 0.4646 - accuracy: 0.7719 - val_loss: 0.4701 - val_accuracy: 0.8125 - 62ms/epoch - 3ms/step\n",
            "Epoch 53/100\n",
            "20/20 - 0s - loss: 0.4716 - accuracy: 0.7719 - val_loss: 0.4701 - val_accuracy: 0.8188 - 54ms/epoch - 3ms/step\n",
            "Epoch 54/100\n",
            "20/20 - 0s - loss: 0.4670 - accuracy: 0.7719 - val_loss: 0.4697 - val_accuracy: 0.8188 - 72ms/epoch - 4ms/step\n",
            "Epoch 55/100\n",
            "20/20 - 0s - loss: 0.4654 - accuracy: 0.7719 - val_loss: 0.4696 - val_accuracy: 0.8125 - 59ms/epoch - 3ms/step\n",
            "Epoch 56/100\n",
            "20/20 - 0s - loss: 0.4635 - accuracy: 0.7797 - val_loss: 0.4695 - val_accuracy: 0.8125 - 70ms/epoch - 3ms/step\n",
            "Epoch 57/100\n",
            "20/20 - 0s - loss: 0.4694 - accuracy: 0.7750 - val_loss: 0.4697 - val_accuracy: 0.8125 - 55ms/epoch - 3ms/step\n",
            "Epoch 58/100\n",
            "20/20 - 0s - loss: 0.4650 - accuracy: 0.7672 - val_loss: 0.4695 - val_accuracy: 0.8125 - 75ms/epoch - 4ms/step\n",
            "Epoch 59/100\n",
            "20/20 - 0s - loss: 0.4665 - accuracy: 0.7719 - val_loss: 0.4705 - val_accuracy: 0.8125 - 73ms/epoch - 4ms/step\n",
            "Epoch 60/100\n",
            "20/20 - 0s - loss: 0.4726 - accuracy: 0.7719 - val_loss: 0.4694 - val_accuracy: 0.8125 - 54ms/epoch - 3ms/step\n",
            "Epoch 61/100\n",
            "20/20 - 0s - loss: 0.4688 - accuracy: 0.7703 - val_loss: 0.4692 - val_accuracy: 0.8125 - 59ms/epoch - 3ms/step\n",
            "Epoch 62/100\n",
            "20/20 - 0s - loss: 0.4694 - accuracy: 0.7656 - val_loss: 0.4696 - val_accuracy: 0.8125 - 55ms/epoch - 3ms/step\n",
            "Epoch 63/100\n",
            "20/20 - 0s - loss: 0.4714 - accuracy: 0.7703 - val_loss: 0.4694 - val_accuracy: 0.8125 - 71ms/epoch - 4ms/step\n",
            "Epoch 64/100\n",
            "20/20 - 0s - loss: 0.4689 - accuracy: 0.7641 - val_loss: 0.4690 - val_accuracy: 0.8125 - 56ms/epoch - 3ms/step\n",
            "Epoch 65/100\n",
            "20/20 - 0s - loss: 0.4688 - accuracy: 0.7734 - val_loss: 0.4687 - val_accuracy: 0.8125 - 57ms/epoch - 3ms/step\n",
            "Epoch 66/100\n",
            "20/20 - 0s - loss: 0.4710 - accuracy: 0.7734 - val_loss: 0.4692 - val_accuracy: 0.8125 - 55ms/epoch - 3ms/step\n",
            "Epoch 67/100\n",
            "20/20 - 0s - loss: 0.4741 - accuracy: 0.7719 - val_loss: 0.4693 - val_accuracy: 0.8125 - 63ms/epoch - 3ms/step\n",
            "Epoch 68/100\n",
            "20/20 - 0s - loss: 0.4621 - accuracy: 0.7672 - val_loss: 0.4691 - val_accuracy: 0.8125 - 55ms/epoch - 3ms/step\n",
            "Epoch 69/100\n",
            "20/20 - 0s - loss: 0.4664 - accuracy: 0.7656 - val_loss: 0.4700 - val_accuracy: 0.8125 - 59ms/epoch - 3ms/step\n",
            "Epoch 70/100\n",
            "20/20 - 0s - loss: 0.4740 - accuracy: 0.7641 - val_loss: 0.4692 - val_accuracy: 0.8188 - 59ms/epoch - 3ms/step\n",
            "Epoch 71/100\n",
            "20/20 - 0s - loss: 0.4687 - accuracy: 0.7734 - val_loss: 0.4698 - val_accuracy: 0.8188 - 55ms/epoch - 3ms/step\n",
            "Epoch 72/100\n",
            "20/20 - 0s - loss: 0.4706 - accuracy: 0.7688 - val_loss: 0.4696 - val_accuracy: 0.8188 - 55ms/epoch - 3ms/step\n",
            "Epoch 73/100\n",
            "20/20 - 0s - loss: 0.4632 - accuracy: 0.7750 - val_loss: 0.4709 - val_accuracy: 0.8125 - 59ms/epoch - 3ms/step\n",
            "Epoch 74/100\n",
            "20/20 - 0s - loss: 0.4652 - accuracy: 0.7766 - val_loss: 0.4702 - val_accuracy: 0.8188 - 60ms/epoch - 3ms/step\n",
            "Epoch 75/100\n",
            "20/20 - 0s - loss: 0.4666 - accuracy: 0.7688 - val_loss: 0.4699 - val_accuracy: 0.8125 - 65ms/epoch - 3ms/step\n",
            "Epoch 76/100\n",
            "20/20 - 0s - loss: 0.4655 - accuracy: 0.7672 - val_loss: 0.4695 - val_accuracy: 0.8125 - 60ms/epoch - 3ms/step\n",
            "Epoch 77/100\n",
            "20/20 - 0s - loss: 0.4646 - accuracy: 0.7750 - val_loss: 0.4701 - val_accuracy: 0.8125 - 70ms/epoch - 3ms/step\n",
            "Epoch 78/100\n",
            "20/20 - 0s - loss: 0.4627 - accuracy: 0.7750 - val_loss: 0.4714 - val_accuracy: 0.8125 - 60ms/epoch - 3ms/step\n",
            "Epoch 79/100\n",
            "20/20 - 0s - loss: 0.4695 - accuracy: 0.7719 - val_loss: 0.4710 - val_accuracy: 0.8062 - 58ms/epoch - 3ms/step\n",
            "Epoch 80/100\n",
            "20/20 - 0s - loss: 0.4652 - accuracy: 0.7734 - val_loss: 0.4709 - val_accuracy: 0.8062 - 59ms/epoch - 3ms/step\n",
            "Epoch 81/100\n",
            "20/20 - 0s - loss: 0.4642 - accuracy: 0.7703 - val_loss: 0.4704 - val_accuracy: 0.8125 - 74ms/epoch - 4ms/step\n",
            "Epoch 82/100\n",
            "20/20 - 0s - loss: 0.4699 - accuracy: 0.7719 - val_loss: 0.4710 - val_accuracy: 0.8125 - 55ms/epoch - 3ms/step\n",
            "Epoch 83/100\n",
            "20/20 - 0s - loss: 0.4665 - accuracy: 0.7781 - val_loss: 0.4695 - val_accuracy: 0.8125 - 59ms/epoch - 3ms/step\n",
            "Epoch 84/100\n",
            "20/20 - 0s - loss: 0.4693 - accuracy: 0.7688 - val_loss: 0.4707 - val_accuracy: 0.8062 - 70ms/epoch - 4ms/step\n",
            "Epoch 85/100\n",
            "20/20 - 0s - loss: 0.4703 - accuracy: 0.7734 - val_loss: 0.4697 - val_accuracy: 0.8125 - 71ms/epoch - 4ms/step\n",
            "Epoch 86/100\n",
            "20/20 - 0s - loss: 0.4665 - accuracy: 0.7688 - val_loss: 0.4702 - val_accuracy: 0.8062 - 73ms/epoch - 4ms/step\n",
            "Epoch 87/100\n",
            "20/20 - 0s - loss: 0.4677 - accuracy: 0.7672 - val_loss: 0.4706 - val_accuracy: 0.8062 - 58ms/epoch - 3ms/step\n",
            "Epoch 88/100\n",
            "20/20 - 0s - loss: 0.4688 - accuracy: 0.7688 - val_loss: 0.4707 - val_accuracy: 0.8062 - 76ms/epoch - 4ms/step\n",
            "Epoch 89/100\n",
            "20/20 - 0s - loss: 0.4624 - accuracy: 0.7703 - val_loss: 0.4701 - val_accuracy: 0.8062 - 53ms/epoch - 3ms/step\n",
            "Epoch 90/100\n",
            "20/20 - 0s - loss: 0.4688 - accuracy: 0.7750 - val_loss: 0.4701 - val_accuracy: 0.8125 - 57ms/epoch - 3ms/step\n",
            "Epoch 91/100\n",
            "20/20 - 0s - loss: 0.4659 - accuracy: 0.7672 - val_loss: 0.4711 - val_accuracy: 0.8125 - 60ms/epoch - 3ms/step\n",
            "Epoch 92/100\n",
            "20/20 - 0s - loss: 0.4732 - accuracy: 0.7719 - val_loss: 0.4704 - val_accuracy: 0.8125 - 63ms/epoch - 3ms/step\n",
            "Epoch 93/100\n",
            "20/20 - 0s - loss: 0.4674 - accuracy: 0.7703 - val_loss: 0.4709 - val_accuracy: 0.8188 - 75ms/epoch - 4ms/step\n",
            "Epoch 94/100\n",
            "20/20 - 0s - loss: 0.4713 - accuracy: 0.7703 - val_loss: 0.4695 - val_accuracy: 0.8188 - 72ms/epoch - 4ms/step\n",
            "Epoch 95/100\n",
            "20/20 - 0s - loss: 0.4707 - accuracy: 0.7625 - val_loss: 0.4698 - val_accuracy: 0.8125 - 59ms/epoch - 3ms/step\n",
            "Epoch 96/100\n",
            "20/20 - 0s - loss: 0.4761 - accuracy: 0.7656 - val_loss: 0.4693 - val_accuracy: 0.8125 - 55ms/epoch - 3ms/step\n",
            "Epoch 97/100\n",
            "20/20 - 0s - loss: 0.4671 - accuracy: 0.7750 - val_loss: 0.4697 - val_accuracy: 0.8125 - 54ms/epoch - 3ms/step\n",
            "Epoch 98/100\n",
            "20/20 - 0s - loss: 0.4665 - accuracy: 0.7734 - val_loss: 0.4705 - val_accuracy: 0.8250 - 54ms/epoch - 3ms/step\n",
            "Epoch 99/100\n",
            "20/20 - 0s - loss: 0.4683 - accuracy: 0.7688 - val_loss: 0.4693 - val_accuracy: 0.8125 - 60ms/epoch - 3ms/step\n",
            "Epoch 100/100\n",
            "20/20 - 0s - loss: 0.4705 - accuracy: 0.7688 - val_loss: 0.4710 - val_accuracy: 0.8125 - 59ms/epoch - 3ms/step\n"
          ]
        }
      ]
    },
    {
      "cell_type": "code",
      "source": [
        "print(\"train evaluation:\")\n",
        "print(model3.evaluate(X_train, y_train))\n",
        "\n",
        "print(\"test evaluation:\")\n",
        "print(model3.evaluate(X_test, y_test))"
      ],
      "metadata": {
        "colab": {
          "base_uri": "https://localhost:8080/"
        },
        "id": "F0S2p7MA6OwA",
        "outputId": "f9ac9cbd-ca7d-49b2-d1b3-48b1fc51a441"
      },
      "execution_count": 58,
      "outputs": [
        {
          "output_type": "stream",
          "name": "stdout",
          "text": [
            "train evaluation:\n",
            "25/25 [==============================] - 0s 1ms/step - loss: 0.4634 - accuracy: 0.7800\n",
            "[0.4633762240409851, 0.7799999713897705]\n",
            "test evaluation:\n",
            "7/7 [==============================] - 0s 2ms/step - loss: 0.5700 - accuracy: 0.7350\n",
            "[0.5700209140777588, 0.7350000143051147]\n"
          ]
        }
      ]
    },
    {
      "cell_type": "code",
      "source": [
        "sgx, sgy = make_sample(100)\n",
        "plt.scatter(sgx[:,0], sgx[:,1], alpha=0.5, c=sgy)\n",
        "plt.xlabel('x1')\n",
        "plt.ylabel('x2')\n",
        "\n",
        "X_train, X_test, y_train, y_test = train_test_split(sgx, sgy, test_size=0.2)"
      ],
      "metadata": {
        "colab": {
          "base_uri": "https://localhost:8080/",
          "height": 279
        },
        "id": "yR3BDbsr7NVq",
        "outputId": "f0e0a577-b9f0-480e-dbc5-6a90eb018ee8"
      },
      "execution_count": 94,
      "outputs": [
        {
          "output_type": "display_data",
          "data": {
            "text/plain": [
              "<Figure size 432x288 with 1 Axes>"
            ],
            "image/png": "[encoded data removed]"
          },
          "metadata": {
            "needs_background": "light"
          }
        }
      ]
    },
    {
      "cell_type": "code",
      "source": [
        "model4 = Sequential([\n",
        "    Dense(50, activation='relu'),\n",
        "    Dropout(0.2),\n",
        "    Dense(32, activation='relu'),\n",
        "    Dropout(0.2),\n",
        "    Dense(16, activation='relu'),\n",
        "    Dense(1, activation='sigmoid')\n",
        "])\n",
        "\n",
        "model4.compile(optimizer='rmsprop',\n",
        "              loss=tf.keras.losses.BinaryCrossentropy(),\n",
        "              metrics=['accuracy'])\n",
        "\n",
        "history = model4.fit(X_train, y_train, validation_split=0.2, epochs=100, verbose=2)"
      ],
      "metadata": {
        "colab": {
          "base_uri": "https://localhost:8080/"
        },
        "id": "lSad3PmT6Wyu",
        "outputId": "ae4973c0-893b-4123-d069-5c04f2ec048c"
      },
      "execution_count": 95,
      "outputs": [
        {
          "output_type": "stream",
          "name": "stdout",
          "text": [
            "Epoch 1/100\n",
            "4/4 - 1s - loss: 0.6908 - accuracy: 0.4844 - val_loss: 0.6365 - val_accuracy: 0.7500 - 1s/epoch - 314ms/step\n",
            "Epoch 2/100\n",
            "4/4 - 0s - loss: 0.6613 - accuracy: 0.5312 - val_loss: 0.6137 - val_accuracy: 0.6875 - 27ms/epoch - 7ms/step\n",
            "Epoch 3/100\n",
            "4/4 - 0s - loss: 0.6603 - accuracy: 0.5312 - val_loss: 0.5969 - val_accuracy: 0.7812 - 27ms/epoch - 7ms/step\n",
            "Epoch 4/100\n",
            "4/4 - 0s - loss: 0.6217 - accuracy: 0.6953 - val_loss: 0.5773 - val_accuracy: 0.8125 - 26ms/epoch - 7ms/step\n",
            "Epoch 5/100\n",
            "4/4 - 0s - loss: 0.6259 - accuracy: 0.6484 - val_loss: 0.5624 - val_accuracy: 0.8125 - 28ms/epoch - 7ms/step\n",
            "Epoch 6/100\n",
            "4/4 - 0s - loss: 0.6156 - accuracy: 0.7422 - val_loss: 0.5515 - val_accuracy: 0.8125 - 32ms/epoch - 8ms/step\n",
            "Epoch 7/100\n",
            "4/4 - 0s - loss: 0.5993 - accuracy: 0.7266 - val_loss: 0.5382 - val_accuracy: 0.8125 - 37ms/epoch - 9ms/step\n",
            "Epoch 8/100\n",
            "4/4 - 0s - loss: 0.5887 - accuracy: 0.7188 - val_loss: 0.5239 - val_accuracy: 0.8125 - 28ms/epoch - 7ms/step\n",
            "Epoch 9/100\n",
            "4/4 - 0s - loss: 0.5809 - accuracy: 0.7734 - val_loss: 0.5134 - val_accuracy: 0.8125 - 28ms/epoch - 7ms/step\n",
            "Epoch 10/100\n",
            "4/4 - 0s - loss: 0.5680 - accuracy: 0.7344 - val_loss: 0.5050 - val_accuracy: 0.8125 - 28ms/epoch - 7ms/step\n",
            "Epoch 11/100\n",
            "4/4 - 0s - loss: 0.5536 - accuracy: 0.7422 - val_loss: 0.4952 - val_accuracy: 0.8125 - 28ms/epoch - 7ms/step\n",
            "Epoch 12/100\n",
            "4/4 - 0s - loss: 0.5398 - accuracy: 0.7344 - val_loss: 0.4886 - val_accuracy: 0.7812 - 30ms/epoch - 8ms/step\n",
            "Epoch 13/100\n",
            "4/4 - 0s - loss: 0.5262 - accuracy: 0.7734 - val_loss: 0.4803 - val_accuracy: 0.7812 - 29ms/epoch - 7ms/step\n",
            "Epoch 14/100\n",
            "4/4 - 0s - loss: 0.5208 - accuracy: 0.7812 - val_loss: 0.4732 - val_accuracy: 0.7500 - 27ms/epoch - 7ms/step\n",
            "Epoch 15/100\n",
            "4/4 - 0s - loss: 0.5145 - accuracy: 0.7969 - val_loss: 0.4688 - val_accuracy: 0.7500 - 30ms/epoch - 7ms/step\n",
            "Epoch 16/100\n",
            "4/4 - 0s - loss: 0.4983 - accuracy: 0.7656 - val_loss: 0.4667 - val_accuracy: 0.7500 - 40ms/epoch - 10ms/step\n",
            "Epoch 17/100\n",
            "4/4 - 0s - loss: 0.4945 - accuracy: 0.7734 - val_loss: 0.4627 - val_accuracy: 0.7500 - 33ms/epoch - 8ms/step\n",
            "Epoch 18/100\n",
            "4/4 - 0s - loss: 0.4825 - accuracy: 0.7656 - val_loss: 0.4601 - val_accuracy: 0.7500 - 28ms/epoch - 7ms/step\n",
            "Epoch 19/100\n",
            "4/4 - 0s - loss: 0.4754 - accuracy: 0.7656 - val_loss: 0.4626 - val_accuracy: 0.7500 - 27ms/epoch - 7ms/step\n",
            "Epoch 20/100\n",
            "4/4 - 0s - loss: 0.4688 - accuracy: 0.7500 - val_loss: 0.4623 - val_accuracy: 0.7500 - 29ms/epoch - 7ms/step\n",
            "Epoch 21/100\n",
            "4/4 - 0s - loss: 0.4730 - accuracy: 0.7656 - val_loss: 0.4610 - val_accuracy: 0.7500 - 30ms/epoch - 8ms/step\n",
            "Epoch 22/100\n",
            "4/4 - 0s - loss: 0.4688 - accuracy: 0.7891 - val_loss: 0.4622 - val_accuracy: 0.7500 - 45ms/epoch - 11ms/step\n",
            "Epoch 23/100\n",
            "4/4 - 0s - loss: 0.4511 - accuracy: 0.7812 - val_loss: 0.4606 - val_accuracy: 0.7500 - 47ms/epoch - 12ms/step\n",
            "Epoch 24/100\n",
            "4/4 - 0s - loss: 0.4685 - accuracy: 0.7656 - val_loss: 0.4606 - val_accuracy: 0.7500 - 27ms/epoch - 7ms/step\n",
            "Epoch 25/100\n",
            "4/4 - 0s - loss: 0.4537 - accuracy: 0.7812 - val_loss: 0.4631 - val_accuracy: 0.7500 - 27ms/epoch - 7ms/step\n",
            "Epoch 26/100\n",
            "4/4 - 0s - loss: 0.4317 - accuracy: 0.7578 - val_loss: 0.4677 - val_accuracy: 0.7500 - 39ms/epoch - 10ms/step\n",
            "Epoch 27/100\n",
            "4/4 - 0s - loss: 0.4474 - accuracy: 0.7578 - val_loss: 0.4657 - val_accuracy: 0.7500 - 38ms/epoch - 9ms/step\n",
            "Epoch 28/100\n",
            "4/4 - 0s - loss: 0.4684 - accuracy: 0.7422 - val_loss: 0.4739 - val_accuracy: 0.7500 - 28ms/epoch - 7ms/step\n",
            "Epoch 29/100\n",
            "4/4 - 0s - loss: 0.4336 - accuracy: 0.7578 - val_loss: 0.4744 - val_accuracy: 0.7500 - 30ms/epoch - 7ms/step\n",
            "Epoch 30/100\n",
            "4/4 - 0s - loss: 0.4470 - accuracy: 0.7266 - val_loss: 0.4814 - val_accuracy: 0.7500 - 30ms/epoch - 8ms/step\n",
            "Epoch 31/100\n",
            "4/4 - 0s - loss: 0.4477 - accuracy: 0.7734 - val_loss: 0.4884 - val_accuracy: 0.7500 - 29ms/epoch - 7ms/step\n",
            "Epoch 32/100\n",
            "4/4 - 0s - loss: 0.4402 - accuracy: 0.7969 - val_loss: 0.4888 - val_accuracy: 0.7500 - 31ms/epoch - 8ms/step\n",
            "Epoch 33/100\n",
            "4/4 - 0s - loss: 0.4396 - accuracy: 0.7578 - val_loss: 0.4856 - val_accuracy: 0.7500 - 33ms/epoch - 8ms/step\n",
            "Epoch 34/100\n",
            "4/4 - 0s - loss: 0.4195 - accuracy: 0.7891 - val_loss: 0.4871 - val_accuracy: 0.7500 - 34ms/epoch - 8ms/step\n",
            "Epoch 35/100\n",
            "4/4 - 0s - loss: 0.4340 - accuracy: 0.7578 - val_loss: 0.4824 - val_accuracy: 0.7500 - 31ms/epoch - 8ms/step\n",
            "Epoch 36/100\n",
            "4/4 - 0s - loss: 0.4109 - accuracy: 0.7656 - val_loss: 0.4847 - val_accuracy: 0.7500 - 27ms/epoch - 7ms/step\n",
            "Epoch 37/100\n",
            "4/4 - 0s - loss: 0.4384 - accuracy: 0.7812 - val_loss: 0.4890 - val_accuracy: 0.7500 - 30ms/epoch - 8ms/step\n",
            "Epoch 38/100\n",
            "4/4 - 0s - loss: 0.4078 - accuracy: 0.7812 - val_loss: 0.4900 - val_accuracy: 0.7500 - 29ms/epoch - 7ms/step\n",
            "Epoch 39/100\n",
            "4/4 - 0s - loss: 0.4102 - accuracy: 0.7812 - val_loss: 0.5050 - val_accuracy: 0.7500 - 29ms/epoch - 7ms/step\n",
            "Epoch 40/100\n",
            "4/4 - 0s - loss: 0.4656 - accuracy: 0.7578 - val_loss: 0.5007 - val_accuracy: 0.7500 - 28ms/epoch - 7ms/step\n",
            "Epoch 41/100\n",
            "4/4 - 0s - loss: 0.4395 - accuracy: 0.7734 - val_loss: 0.5080 - val_accuracy: 0.7500 - 31ms/epoch - 8ms/step\n",
            "Epoch 42/100\n",
            "4/4 - 0s - loss: 0.4234 - accuracy: 0.7656 - val_loss: 0.5051 - val_accuracy: 0.7500 - 31ms/epoch - 8ms/step\n",
            "Epoch 43/100\n",
            "4/4 - 0s - loss: 0.4359 - accuracy: 0.7656 - val_loss: 0.4953 - val_accuracy: 0.7500 - 26ms/epoch - 7ms/step\n",
            "Epoch 44/100\n",
            "4/4 - 0s - loss: 0.4447 - accuracy: 0.7734 - val_loss: 0.4868 - val_accuracy: 0.7500 - 35ms/epoch - 9ms/step\n",
            "Epoch 45/100\n",
            "4/4 - 0s - loss: 0.4235 - accuracy: 0.7812 - val_loss: 0.4857 - val_accuracy: 0.7500 - 47ms/epoch - 12ms/step\n",
            "Epoch 46/100\n",
            "4/4 - 0s - loss: 0.4342 - accuracy: 0.7812 - val_loss: 0.4873 - val_accuracy: 0.7500 - 29ms/epoch - 7ms/step\n",
            "Epoch 47/100\n",
            "4/4 - 0s - loss: 0.4256 - accuracy: 0.8047 - val_loss: 0.4906 - val_accuracy: 0.7500 - 27ms/epoch - 7ms/step\n",
            "Epoch 48/100\n",
            "4/4 - 0s - loss: 0.4640 - accuracy: 0.7891 - val_loss: 0.4833 - val_accuracy: 0.7500 - 28ms/epoch - 7ms/step\n",
            "Epoch 49/100\n",
            "4/4 - 0s - loss: 0.4072 - accuracy: 0.7812 - val_loss: 0.4857 - val_accuracy: 0.7500 - 30ms/epoch - 8ms/step\n",
            "Epoch 50/100\n",
            "4/4 - 0s - loss: 0.4439 - accuracy: 0.7969 - val_loss: 0.4917 - val_accuracy: 0.7500 - 29ms/epoch - 7ms/step\n",
            "Epoch 51/100\n",
            "4/4 - 0s - loss: 0.4371 - accuracy: 0.7734 - val_loss: 0.4898 - val_accuracy: 0.7500 - 31ms/epoch - 8ms/step\n",
            "Epoch 52/100\n",
            "4/4 - 0s - loss: 0.4314 - accuracy: 0.7891 - val_loss: 0.4921 - val_accuracy: 0.7812 - 48ms/epoch - 12ms/step\n",
            "Epoch 53/100\n",
            "4/4 - 0s - loss: 0.4265 - accuracy: 0.8047 - val_loss: 0.4932 - val_accuracy: 0.7812 - 29ms/epoch - 7ms/step\n",
            "Epoch 54/100\n",
            "4/4 - 0s - loss: 0.4068 - accuracy: 0.7734 - val_loss: 0.5022 - val_accuracy: 0.7812 - 29ms/epoch - 7ms/step\n",
            "Epoch 55/100\n",
            "4/4 - 0s - loss: 0.4200 - accuracy: 0.7578 - val_loss: 0.4994 - val_accuracy: 0.7812 - 29ms/epoch - 7ms/step\n",
            "Epoch 56/100\n",
            "4/4 - 0s - loss: 0.4309 - accuracy: 0.7891 - val_loss: 0.4988 - val_accuracy: 0.7812 - 30ms/epoch - 8ms/step\n",
            "Epoch 57/100\n",
            "4/4 - 0s - loss: 0.4053 - accuracy: 0.7812 - val_loss: 0.4946 - val_accuracy: 0.7812 - 29ms/epoch - 7ms/step\n",
            "Epoch 58/100\n",
            "4/4 - 0s - loss: 0.3847 - accuracy: 0.7891 - val_loss: 0.5048 - val_accuracy: 0.7812 - 28ms/epoch - 7ms/step\n",
            "Epoch 59/100\n",
            "4/4 - 0s - loss: 0.4233 - accuracy: 0.7891 - val_loss: 0.4963 - val_accuracy: 0.7812 - 28ms/epoch - 7ms/step\n",
            "Epoch 60/100\n",
            "4/4 - 0s - loss: 0.4251 - accuracy: 0.8047 - val_loss: 0.4997 - val_accuracy: 0.7812 - 28ms/epoch - 7ms/step\n",
            "Epoch 61/100\n",
            "4/4 - 0s - loss: 0.4109 - accuracy: 0.7891 - val_loss: 0.5052 - val_accuracy: 0.7812 - 28ms/epoch - 7ms/step\n",
            "Epoch 62/100\n",
            "4/4 - 0s - loss: 0.4077 - accuracy: 0.7656 - val_loss: 0.5009 - val_accuracy: 0.7812 - 26ms/epoch - 7ms/step\n",
            "Epoch 63/100\n",
            "4/4 - 0s - loss: 0.4014 - accuracy: 0.7969 - val_loss: 0.5008 - val_accuracy: 0.7812 - 27ms/epoch - 7ms/step\n",
            "Epoch 64/100\n",
            "4/4 - 0s - loss: 0.3988 - accuracy: 0.7812 - val_loss: 0.4983 - val_accuracy: 0.7812 - 30ms/epoch - 8ms/step\n",
            "Epoch 65/100\n",
            "4/4 - 0s - loss: 0.4028 - accuracy: 0.7578 - val_loss: 0.5026 - val_accuracy: 0.7812 - 28ms/epoch - 7ms/step\n",
            "Epoch 66/100\n",
            "4/4 - 0s - loss: 0.4099 - accuracy: 0.7656 - val_loss: 0.5059 - val_accuracy: 0.7812 - 50ms/epoch - 12ms/step\n",
            "Epoch 67/100\n",
            "4/4 - 0s - loss: 0.4099 - accuracy: 0.7734 - val_loss: 0.4986 - val_accuracy: 0.7812 - 48ms/epoch - 12ms/step\n",
            "Epoch 68/100\n",
            "4/4 - 0s - loss: 0.4158 - accuracy: 0.7734 - val_loss: 0.4963 - val_accuracy: 0.7812 - 28ms/epoch - 7ms/step\n",
            "Epoch 69/100\n",
            "4/4 - 0s - loss: 0.4166 - accuracy: 0.7656 - val_loss: 0.5032 - val_accuracy: 0.7812 - 29ms/epoch - 7ms/step\n",
            "Epoch 70/100\n",
            "4/4 - 0s - loss: 0.4399 - accuracy: 0.7812 - val_loss: 0.5054 - val_accuracy: 0.7812 - 49ms/epoch - 12ms/step\n",
            "Epoch 71/100\n",
            "4/4 - 0s - loss: 0.3881 - accuracy: 0.8047 - val_loss: 0.5076 - val_accuracy: 0.7812 - 27ms/epoch - 7ms/step\n",
            "Epoch 72/100\n",
            "4/4 - 0s - loss: 0.4090 - accuracy: 0.7656 - val_loss: 0.5014 - val_accuracy: 0.7812 - 35ms/epoch - 9ms/step\n",
            "Epoch 73/100\n",
            "4/4 - 0s - loss: 0.4080 - accuracy: 0.7812 - val_loss: 0.5013 - val_accuracy: 0.7812 - 47ms/epoch - 12ms/step\n",
            "Epoch 74/100\n",
            "4/4 - 0s - loss: 0.3796 - accuracy: 0.7969 - val_loss: 0.5092 - val_accuracy: 0.7812 - 30ms/epoch - 8ms/step\n",
            "Epoch 75/100\n",
            "4/4 - 0s - loss: 0.3940 - accuracy: 0.7969 - val_loss: 0.5118 - val_accuracy: 0.7812 - 28ms/epoch - 7ms/step\n",
            "Epoch 76/100\n",
            "4/4 - 0s - loss: 0.3890 - accuracy: 0.7812 - val_loss: 0.5133 - val_accuracy: 0.7812 - 27ms/epoch - 7ms/step\n",
            "Epoch 77/100\n",
            "4/4 - 0s - loss: 0.4027 - accuracy: 0.7812 - val_loss: 0.5176 - val_accuracy: 0.7812 - 32ms/epoch - 8ms/step\n",
            "Epoch 78/100\n",
            "4/4 - 0s - loss: 0.3919 - accuracy: 0.8047 - val_loss: 0.5157 - val_accuracy: 0.7812 - 42ms/epoch - 10ms/step\n",
            "Epoch 79/100\n",
            "4/4 - 0s - loss: 0.4025 - accuracy: 0.7891 - val_loss: 0.5122 - val_accuracy: 0.7812 - 31ms/epoch - 8ms/step\n",
            "Epoch 80/100\n",
            "4/4 - 0s - loss: 0.4094 - accuracy: 0.7812 - val_loss: 0.5208 - val_accuracy: 0.7812 - 40ms/epoch - 10ms/step\n",
            "Epoch 81/100\n",
            "4/4 - 0s - loss: 0.3967 - accuracy: 0.7656 - val_loss: 0.5227 - val_accuracy: 0.7812 - 27ms/epoch - 7ms/step\n",
            "Epoch 82/100\n",
            "4/4 - 0s - loss: 0.4093 - accuracy: 0.7969 - val_loss: 0.5168 - val_accuracy: 0.7812 - 47ms/epoch - 12ms/step\n",
            "Epoch 83/100\n",
            "4/4 - 0s - loss: 0.4019 - accuracy: 0.7734 - val_loss: 0.5143 - val_accuracy: 0.7812 - 36ms/epoch - 9ms/step\n",
            "Epoch 84/100\n",
            "4/4 - 0s - loss: 0.3957 - accuracy: 0.8047 - val_loss: 0.5200 - val_accuracy: 0.7812 - 31ms/epoch - 8ms/step\n",
            "Epoch 85/100\n",
            "4/4 - 0s - loss: 0.3891 - accuracy: 0.7891 - val_loss: 0.5138 - val_accuracy: 0.7812 - 33ms/epoch - 8ms/step\n",
            "Epoch 86/100\n",
            "4/4 - 0s - loss: 0.3783 - accuracy: 0.8047 - val_loss: 0.5197 - val_accuracy: 0.7812 - 32ms/epoch - 8ms/step\n",
            "Epoch 87/100\n",
            "4/4 - 0s - loss: 0.4009 - accuracy: 0.7969 - val_loss: 0.5160 - val_accuracy: 0.7812 - 31ms/epoch - 8ms/step\n",
            "Epoch 88/100\n",
            "4/4 - 0s - loss: 0.4130 - accuracy: 0.7969 - val_loss: 0.5180 - val_accuracy: 0.7812 - 34ms/epoch - 9ms/step\n",
            "Epoch 89/100\n",
            "4/4 - 0s - loss: 0.3837 - accuracy: 0.7656 - val_loss: 0.5208 - val_accuracy: 0.7812 - 32ms/epoch - 8ms/step\n",
            "Epoch 90/100\n",
            "4/4 - 0s - loss: 0.3811 - accuracy: 0.8125 - val_loss: 0.5284 - val_accuracy: 0.7812 - 36ms/epoch - 9ms/step\n",
            "Epoch 91/100\n",
            "4/4 - 0s - loss: 0.3931 - accuracy: 0.7812 - val_loss: 0.5339 - val_accuracy: 0.7812 - 32ms/epoch - 8ms/step\n",
            "Epoch 92/100\n",
            "4/4 - 0s - loss: 0.4075 - accuracy: 0.7812 - val_loss: 0.5295 - val_accuracy: 0.7812 - 34ms/epoch - 9ms/step\n",
            "Epoch 93/100\n",
            "4/4 - 0s - loss: 0.3857 - accuracy: 0.8125 - val_loss: 0.5224 - val_accuracy: 0.7812 - 32ms/epoch - 8ms/step\n",
            "Epoch 94/100\n",
            "4/4 - 0s - loss: 0.4061 - accuracy: 0.7891 - val_loss: 0.5239 - val_accuracy: 0.7812 - 33ms/epoch - 8ms/step\n",
            "Epoch 95/100\n",
            "4/4 - 0s - loss: 0.4191 - accuracy: 0.7578 - val_loss: 0.5196 - val_accuracy: 0.7812 - 35ms/epoch - 9ms/step\n",
            "Epoch 96/100\n",
            "4/4 - 0s - loss: 0.3895 - accuracy: 0.7891 - val_loss: 0.5267 - val_accuracy: 0.7812 - 31ms/epoch - 8ms/step\n",
            "Epoch 97/100\n",
            "4/4 - 0s - loss: 0.4204 - accuracy: 0.7656 - val_loss: 0.5274 - val_accuracy: 0.7812 - 29ms/epoch - 7ms/step\n",
            "Epoch 98/100\n",
            "4/4 - 0s - loss: 0.3883 - accuracy: 0.7969 - val_loss: 0.5172 - val_accuracy: 0.7812 - 33ms/epoch - 8ms/step\n",
            "Epoch 99/100\n",
            "4/4 - 0s - loss: 0.4186 - accuracy: 0.8125 - val_loss: 0.5233 - val_accuracy: 0.7812 - 45ms/epoch - 11ms/step\n",
            "Epoch 100/100\n",
            "4/4 - 0s - loss: 0.3737 - accuracy: 0.7969 - val_loss: 0.5162 - val_accuracy: 0.7812 - 29ms/epoch - 7ms/step\n"
          ]
        }
      ]
    },
    {
      "cell_type": "code",
      "source": [
        "print(\"train evaluation:\")\n",
        "print(model4.evaluate(X_train, y_train))\n",
        "\n",
        "print(\"test evaluation:\")\n",
        "print(model4.evaluate(X_test, y_test))"
      ],
      "metadata": {
        "colab": {
          "base_uri": "https://localhost:8080/"
        },
        "id": "YvvEcimn6rbD",
        "outputId": "66fb2d55-c180-4266-8c6e-eea3fb774fea"
      },
      "execution_count": 97,
      "outputs": [
        {
          "output_type": "stream",
          "name": "stdout",
          "text": [
            "train evaluation:\n",
            "5/5 [==============================] - 0s 2ms/step - loss: 0.4013 - accuracy: 0.7937\n",
            "[0.4012509882450104, 0.793749988079071]\n",
            "test evaluation:\n",
            "2/2 [==============================] - 0s 5ms/step - loss: 0.4884 - accuracy: 0.8250\n",
            "[0.4883851408958435, 0.824999988079071]\n"
          ]
        }
      ]
    },
    {
      "cell_type": "code",
      "source": [
        "sgx, sgy = make_sample(50)\n",
        "plt.scatter(sgx[:,0], sgx[:,1], alpha=0.5, c=sgy)\n",
        "plt.xlabel('x1')\n",
        "plt.ylabel('x2')\n",
        "\n",
        "X_train, X_test, y_train, y_test = train_test_split(sgx, sgy, test_size=0.2)"
      ],
      "metadata": {
        "colab": {
          "base_uri": "https://localhost:8080/",
          "height": 279
        },
        "id": "iT0DG9nk_Ryw",
        "outputId": "b9abb20d-bb04-499a-e5b1-c71c901614d1"
      },
      "execution_count": 110,
      "outputs": [
        {
          "output_type": "display_data",
          "data": {
            "text/plain": [
              "<Figure size 432x288 with 1 Axes>"
            ],
            "image/png": "[encoded data removed]"
          },
          "metadata": {
            "needs_background": "light"
          }
        }
      ]
    },
    {
      "cell_type": "code",
      "source": [
        "kfold = KFold(n_splits=5, shuffle=True)\n",
        "\n",
        "fold_no = 1\n",
        "\n",
        "model5 = Sequential([\n",
        "    Dense(50, activation='relu'),\n",
        "    Dropout(0.2),\n",
        "    Dense(32, activation='relu'),\n",
        "    Dropout(0.2),\n",
        "    Dense(16, activation='relu'),\n",
        "    Dense(1, activation='sigmoid')\n",
        "  ])\n",
        "\n",
        "model5.compile(optimizer='rmsprop',\n",
        "              loss=tf.keras.losses.BinaryCrossentropy(),\n",
        "              metrics=['accuracy'])\n",
        "  \n",
        "\n",
        "for train, test in kfold.split(X_train, y_train):\n",
        "\n",
        "  print('------------------------------------------------------------------------')\n",
        "  print(f'Training for fold {fold_no} ...')\n",
        "\n",
        "  history = model5.fit(X_train, y_train, validation_split=0.2, epochs=100, verbose=0)\n",
        "\n",
        "  scores = model5.evaluate(X_train[train], y_train[train], verbose=0)\n",
        "  print(f'train score for fold {fold_no}: {model.metrics_names[0]} of {scores[0]}; {model.metrics_names[1]} of {scores[1]*100}%')\n",
        "\n",
        "  scores = model5.evaluate(X_train[test], y_train[test], verbose=0)\n",
        "  print(f'val score for fold {fold_no}: {model.metrics_names[0]} of {scores[0]}; {model.metrics_names[1]} of {scores[1]*100}%')\n",
        "\n",
        "  scores = model5.evaluate(X_test, y_test, verbose=0)\n",
        "  print(f'test score for fold {fold_no}: {model.metrics_names[0]} of {scores[0]}; {model.metrics_names[1]} of {scores[1]*100}%')\n",
        "\n",
        "  fold_no = fold_no + 1"
      ],
      "metadata": {
        "colab": {
          "base_uri": "https://localhost:8080/"
        },
        "id": "p_YOBOcL6zUF",
        "outputId": "c9271ee9-d48b-4022-a64f-0ea32154ce4a"
      },
      "execution_count": 112,
      "outputs": [
        {
          "output_type": "stream",
          "name": "stdout",
          "text": [
            "------------------------------------------------------------------------\n",
            "Training for fold 1 ...\n",
            "train score for fold 1: loss of 0.3652796447277069; accuracy of 81.25%\n",
            "val score for fold 1: loss of 0.5568507313728333; accuracy of 68.75%\n",
            "test score for fold 1: loss of 0.42213019728660583; accuracy of 75.0%\n",
            "------------------------------------------------------------------------\n",
            "Training for fold 2 ...\n",
            "train score for fold 2: loss of 0.3662763833999634; accuracy of 81.25%\n",
            "val score for fold 2: loss of 0.3900366425514221; accuracy of 87.5%\n",
            "test score for fold 2: loss of 0.4139862060546875; accuracy of 85.00000238418579%\n",
            "------------------------------------------------------------------------\n",
            "Training for fold 3 ...\n",
            "train score for fold 3: loss of 0.4142206013202667; accuracy of 81.25%\n",
            "val score for fold 3: loss of 0.15013357996940613; accuracy of 100.0%\n",
            "test score for fold 3: loss of 0.39969488978385925; accuracy of 85.00000238418579%\n",
            "------------------------------------------------------------------------\n",
            "Training for fold 4 ...\n",
            "train score for fold 4: loss of 0.3661203980445862; accuracy of 85.9375%\n",
            "val score for fold 4: loss of 0.29509931802749634; accuracy of 87.5%\n",
            "test score for fold 4: loss of 0.3811563551425934; accuracy of 85.00000238418579%\n",
            "------------------------------------------------------------------------\n",
            "Training for fold 5 ...\n",
            "train score for fold 5: loss of 0.31595465540885925; accuracy of 90.625%\n",
            "val score for fold 5: loss of 0.4268026351928711; accuracy of 68.75%\n",
            "test score for fold 5: loss of 0.41049933433532715; accuracy of 85.00000238418579%\n"
          ]
        }
      ]
    },
    {
      "cell_type": "code",
      "source": [],
      "metadata": {
        "id": "TjwFa80mDfw6"
      },
      "execution_count": null,
      "outputs": []
    }
  ],
  "metadata": {
    "colab": {
      "provenance": []
    },
    "kernelspec": {
      "display_name": "Python 3.10.4 64-bit",
      "language": "python",
      "name": "python3"
    },
    "language_info": {
      "codemirror_mode": {
        "name": "ipython",
        "version": 3
      },
      "file_extension": ".py",
      "mimetype": "text/x-python",
      "name": "python",
      "nbconvert_exporter": "python",
      "pygments_lexer": "ipython3",
      "version": "3.10.4"
    },
    "vscode": {
      "interpreter": {
        "hash": "4ee546d62f846516ddb8e27534e16a3e95e555642571b21ccffd475d8dbd5c7d"
      }
    }
  },
  "nbformat": 4,
  "nbformat_minor": 0
}