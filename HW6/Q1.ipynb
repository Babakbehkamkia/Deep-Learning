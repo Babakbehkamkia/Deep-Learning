{
  "nbformat": 4,
  "nbformat_minor": 0,
  "metadata": {
    "colab": {
      "provenance": []
    },
    "kernelspec": {
      "name": "python3",
      "display_name": "Python 3"
    },
    "language_info": {
      "name": "python"
    }
  },
  "cells": [
    {
      "cell_type": "code",
      "execution_count": 1,
      "metadata": {
        "id": "iyPxAmxrSbS-"
      },
      "outputs": [],
      "source": [
        "import numpy as np"
      ]
    },
    {
      "cell_type": "code",
      "source": [
        "matrix = np.array([[20, 17, 32, 42, 65],\n",
        "              [13, 65, 96, 53, 21],\n",
        "              [45, 63, 74, 38, 64],\n",
        "              [23, 76, 40, 34, 26],\n",
        "              [14, 66, 78, 49, 23]])"
      ],
      "metadata": {
        "id": "PAKRgiqET3qA"
      },
      "execution_count": 3,
      "outputs": []
    },
    {
      "cell_type": "markdown",
      "source": [
        "# Batch Normalization"
      ],
      "metadata": {
        "id": "h3Sp4Kv4UJJx"
      }
    },
    {
      "cell_type": "code",
      "source": [
        "(matrix - np.mean(matrix, axis=0)) / np.sqrt(np.var(matrix, axis=0))"
      ],
      "metadata": {
        "colab": {
          "base_uri": "https://localhost:8080/"
        },
        "id": "8yjSRJXkT38_",
        "outputId": "5fc09db2-446e-4bbd-ab13-f09326811564"
      },
      "execution_count": 6,
      "outputs": [
        {
          "output_type": "execute_result",
          "data": {
            "text/plain": [
              "array([[-0.25839036, -1.95226042, -1.32416942, -0.17220347,  1.24551178],\n",
              "       [-0.8613012 ,  0.36725691,  1.32416942,  1.40632837, -0.92919133],\n",
              "       [ 1.89486265,  0.27061036,  0.41380294, -0.74621505,  1.19608671],\n",
              "       [ 0.        ,  0.89881297, -0.99312707, -1.32022663, -0.68206597],\n",
              "       [-0.77517108,  0.41558019,  0.57932412,  0.83231679, -0.83034119]])"
            ]
          },
          "metadata": {},
          "execution_count": 6
        }
      ]
    },
    {
      "cell_type": "markdown",
      "source": [
        "# Layer Normalization"
      ],
      "metadata": {
        "id": "tnA0JkK3UNo3"
      }
    },
    {
      "cell_type": "code",
      "source": [
        "(matrix - np.mean(matrix, axis=1)) / np.sqrt(np.var(matrix, axis=1))"
      ],
      "metadata": {
        "colab": {
          "base_uri": "https://localhost:8080/"
        },
        "id": "aVYDfFxSUPZz",
        "outputId": "3bf681c4-0f6d-4c67-f7f5-c18bdb643e0f"
      },
      "execution_count": 7,
      "outputs": [
        {
          "output_type": "execute_result",
          "data": {
            "text/plain": [
              "array([[-0.87558998, -1.07958858, -1.87064621,  0.11541284,  0.77748801],\n",
              "       [-1.27882221,  0.5099897 ,  2.95682788,  0.69247703, -1.02301054],\n",
              "       [ 0.56452512,  0.44375727,  1.29738366, -0.09442869,  0.73656759],\n",
              "       [-0.70277617,  0.87426805, -1.26721195, -0.30427021, -0.81840843],\n",
              "       [-1.22121761,  0.54310591,  1.59910079,  0.48263551, -0.9411697 ]])"
            ]
          },
          "metadata": {},
          "execution_count": 7
        }
      ]
    }
  ]
}