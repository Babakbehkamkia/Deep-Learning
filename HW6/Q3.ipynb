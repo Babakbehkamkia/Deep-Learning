{
  "cells": [
    {
      "cell_type": "code",
      "execution_count": 1,
      "metadata": {
        "id": "0WP9j6u6hADR"
      },
      "outputs": [],
      "source": [
        "import cv2\n",
        "import numpy as np\n",
        "from matplotlib import pyplot as plt\n",
        "from tensorflow import keras"
      ]
    },
    {
      "cell_type": "markdown",
      "metadata": {
        "id": "h7UbcqmKUZ1q"
      },
      "source": [
        "## prepare data"
      ]
    },
    {
      "cell_type": "code",
      "source": [
        "(x_train, y_train), (x_test, y_test) = keras.datasets.cifar10.load_data()\n",
        "\n",
        "x_train = x_train/255\n",
        "x_test = x_test/255\n",
        "\n",
        "unlabeld_index = np.ones(y_train.shape, np.bool)\n",
        "\n",
        "N = 20\n",
        "for i in range(10):\n",
        "  idx = np.where(y_train == i)[0][:N]\n",
        "  unlabeld_index[idx] = 0\n",
        "\n",
        "x_unlabeld = x_train[np.where(unlabeld_index)[0], ...]\n",
        "\n",
        "x_train = x_train[np.where(~unlabeld_index)[0], ...]\n",
        "y_train = y_train[np.where(~unlabeld_index)[0], ...]"
      ],
      "metadata": {
        "colab": {
          "base_uri": "https://localhost:8080/"
        },
        "id": "Jqk4aOGSe9da",
        "outputId": "81eefb50-5890-4ca0-9af9-5b2791f23d64"
      },
      "execution_count": 2,
      "outputs": [
        {
          "output_type": "stream",
          "name": "stdout",
          "text": [
            "Downloading data from https://www.cs.toronto.edu/~kriz/cifar-10-python.tar.gz\n",
            "170498071/170498071 [==============================] - 13s 0us/step\n"
          ]
        },
        {
          "output_type": "stream",
          "name": "stderr",
          "text": [
            "<ipython-input-2-ba294b58a0c2>:6: DeprecationWarning: `np.bool` is a deprecated alias for the builtin `bool`. To silence this warning, use `bool` by itself. Doing this will not modify any behavior and is safe. If you specifically wanted the numpy scalar type, use `np.bool_` here.\n",
            "Deprecated in NumPy 1.20; for more details and guidance: https://numpy.org/devdocs/release/1.20.0-notes.html#deprecations\n",
            "  unlabeld_index = np.ones(y_train.shape, np.bool)\n"
          ]
        }
      ]
    },
    {
      "cell_type": "code",
      "source": [
        "x_unlabeld.shape"
      ],
      "metadata": {
        "colab": {
          "base_uri": "https://localhost:8080/"
        },
        "id": "x5UseMyXfGnq",
        "outputId": "b4140108-a4df-469e-e6d0-66ae9f4aebb3"
      },
      "execution_count": 3,
      "outputs": [
        {
          "output_type": "execute_result",
          "data": {
            "text/plain": [
              "(49800, 32, 32, 3)"
            ]
          },
          "metadata": {},
          "execution_count": 3
        }
      ]
    },
    {
      "cell_type": "code",
      "source": [
        "# examples of categorical crossentropy\n",
        "cce = keras.losses.CategoricalCrossentropy()\n",
        "\n",
        "# a labeled data from the second class\n",
        "y_true = [[0, 1, 0, 0]]\n",
        "y_pred = [[0.05, 0.95, 0, 0]]\n",
        "print(cce(y_true, y_pred).numpy())\n",
        "\n",
        "# an ulabeled data\n",
        "y_true = [[0, 0, 0, 0]]\n",
        "y_pred = [[0.05, 0.95, 0, 0]]\n",
        "print(cce(y_true, y_pred).numpy())\n",
        "\n",
        "# another ulabeled data\n",
        "y_true = [[0, 0, 0, 0]]\n",
        "y_pred = [[0.1, 0.4, 0.3, 0.2]]\n",
        "print(cce(y_true, y_pred).numpy())"
      ],
      "metadata": {
        "colab": {
          "base_uri": "https://localhost:8080/"
        },
        "id": "Y1GT7eCse__4",
        "outputId": "445a7224-abeb-48a4-d208-eb72aca09132"
      },
      "execution_count": 4,
      "outputs": [
        {
          "output_type": "stream",
          "name": "stdout",
          "text": [
            "0.051293306\n",
            "0.0\n",
            "0.0\n"
          ]
        }
      ]
    },
    {
      "cell_type": "code",
      "source": [
        "from keras.models import Model\n",
        "from keras.layers import BatchNormalization\n",
        "from keras.layers.convolutional import Conv2D\n",
        "from keras.layers.convolutional import MaxPooling2D\n",
        "from keras.layers.core import Activation\n",
        "from keras.layers.core import Dropout\n",
        "from keras.layers.core import Lambda\n",
        "from keras.layers.core import Dense\n",
        "from keras.layers import Flatten\n",
        "from matplotlib.pyplot import plot\n",
        "from keras.layers import Input\n",
        "import tensorflow as tf\n",
        "tf.config.run_functions_eagerly(True)"
      ],
      "metadata": {
        "id": "BM85Auqjhpy9"
      },
      "execution_count": 5,
      "outputs": []
    },
    {
      "cell_type": "code",
      "execution_count": 6,
      "metadata": {
        "id": "06aG2TeHqwQ_"
      },
      "outputs": [],
      "source": [
        "model = keras.models.Sequential()\n",
        "model.add(keras.layers.Conv2D(32, (3, 3), activation='relu', input_shape=(32, 32, 3)))\n",
        "model.add(keras.layers.MaxPooling2D((2, 2)))\n",
        "model.add(keras.layers.Dropout(0.2))\n",
        "model.add(keras.layers.Conv2D(64, (3, 3), activation='relu'))\n",
        "model.add(keras.layers.MaxPooling2D((2, 2)))\n",
        "model.add(keras.layers.Dropout(0.2))\n",
        "model.add(keras.layers.Conv2D(64, (3, 3), activation='relu'))\n",
        "model.add(keras.layers.Flatten())\n",
        "model.add(keras.layers.Dense(64, activation='relu'))\n",
        "model.add(keras.layers.Dense(10, activation='softmax'))"
      ]
    },
    {
      "cell_type": "code",
      "execution_count": 7,
      "metadata": {
        "colab": {
          "base_uri": "https://localhost:8080/"
        },
        "id": "dmIQysVruD-t",
        "outputId": "a081db66-e963-44c0-d2d8-bfb88215b6bc"
      },
      "outputs": [
        {
          "output_type": "stream",
          "name": "stdout",
          "text": [
            "Model: \"sequential\"\n",
            "_________________________________________________________________\n",
            " Layer (type)                Output Shape              Param #   \n",
            "=================================================================\n",
            " conv2d (Conv2D)             (None, 30, 30, 32)        896       \n",
            "                                                                 \n",
            " max_pooling2d (MaxPooling2D  (None, 15, 15, 32)       0         \n",
            " )                                                               \n",
            "                                                                 \n",
            " dropout (Dropout)           (None, 15, 15, 32)        0         \n",
            "                                                                 \n",
            " conv2d_1 (Conv2D)           (None, 13, 13, 64)        18496     \n",
            "                                                                 \n",
            " max_pooling2d_1 (MaxPooling  (None, 6, 6, 64)         0         \n",
            " 2D)                                                             \n",
            "                                                                 \n",
            " dropout_1 (Dropout)         (None, 6, 6, 64)          0         \n",
            "                                                                 \n",
            " conv2d_2 (Conv2D)           (None, 4, 4, 64)          36928     \n",
            "                                                                 \n",
            " flatten (Flatten)           (None, 1024)              0         \n",
            "                                                                 \n",
            " dense (Dense)               (None, 64)                65600     \n",
            "                                                                 \n",
            " dense_1 (Dense)             (None, 10)                650       \n",
            "                                                                 \n",
            "=================================================================\n",
            "Total params: 122,570\n",
            "Trainable params: 122,570\n",
            "Non-trainable params: 0\n",
            "_________________________________________________________________\n"
          ]
        }
      ],
      "source": [
        "model.summary()"
      ]
    },
    {
      "cell_type": "code",
      "source": [
        "del unlabeld_index"
      ],
      "metadata": {
        "id": "1ur2l1undUiL"
      },
      "execution_count": 7,
      "outputs": []
    },
    {
      "cell_type": "code",
      "source": [
        "y_train = keras.utils.to_categorical(y_train, num_classes=10)\n",
        "y_test = keras.utils.to_categorical(y_test, num_classes=10)"
      ],
      "metadata": {
        "id": "39VKd5Sc6lvN"
      },
      "execution_count": 6,
      "outputs": []
    },
    {
      "cell_type": "code",
      "execution_count": 9,
      "metadata": {
        "colab": {
          "base_uri": "https://localhost:8080/"
        },
        "id": "6fvx92kJrIJd",
        "outputId": "fb856c55-74d8-407b-b7bf-12654e0d279b"
      },
      "outputs": [
        {
          "output_type": "stream",
          "name": "stderr",
          "text": [
            "/usr/local/lib/python3.8/dist-packages/tensorflow/python/data/ops/structured_function.py:264: UserWarning: Even though the `tf.config.experimental_run_functions_eagerly` option is set, this option does not apply to tf.data functions. To force eager execution of tf.data functions, please use `tf.data.experimental.enable_debug_mode()`.\n",
            "  warnings.warn(\n"
          ]
        },
        {
          "output_type": "stream",
          "name": "stdout",
          "text": [
            "Epoch 1/100\n",
            "1/1 [==============================] - 9s 9s/step - loss: 2.3068 - accuracy: 0.1000 - val_loss: 2.3051 - val_accuracy: 0.0913\n",
            "Epoch 2/100\n",
            "1/1 [==============================] - 0s 498ms/step - loss: 2.2993 - accuracy: 0.1150 - val_loss: 2.3021 - val_accuracy: 0.1041\n",
            "Epoch 3/100\n",
            "1/1 [==============================] - 1s 671ms/step - loss: 2.2960 - accuracy: 0.1050 - val_loss: 2.2996 - val_accuracy: 0.1059\n",
            "Epoch 4/100\n",
            "1/1 [==============================] - 1s 663ms/step - loss: 2.2903 - accuracy: 0.1200 - val_loss: 2.2965 - val_accuracy: 0.1250\n",
            "Epoch 5/100\n",
            "1/1 [==============================] - 0s 493ms/step - loss: 2.2798 - accuracy: 0.1550 - val_loss: 2.2920 - val_accuracy: 0.1295\n",
            "Epoch 6/100\n",
            "1/1 [==============================] - 1s 662ms/step - loss: 2.2826 - accuracy: 0.1100 - val_loss: 2.2865 - val_accuracy: 0.1241\n",
            "Epoch 7/100\n",
            "1/1 [==============================] - 1s 668ms/step - loss: 2.2696 - accuracy: 0.1350 - val_loss: 2.2799 - val_accuracy: 0.1292\n",
            "Epoch 8/100\n",
            "1/1 [==============================] - 0s 487ms/step - loss: 2.2551 - accuracy: 0.1450 - val_loss: 2.2724 - val_accuracy: 0.1355\n",
            "Epoch 9/100\n",
            "1/1 [==============================] - 1s 667ms/step - loss: 2.2446 - accuracy: 0.1400 - val_loss: 2.2649 - val_accuracy: 0.1367\n",
            "Epoch 10/100\n",
            "1/1 [==============================] - 0s 499ms/step - loss: 2.2294 - accuracy: 0.1450 - val_loss: 2.2557 - val_accuracy: 0.1465\n",
            "Epoch 11/100\n",
            "1/1 [==============================] - 0s 483ms/step - loss: 2.2075 - accuracy: 0.1850 - val_loss: 2.2446 - val_accuracy: 0.1707\n",
            "Epoch 12/100\n",
            "1/1 [==============================] - 0s 489ms/step - loss: 2.1812 - accuracy: 0.1850 - val_loss: 2.2310 - val_accuracy: 0.1974\n",
            "Epoch 13/100\n",
            "1/1 [==============================] - 0s 499ms/step - loss: 2.1642 - accuracy: 0.1850 - val_loss: 2.2157 - val_accuracy: 0.2043\n",
            "Epoch 14/100\n",
            "1/1 [==============================] - 1s 515ms/step - loss: 2.1383 - accuracy: 0.1850 - val_loss: 2.1963 - val_accuracy: 0.2065\n",
            "Epoch 15/100\n",
            "1/1 [==============================] - 1s 669ms/step - loss: 2.1095 - accuracy: 0.2450 - val_loss: 2.1788 - val_accuracy: 0.2038\n",
            "Epoch 16/100\n",
            "1/1 [==============================] - 1s 501ms/step - loss: 2.0763 - accuracy: 0.2450 - val_loss: 2.1624 - val_accuracy: 0.2040\n",
            "Epoch 17/100\n",
            "1/1 [==============================] - 1s 662ms/step - loss: 2.0654 - accuracy: 0.2600 - val_loss: 2.1446 - val_accuracy: 0.2081\n",
            "Epoch 18/100\n",
            "1/1 [==============================] - 1s 662ms/step - loss: 2.0008 - accuracy: 0.2700 - val_loss: 2.1229 - val_accuracy: 0.2137\n",
            "Epoch 19/100\n",
            "1/1 [==============================] - 0s 486ms/step - loss: 1.9761 - accuracy: 0.2550 - val_loss: 2.1357 - val_accuracy: 0.2046\n",
            "Epoch 20/100\n",
            "1/1 [==============================] - 1s 666ms/step - loss: 1.9350 - accuracy: 0.3150 - val_loss: 2.1033 - val_accuracy: 0.2197\n",
            "Epoch 21/100\n",
            "1/1 [==============================] - 0s 492ms/step - loss: 1.9734 - accuracy: 0.2900 - val_loss: 2.1173 - val_accuracy: 0.2079\n",
            "Epoch 22/100\n",
            "1/1 [==============================] - 0s 479ms/step - loss: 1.8998 - accuracy: 0.3100 - val_loss: 2.1390 - val_accuracy: 0.2010\n",
            "Epoch 23/100\n",
            "1/1 [==============================] - 1s 662ms/step - loss: 1.8510 - accuracy: 0.3300 - val_loss: 2.0657 - val_accuracy: 0.2323\n",
            "Epoch 24/100\n",
            "1/1 [==============================] - 0s 487ms/step - loss: 1.8827 - accuracy: 0.3250 - val_loss: 2.0675 - val_accuracy: 0.2337\n",
            "Epoch 25/100\n",
            "1/1 [==============================] - 0s 493ms/step - loss: 1.8574 - accuracy: 0.3250 - val_loss: 2.0830 - val_accuracy: 0.2282\n",
            "Epoch 26/100\n",
            "1/1 [==============================] - 1s 664ms/step - loss: 1.8170 - accuracy: 0.3350 - val_loss: 2.1010 - val_accuracy: 0.2161\n",
            "Epoch 27/100\n",
            "1/1 [==============================] - 0s 476ms/step - loss: 1.7797 - accuracy: 0.3850 - val_loss: 2.0526 - val_accuracy: 0.2369\n",
            "Epoch 28/100\n",
            "1/1 [==============================] - 0s 493ms/step - loss: 1.7524 - accuracy: 0.4100 - val_loss: 2.0570 - val_accuracy: 0.2424\n",
            "Epoch 29/100\n",
            "1/1 [==============================] - 1s 663ms/step - loss: 1.7649 - accuracy: 0.3550 - val_loss: 2.0621 - val_accuracy: 0.2352\n",
            "Epoch 30/100\n",
            "1/1 [==============================] - 1s 664ms/step - loss: 1.7107 - accuracy: 0.3650 - val_loss: 2.0734 - val_accuracy: 0.2380\n",
            "Epoch 31/100\n",
            "1/1 [==============================] - 1s 666ms/step - loss: 1.7250 - accuracy: 0.3750 - val_loss: 2.0800 - val_accuracy: 0.2379\n",
            "Epoch 32/100\n",
            "1/1 [==============================] - 1s 665ms/step - loss: 1.7391 - accuracy: 0.3600 - val_loss: 2.0482 - val_accuracy: 0.2555\n",
            "Epoch 33/100\n",
            "1/1 [==============================] - 1s 664ms/step - loss: 1.7100 - accuracy: 0.4250 - val_loss: 2.0403 - val_accuracy: 0.2583\n",
            "Epoch 34/100\n",
            "1/1 [==============================] - 1s 663ms/step - loss: 1.6688 - accuracy: 0.4200 - val_loss: 2.0791 - val_accuracy: 0.2428\n",
            "Epoch 35/100\n",
            "1/1 [==============================] - 1s 665ms/step - loss: 1.6542 - accuracy: 0.4200 - val_loss: 2.0809 - val_accuracy: 0.2460\n",
            "Epoch 36/100\n",
            "1/1 [==============================] - 0s 495ms/step - loss: 1.6110 - accuracy: 0.4550 - val_loss: 2.0420 - val_accuracy: 0.2650\n",
            "Epoch 37/100\n",
            "1/1 [==============================] - 1s 664ms/step - loss: 1.5887 - accuracy: 0.4650 - val_loss: 2.0675 - val_accuracy: 0.2559\n",
            "Epoch 38/100\n",
            "1/1 [==============================] - 0s 491ms/step - loss: 1.5725 - accuracy: 0.4600 - val_loss: 2.0667 - val_accuracy: 0.2540\n",
            "Epoch 39/100\n",
            "1/1 [==============================] - 1s 664ms/step - loss: 1.5551 - accuracy: 0.4500 - val_loss: 2.0411 - val_accuracy: 0.2660\n",
            "Epoch 40/100\n",
            "1/1 [==============================] - 1s 666ms/step - loss: 1.5638 - accuracy: 0.4700 - val_loss: 2.0652 - val_accuracy: 0.2590\n",
            "Epoch 41/100\n",
            "1/1 [==============================] - 1s 666ms/step - loss: 1.4838 - accuracy: 0.5050 - val_loss: 2.0800 - val_accuracy: 0.2579\n",
            "Epoch 42/100\n",
            "1/1 [==============================] - 0s 489ms/step - loss: 1.4815 - accuracy: 0.5050 - val_loss: 2.0309 - val_accuracy: 0.2707\n",
            "Epoch 43/100\n",
            "1/1 [==============================] - 1s 666ms/step - loss: 1.4545 - accuracy: 0.5150 - val_loss: 2.1120 - val_accuracy: 0.2513\n",
            "Epoch 44/100\n",
            "1/1 [==============================] - 1s 666ms/step - loss: 1.4691 - accuracy: 0.4850 - val_loss: 2.0612 - val_accuracy: 0.2687\n",
            "Epoch 45/100\n",
            "1/1 [==============================] - 0s 483ms/step - loss: 1.4594 - accuracy: 0.5200 - val_loss: 2.0331 - val_accuracy: 0.2762\n",
            "Epoch 46/100\n",
            "1/1 [==============================] - 1s 672ms/step - loss: 1.4333 - accuracy: 0.5100 - val_loss: 2.1062 - val_accuracy: 0.2627\n",
            "Epoch 47/100\n",
            "1/1 [==============================] - 1s 666ms/step - loss: 1.4104 - accuracy: 0.5150 - val_loss: 2.0589 - val_accuracy: 0.2784\n",
            "Epoch 48/100\n",
            "1/1 [==============================] - 1s 664ms/step - loss: 1.3560 - accuracy: 0.5300 - val_loss: 2.0383 - val_accuracy: 0.2842\n",
            "Epoch 49/100\n",
            "1/1 [==============================] - 1s 502ms/step - loss: 1.3221 - accuracy: 0.5750 - val_loss: 2.1201 - val_accuracy: 0.2574\n",
            "Epoch 50/100\n",
            "1/1 [==============================] - 0s 468ms/step - loss: 1.3227 - accuracy: 0.5600 - val_loss: 2.0605 - val_accuracy: 0.2810\n",
            "Epoch 51/100\n",
            "1/1 [==============================] - 0s 496ms/step - loss: 1.2986 - accuracy: 0.5550 - val_loss: 2.0703 - val_accuracy: 0.2842\n",
            "Epoch 52/100\n",
            "1/1 [==============================] - 0s 480ms/step - loss: 1.2895 - accuracy: 0.5550 - val_loss: 2.1470 - val_accuracy: 0.2671\n",
            "Epoch 53/100\n",
            "1/1 [==============================] - 1s 511ms/step - loss: 1.2610 - accuracy: 0.6200 - val_loss: 2.0671 - val_accuracy: 0.2925\n",
            "Epoch 54/100\n",
            "1/1 [==============================] - 1s 663ms/step - loss: 1.2432 - accuracy: 0.5650 - val_loss: 2.1278 - val_accuracy: 0.2750\n",
            "Epoch 55/100\n",
            "1/1 [==============================] - 0s 476ms/step - loss: 1.2256 - accuracy: 0.5700 - val_loss: 2.1557 - val_accuracy: 0.2711\n",
            "Epoch 56/100\n",
            "1/1 [==============================] - 1s 665ms/step - loss: 1.2350 - accuracy: 0.6000 - val_loss: 2.1144 - val_accuracy: 0.2953\n",
            "Epoch 57/100\n",
            "1/1 [==============================] - 0s 483ms/step - loss: 1.2257 - accuracy: 0.6100 - val_loss: 2.2148 - val_accuracy: 0.2758\n",
            "Epoch 58/100\n",
            "1/1 [==============================] - 1s 664ms/step - loss: 1.2328 - accuracy: 0.5700 - val_loss: 2.1279 - val_accuracy: 0.2964\n",
            "Epoch 59/100\n",
            "1/1 [==============================] - 1s 670ms/step - loss: 1.1737 - accuracy: 0.6150 - val_loss: 2.1113 - val_accuracy: 0.3010\n",
            "Epoch 60/100\n",
            "1/1 [==============================] - 1s 674ms/step - loss: 1.2032 - accuracy: 0.6550 - val_loss: 2.2487 - val_accuracy: 0.2687\n",
            "Epoch 61/100\n",
            "1/1 [==============================] - 1s 663ms/step - loss: 1.1112 - accuracy: 0.6200 - val_loss: 2.1873 - val_accuracy: 0.2918\n",
            "Epoch 62/100\n",
            "1/1 [==============================] - 0s 470ms/step - loss: 1.1322 - accuracy: 0.6200 - val_loss: 2.1663 - val_accuracy: 0.3004\n",
            "Epoch 63/100\n",
            "1/1 [==============================] - 1s 505ms/step - loss: 1.1212 - accuracy: 0.6350 - val_loss: 2.1985 - val_accuracy: 0.2909\n",
            "Epoch 64/100\n",
            "1/1 [==============================] - 1s 667ms/step - loss: 1.0764 - accuracy: 0.6350 - val_loss: 2.2316 - val_accuracy: 0.2859\n",
            "Epoch 65/100\n",
            "1/1 [==============================] - 1s 673ms/step - loss: 1.0411 - accuracy: 0.6700 - val_loss: 2.1953 - val_accuracy: 0.2978\n",
            "Epoch 66/100\n",
            "1/1 [==============================] - 0s 490ms/step - loss: 1.0191 - accuracy: 0.6950 - val_loss: 2.2383 - val_accuracy: 0.2880\n",
            "Epoch 67/100\n",
            "1/1 [==============================] - 0s 480ms/step - loss: 1.0837 - accuracy: 0.6300 - val_loss: 2.2094 - val_accuracy: 0.2981\n",
            "Epoch 68/100\n",
            "1/1 [==============================] - 0s 483ms/step - loss: 0.9985 - accuracy: 0.7050 - val_loss: 2.2814 - val_accuracy: 0.2873\n",
            "Epoch 69/100\n",
            "1/1 [==============================] - 1s 666ms/step - loss: 1.0135 - accuracy: 0.6550 - val_loss: 2.2497 - val_accuracy: 0.2957\n",
            "Epoch 70/100\n",
            "1/1 [==============================] - 0s 490ms/step - loss: 0.9554 - accuracy: 0.6950 - val_loss: 2.2722 - val_accuracy: 0.2982\n",
            "Epoch 71/100\n",
            "1/1 [==============================] - 1s 664ms/step - loss: 0.9790 - accuracy: 0.7000 - val_loss: 2.2763 - val_accuracy: 0.2931\n",
            "Epoch 72/100\n",
            "1/1 [==============================] - 0s 497ms/step - loss: 0.9803 - accuracy: 0.6900 - val_loss: 2.3183 - val_accuracy: 0.2869\n",
            "Epoch 73/100\n",
            "1/1 [==============================] - 1s 664ms/step - loss: 0.9561 - accuracy: 0.6900 - val_loss: 2.2821 - val_accuracy: 0.3000\n",
            "Epoch 74/100\n",
            "1/1 [==============================] - 0s 498ms/step - loss: 0.9467 - accuracy: 0.7150 - val_loss: 2.3419 - val_accuracy: 0.2969\n",
            "Epoch 75/100\n",
            "1/1 [==============================] - 1s 662ms/step - loss: 0.9129 - accuracy: 0.7300 - val_loss: 2.3318 - val_accuracy: 0.2959\n",
            "Epoch 76/100\n",
            "1/1 [==============================] - 1s 664ms/step - loss: 0.9015 - accuracy: 0.7200 - val_loss: 2.2996 - val_accuracy: 0.3022\n",
            "Epoch 77/100\n",
            "1/1 [==============================] - 0s 489ms/step - loss: 0.8981 - accuracy: 0.6800 - val_loss: 2.4237 - val_accuracy: 0.2764\n",
            "Epoch 78/100\n",
            "1/1 [==============================] - 1s 663ms/step - loss: 0.9200 - accuracy: 0.7100 - val_loss: 2.3516 - val_accuracy: 0.3004\n",
            "Epoch 79/100\n",
            "1/1 [==============================] - 1s 676ms/step - loss: 0.8236 - accuracy: 0.7500 - val_loss: 2.3902 - val_accuracy: 0.3010\n",
            "Epoch 80/100\n",
            "1/1 [==============================] - 1s 508ms/step - loss: 0.8512 - accuracy: 0.7300 - val_loss: 2.4368 - val_accuracy: 0.2905\n",
            "Epoch 81/100\n",
            "1/1 [==============================] - 0s 478ms/step - loss: 0.8072 - accuracy: 0.7100 - val_loss: 2.4316 - val_accuracy: 0.2941\n",
            "Epoch 82/100\n",
            "1/1 [==============================] - 1s 667ms/step - loss: 0.8253 - accuracy: 0.7400 - val_loss: 2.4137 - val_accuracy: 0.3016\n",
            "Epoch 83/100\n",
            "1/1 [==============================] - 1s 665ms/step - loss: 0.7679 - accuracy: 0.7650 - val_loss: 2.4681 - val_accuracy: 0.2939\n",
            "Epoch 84/100\n",
            "1/1 [==============================] - 1s 501ms/step - loss: 0.7130 - accuracy: 0.8000 - val_loss: 2.5065 - val_accuracy: 0.2927\n",
            "Epoch 85/100\n",
            "1/1 [==============================] - 0s 498ms/step - loss: 0.7591 - accuracy: 0.7550 - val_loss: 2.4626 - val_accuracy: 0.3041\n",
            "Epoch 86/100\n",
            "1/1 [==============================] - 0s 499ms/step - loss: 0.7027 - accuracy: 0.7850 - val_loss: 2.5013 - val_accuracy: 0.2984\n",
            "Epoch 87/100\n",
            "1/1 [==============================] - 0s 488ms/step - loss: 0.6976 - accuracy: 0.8100 - val_loss: 2.6080 - val_accuracy: 0.2825\n",
            "Epoch 88/100\n",
            "1/1 [==============================] - 1s 662ms/step - loss: 0.7557 - accuracy: 0.7800 - val_loss: 2.5196 - val_accuracy: 0.3092\n",
            "Epoch 89/100\n",
            "1/1 [==============================] - 1s 506ms/step - loss: 0.7142 - accuracy: 0.7900 - val_loss: 2.5394 - val_accuracy: 0.3102\n",
            "Epoch 90/100\n",
            "1/1 [==============================] - 1s 667ms/step - loss: 0.7499 - accuracy: 0.7550 - val_loss: 2.6755 - val_accuracy: 0.2852\n",
            "Epoch 91/100\n",
            "1/1 [==============================] - 1s 501ms/step - loss: 0.6843 - accuracy: 0.7750 - val_loss: 2.6197 - val_accuracy: 0.2989\n",
            "Epoch 92/100\n",
            "1/1 [==============================] - 1s 663ms/step - loss: 0.6587 - accuracy: 0.8150 - val_loss: 2.5784 - val_accuracy: 0.3069\n",
            "Epoch 93/100\n",
            "1/1 [==============================] - 0s 500ms/step - loss: 0.6679 - accuracy: 0.8100 - val_loss: 2.5947 - val_accuracy: 0.2934\n",
            "Epoch 94/100\n",
            "1/1 [==============================] - 1s 663ms/step - loss: 0.6202 - accuracy: 0.8200 - val_loss: 2.7025 - val_accuracy: 0.2796\n",
            "Epoch 95/100\n",
            "1/1 [==============================] - 1s 664ms/step - loss: 0.6899 - accuracy: 0.7900 - val_loss: 2.6233 - val_accuracy: 0.2963\n",
            "Epoch 96/100\n",
            "1/1 [==============================] - 1s 681ms/step - loss: 0.6408 - accuracy: 0.8150 - val_loss: 2.6133 - val_accuracy: 0.3075\n",
            "Epoch 97/100\n",
            "1/1 [==============================] - 1s 601ms/step - loss: 0.5920 - accuracy: 0.8600 - val_loss: 2.6855 - val_accuracy: 0.3014\n",
            "Epoch 98/100\n",
            "1/1 [==============================] - 1s 1s/step - loss: 0.5768 - accuracy: 0.8150 - val_loss: 2.6868 - val_accuracy: 0.2932\n",
            "Epoch 99/100\n",
            "1/1 [==============================] - 1s 1s/step - loss: 0.5514 - accuracy: 0.8300 - val_loss: 2.6487 - val_accuracy: 0.2983\n",
            "Epoch 100/100\n",
            "1/1 [==============================] - 1s 688ms/step - loss: 0.5497 - accuracy: 0.8500 - val_loss: 2.6666 - val_accuracy: 0.2977\n"
          ]
        }
      ],
      "source": [
        "model.compile(optimizer='adam',\n",
        "              loss=keras.losses.CategoricalCrossentropy(),\n",
        "              metrics=['accuracy'])\n",
        "\n",
        "history = model.fit(x_train, y_train, epochs=100, batch_size = 256,\n",
        "                    validation_data=(x_test, y_test))"
      ]
    },
    {
      "cell_type": "code",
      "source": [
        "def plot(history, metric):\n",
        "  plt.plot(history.history[metric], label=metric)\n",
        "  plt.plot(history.history[f'val_{metric}'], label = f'val_{metric}')\n",
        "  plt.xlabel('Epoch')\n",
        "  plt.ylabel(metric)\n",
        "  plt.legend(loc='lower right')"
      ],
      "metadata": {
        "id": "1U-U4UCc9Mj6"
      },
      "execution_count": 18,
      "outputs": []
    },
    {
      "cell_type": "code",
      "execution_count": 12,
      "metadata": {
        "colab": {
          "base_uri": "https://localhost:8080/",
          "height": 279
        },
        "id": "JrAoM79itLFG",
        "outputId": "3e4c41b3-8ae3-4481-9c39-05a56e941437"
      },
      "outputs": [
        {
          "output_type": "display_data",
          "data": {
            "text/plain": [
              "<Figure size 432x288 with 1 Axes>"
            ],
            "image/png": "[encoded data removed]"
          },
          "metadata": {
            "needs_background": "light"
          }
        }
      ],
      "source": [
        "plot(history, 'accuracy')"
      ]
    },
    {
      "cell_type": "code",
      "execution_count": 13,
      "metadata": {
        "colab": {
          "base_uri": "https://localhost:8080/",
          "height": 279
        },
        "id": "Z9bZhvlPtZVl",
        "outputId": "f4a7d903-b094-486d-effb-9a3a856220c0"
      },
      "outputs": [
        {
          "output_type": "display_data",
          "data": {
            "text/plain": [
              "<Figure size 432x288 with 1 Axes>"
            ],
            "image/png": "[encoded data removed]"
          },
          "metadata": {
            "needs_background": "light"
          }
        }
      ],
      "source": [
        "plot(history, 'loss')"
      ]
    },
    {
      "cell_type": "code",
      "execution_count": 7,
      "metadata": {
        "id": "cC1bS8EKxPPu"
      },
      "outputs": [],
      "source": [
        "x_train_0=x_unlabeld.copy()\n",
        "x_train_90=np.rot90(x_unlabeld, axes=(1,2))\n",
        "x_train_180=np.rot90(x_unlabeld, 2, axes=(1,2))\n",
        "x_train_270=np.rot90(x_unlabeld, 3, axes=(1,2))\n",
        "\n",
        "n = len(x_unlabeld)\n",
        "y_train_0=np.full((n), 0)\n",
        "y_train_90=np.full((n), 1)\n",
        "y_train_180=np.full((n), 2)\n",
        "y_train_270=np.full((n), 3)"
      ]
    },
    {
      "cell_type": "code",
      "execution_count": 8,
      "metadata": {
        "id": "TzhX8dUGxgTO"
      },
      "outputs": [],
      "source": [
        "X_train_unlabeled_full=np.concatenate((x_train_0, x_train_90, x_train_180, x_train_270), axis=0)\n",
        "y_train_unlabeled_full=np.concatenate((y_train_0, y_train_90, y_train_180, y_train_270), axis=0)\n",
        "y_train_unlabeled_full = keras.utils.to_categorical(y_train_unlabeled_full, num_classes=4)"
      ]
    },
    {
      "cell_type": "code",
      "execution_count": 9,
      "metadata": {
        "id": "OO_kUq_JyO2l"
      },
      "outputs": [],
      "source": [
        "del y_train_0, y_train_90, y_train_180, y_train_270\n",
        "del x_train_0, x_train_90, x_train_180, x_train_270"
      ]
    },
    {
      "cell_type": "code",
      "execution_count": 10,
      "metadata": {
        "id": "m2picFoayKa1"
      },
      "outputs": [],
      "source": [
        "def unison_shuffled_copies(a, b):\n",
        "    assert len(a) == len(b)\n",
        "    p = np.random.permutation(len(a))\n",
        "    return a[p], b[p]"
      ]
    },
    {
      "cell_type": "code",
      "execution_count": null,
      "metadata": {
        "id": "SgAkoOk2yNMD"
      },
      "outputs": [],
      "source": [
        "X_train_unlabeled_full, y_train_unlabeled_full = unison_shuffled_copies(X_train_unlabeled_full, y_train_unlabeled_full)"
      ]
    },
    {
      "cell_type": "code",
      "execution_count": 11,
      "metadata": {
        "id": "M7b3hVnu0Oyf"
      },
      "outputs": [],
      "source": [
        "model = keras.models.Sequential()\n",
        "model.add(keras.layers.Conv2D(32, (3, 3), activation='relu', input_shape=(32, 32, 3)))\n",
        "model.add(keras.layers.MaxPooling2D((2, 2)))\n",
        "model.add(keras.layers.Dropout(0.2))\n",
        "model.add(keras.layers.Conv2D(64, (3, 3), activation='relu'))\n",
        "model.add(keras.layers.MaxPooling2D((2, 2)))\n",
        "model.add(keras.layers.Dropout(0.2))\n",
        "model.add(keras.layers.Conv2D(64, (3, 3), activation='relu'))\n",
        "model.add(keras.layers.Flatten())\n",
        "model.add(keras.layers.Dense(64, activation='relu'))\n",
        "model.add(keras.layers.Dense(4, activation='softmax'))"
      ]
    },
    {
      "cell_type": "code",
      "execution_count": 12,
      "metadata": {
        "colab": {
          "base_uri": "https://localhost:8080/"
        },
        "id": "g0Zjr52U0VqF",
        "outputId": "36376371-c6b4-4e83-d88d-124d3203d642"
      },
      "outputs": [
        {
          "output_type": "stream",
          "name": "stdout",
          "text": [
            "Model: \"sequential\"\n",
            "_________________________________________________________________\n",
            " Layer (type)                Output Shape              Param #   \n",
            "=================================================================\n",
            " conv2d (Conv2D)             (None, 30, 30, 32)        896       \n",
            "                                                                 \n",
            " max_pooling2d (MaxPooling2D  (None, 15, 15, 32)       0         \n",
            " )                                                               \n",
            "                                                                 \n",
            " dropout (Dropout)           (None, 15, 15, 32)        0         \n",
            "                                                                 \n",
            " conv2d_1 (Conv2D)           (None, 13, 13, 64)        18496     \n",
            "                                                                 \n",
            " max_pooling2d_1 (MaxPooling  (None, 6, 6, 64)         0         \n",
            " 2D)                                                             \n",
            "                                                                 \n",
            " dropout_1 (Dropout)         (None, 6, 6, 64)          0         \n",
            "                                                                 \n",
            " conv2d_2 (Conv2D)           (None, 4, 4, 64)          36928     \n",
            "                                                                 \n",
            " flatten (Flatten)           (None, 1024)              0         \n",
            "                                                                 \n",
            " dense (Dense)               (None, 64)                65600     \n",
            "                                                                 \n",
            " dense_1 (Dense)             (None, 4)                 260       \n",
            "                                                                 \n",
            "=================================================================\n",
            "Total params: 122,180\n",
            "Trainable params: 122,180\n",
            "Non-trainable params: 0\n",
            "_________________________________________________________________\n"
          ]
        }
      ],
      "source": [
        "model.summary()"
      ]
    },
    {
      "cell_type": "code",
      "execution_count": 13,
      "metadata": {
        "colab": {
          "base_uri": "https://localhost:8080/"
        },
        "id": "0aruvRlz0f41",
        "outputId": "eac5e2d7-88ca-4045-ebd9-46ad6a69d2e8"
      },
      "outputs": [
        {
          "output_type": "stream",
          "name": "stderr",
          "text": [
            "/usr/local/lib/python3.8/dist-packages/tensorflow/python/data/ops/structured_function.py:264: UserWarning: Even though the `tf.config.experimental_run_functions_eagerly` option is set, this option does not apply to tf.data functions. To force eager execution of tf.data functions, please use `tf.data.experimental.enable_debug_mode()`.\n",
            "  warnings.warn(\n"
          ]
        },
        {
          "output_type": "stream",
          "name": "stdout",
          "text": [
            "Epoch 1/10\n",
            "4980/4980 [==============================] - 140s 26ms/step - loss: 1.0486 - accuracy: 0.5482 - val_loss: 0.9071 - val_accuracy: 0.6217\n",
            "Epoch 2/10\n",
            "4980/4980 [==============================] - 131s 26ms/step - loss: 0.9127 - accuracy: 0.6218 - val_loss: 0.8611 - val_accuracy: 0.6443\n",
            "Epoch 3/10\n",
            "4980/4980 [==============================] - 126s 25ms/step - loss: 0.8600 - accuracy: 0.6466 - val_loss: 0.8395 - val_accuracy: 0.6539\n",
            "Epoch 4/10\n",
            "4980/4980 [==============================] - 124s 25ms/step - loss: 0.8283 - accuracy: 0.6623 - val_loss: 0.8155 - val_accuracy: 0.6658\n",
            "Epoch 5/10\n",
            "4980/4980 [==============================] - 132s 26ms/step - loss: 0.8000 - accuracy: 0.6754 - val_loss: 0.7755 - val_accuracy: 0.6850\n",
            "Epoch 6/10\n",
            "4980/4980 [==============================] - 125s 25ms/step - loss: 0.7765 - accuracy: 0.6855 - val_loss: 0.7657 - val_accuracy: 0.6914\n",
            "Epoch 7/10\n",
            "4980/4980 [==============================] - 126s 25ms/step - loss: 0.7573 - accuracy: 0.6953 - val_loss: 0.7567 - val_accuracy: 0.6928\n",
            "Epoch 8/10\n",
            "4980/4980 [==============================] - 126s 25ms/step - loss: 0.7421 - accuracy: 0.7025 - val_loss: 0.7296 - val_accuracy: 0.7059\n",
            "Epoch 9/10\n",
            "4980/4980 [==============================] - 132s 27ms/step - loss: 0.7292 - accuracy: 0.7076 - val_loss: 0.7090 - val_accuracy: 0.7182\n",
            "Epoch 10/10\n",
            "4980/4980 [==============================] - 133s 27ms/step - loss: 0.7160 - accuracy: 0.7130 - val_loss: 0.7313 - val_accuracy: 0.7052\n"
          ]
        }
      ],
      "source": [
        "model.compile(optimizer='adam',\n",
        "              loss=keras.losses.CategoricalCrossentropy(),\n",
        "              metrics=['accuracy'])\n",
        "\n",
        "history = model.fit(X_train_unlabeled_full, y_train_unlabeled_full, epochs=10, \n",
        "                    validation_split = 0.2, batch_size = 32)\n",
        "\n",
        "model.save('model_rotation.h5')"
      ]
    },
    {
      "cell_type": "code",
      "execution_count": 14,
      "metadata": {
        "colab": {
          "base_uri": "https://localhost:8080/",
          "height": 281
        },
        "id": "N79bMLMJ1Wke",
        "outputId": "03fece5a-bd35-4d89-df82-67ed97ee6400"
      },
      "outputs": [
        {
          "output_type": "display_data",
          "data": {
            "text/plain": [
              "<Figure size 432x288 with 1 Axes>"
            ],
            "image/png": "[encoded data removed]"
          },
          "metadata": {
            "needs_background": "light"
          }
        }
      ],
      "source": [
        "plot(history, 'accuracy')"
      ]
    },
    {
      "cell_type": "code",
      "execution_count": 15,
      "metadata": {
        "id": "zlxKqe2F1XJf",
        "colab": {
          "base_uri": "https://localhost:8080/",
          "height": 279
        },
        "outputId": "4aed9c20-e378-4736-9eb2-fd79271aeb2c"
      },
      "outputs": [
        {
          "output_type": "display_data",
          "data": {
            "text/plain": [
              "<Figure size 432x288 with 1 Axes>"
            ],
            "image/png": "[encoded data removed]"
          },
          "metadata": {
            "needs_background": "light"
          }
        }
      ],
      "source": [
        "plot(history, 'loss')"
      ]
    },
    {
      "cell_type": "code",
      "source": [
        "model = keras.models.load_model('model_rotation.h5')\n",
        "model.layers.pop()\n",
        "model.add(keras.layers.Dense(10, activation='softmax',name='output_layer'))"
      ],
      "metadata": {
        "id": "f9_hHBuXDXsW"
      },
      "execution_count": 9,
      "outputs": []
    },
    {
      "cell_type": "code",
      "source": [
        "model.summary()"
      ],
      "metadata": {
        "colab": {
          "base_uri": "https://localhost:8080/"
        },
        "id": "wkbtQFvbEKU9",
        "outputId": "8f7add60-2b19-4950-bbe8-f4575ceab2a1"
      },
      "execution_count": 10,
      "outputs": [
        {
          "output_type": "stream",
          "name": "stdout",
          "text": [
            "Model: \"sequential\"\n",
            "_________________________________________________________________\n",
            " Layer (type)                Output Shape              Param #   \n",
            "=================================================================\n",
            " conv2d (Conv2D)             (None, 30, 30, 32)        896       \n",
            "                                                                 \n",
            " max_pooling2d (MaxPooling2D  (None, 15, 15, 32)       0         \n",
            " )                                                               \n",
            "                                                                 \n",
            " dropout (Dropout)           (None, 15, 15, 32)        0         \n",
            "                                                                 \n",
            " conv2d_1 (Conv2D)           (None, 13, 13, 64)        18496     \n",
            "                                                                 \n",
            " max_pooling2d_1 (MaxPooling  (None, 6, 6, 64)         0         \n",
            " 2D)                                                             \n",
            "                                                                 \n",
            " dropout_1 (Dropout)         (None, 6, 6, 64)          0         \n",
            "                                                                 \n",
            " conv2d_2 (Conv2D)           (None, 4, 4, 64)          36928     \n",
            "                                                                 \n",
            " flatten (Flatten)           (None, 1024)              0         \n",
            "                                                                 \n",
            " dense (Dense)               (None, 64)                65600     \n",
            "                                                                 \n",
            " dense_1 (Dense)             (None, 4)                 260       \n",
            "                                                                 \n",
            " output_layer (Dense)        (None, 10)                50        \n",
            "                                                                 \n",
            "=================================================================\n",
            "Total params: 122,230\n",
            "Trainable params: 122,230\n",
            "Non-trainable params: 0\n",
            "_________________________________________________________________\n"
          ]
        }
      ]
    },
    {
      "cell_type": "code",
      "source": [
        "model.compile(optimizer=keras.optimizers.Adam(),\n",
        "              loss=keras.losses.CategoricalCrossentropy(),\n",
        "              metrics=['accuracy'])\n",
        "\n",
        "history = model.fit(x_train, y_train, epochs=100, batch_size=256,\n",
        "                    validation_data=(x_test, y_test))"
      ],
      "metadata": {
        "colab": {
          "base_uri": "https://localhost:8080/"
        },
        "id": "Jr3vbSDrEOGl",
        "outputId": "9a7afaa3-2b21-4b14-b41e-4ce9bff0f1b7"
      },
      "execution_count": 11,
      "outputs": [
        {
          "output_type": "stream",
          "name": "stderr",
          "text": [
            "/usr/local/lib/python3.8/dist-packages/tensorflow/python/data/ops/structured_function.py:264: UserWarning: Even though the `tf.config.experimental_run_functions_eagerly` option is set, this option does not apply to tf.data functions. To force eager execution of tf.data functions, please use `tf.data.experimental.enable_debug_mode()`.\n",
            "  warnings.warn(\n"
          ]
        },
        {
          "output_type": "stream",
          "name": "stdout",
          "text": [
            "Epoch 1/100\n",
            "1/1 [==============================] - 9s 9s/step - loss: 2.2936 - accuracy: 0.1350 - val_loss: 2.3010 - val_accuracy: 0.1363\n",
            "Epoch 2/100\n",
            "1/1 [==============================] - 1s 674ms/step - loss: 2.2739 - accuracy: 0.1500 - val_loss: 2.2936 - val_accuracy: 0.1399\n",
            "Epoch 3/100\n",
            "1/1 [==============================] - 1s 576ms/step - loss: 2.2649 - accuracy: 0.1650 - val_loss: 2.2872 - val_accuracy: 0.1429\n",
            "Epoch 4/100\n",
            "1/1 [==============================] - 1s 673ms/step - loss: 2.2583 - accuracy: 0.1750 - val_loss: 2.2816 - val_accuracy: 0.1474\n",
            "Epoch 5/100\n",
            "1/1 [==============================] - 1s 569ms/step - loss: 2.2389 - accuracy: 0.1450 - val_loss: 2.2766 - val_accuracy: 0.1483\n",
            "Epoch 6/100\n",
            "1/1 [==============================] - 1s 669ms/step - loss: 2.2374 - accuracy: 0.1650 - val_loss: 2.2721 - val_accuracy: 0.1508\n",
            "Epoch 7/100\n",
            "1/1 [==============================] - 1s 667ms/step - loss: 2.2417 - accuracy: 0.1800 - val_loss: 2.2679 - val_accuracy: 0.1509\n",
            "Epoch 8/100\n",
            "1/1 [==============================] - 1s 563ms/step - loss: 2.2179 - accuracy: 0.2000 - val_loss: 2.2638 - val_accuracy: 0.1512\n",
            "Epoch 9/100\n",
            "1/1 [==============================] - 1s 668ms/step - loss: 2.2055 - accuracy: 0.1750 - val_loss: 2.2597 - val_accuracy: 0.1510\n",
            "Epoch 10/100\n",
            "1/1 [==============================] - 1s 670ms/step - loss: 2.2077 - accuracy: 0.1800 - val_loss: 2.2558 - val_accuracy: 0.1481\n",
            "Epoch 11/100\n",
            "1/1 [==============================] - 1s 633ms/step - loss: 2.1940 - accuracy: 0.2100 - val_loss: 2.2519 - val_accuracy: 0.1446\n",
            "Epoch 12/100\n",
            "1/1 [==============================] - 1s 878ms/step - loss: 2.1951 - accuracy: 0.2000 - val_loss: 2.2481 - val_accuracy: 0.1414\n",
            "Epoch 13/100\n",
            "1/1 [==============================] - 1s 546ms/step - loss: 2.1803 - accuracy: 0.1850 - val_loss: 2.2437 - val_accuracy: 0.1416\n",
            "Epoch 14/100\n",
            "1/1 [==============================] - 1s 672ms/step - loss: 2.1689 - accuracy: 0.2150 - val_loss: 2.2391 - val_accuracy: 0.1403\n",
            "Epoch 15/100\n",
            "1/1 [==============================] - 1s 585ms/step - loss: 2.1649 - accuracy: 0.2150 - val_loss: 2.2344 - val_accuracy: 0.1438\n",
            "Epoch 16/100\n",
            "1/1 [==============================] - 1s 566ms/step - loss: 2.1454 - accuracy: 0.2200 - val_loss: 2.2298 - val_accuracy: 0.1484\n",
            "Epoch 17/100\n",
            "1/1 [==============================] - 1s 576ms/step - loss: 2.1432 - accuracy: 0.2300 - val_loss: 2.2259 - val_accuracy: 0.1533\n",
            "Epoch 18/100\n",
            "1/1 [==============================] - 1s 578ms/step - loss: 2.1445 - accuracy: 0.2300 - val_loss: 2.2222 - val_accuracy: 0.1615\n",
            "Epoch 19/100\n",
            "1/1 [==============================] - 1s 569ms/step - loss: 2.1369 - accuracy: 0.2250 - val_loss: 2.2187 - val_accuracy: 0.1645\n",
            "Epoch 20/100\n",
            "1/1 [==============================] - 1s 553ms/step - loss: 2.1326 - accuracy: 0.2450 - val_loss: 2.2156 - val_accuracy: 0.1686\n",
            "Epoch 21/100\n",
            "1/1 [==============================] - 1s 560ms/step - loss: 2.1211 - accuracy: 0.2600 - val_loss: 2.2131 - val_accuracy: 0.1729\n",
            "Epoch 22/100\n",
            "1/1 [==============================] - 1s 666ms/step - loss: 2.1135 - accuracy: 0.2850 - val_loss: 2.2109 - val_accuracy: 0.1761\n",
            "Epoch 23/100\n",
            "1/1 [==============================] - 1s 557ms/step - loss: 2.1128 - accuracy: 0.2550 - val_loss: 2.2088 - val_accuracy: 0.1794\n",
            "Epoch 24/100\n",
            "1/1 [==============================] - 1s 583ms/step - loss: 2.1123 - accuracy: 0.2700 - val_loss: 2.2074 - val_accuracy: 0.1816\n",
            "Epoch 25/100\n",
            "1/1 [==============================] - 1s 574ms/step - loss: 2.1037 - accuracy: 0.2900 - val_loss: 2.2065 - val_accuracy: 0.1859\n",
            "Epoch 26/100\n",
            "1/1 [==============================] - 1s 668ms/step - loss: 2.0859 - accuracy: 0.2850 - val_loss: 2.2072 - val_accuracy: 0.1884\n",
            "Epoch 27/100\n",
            "1/1 [==============================] - 1s 560ms/step - loss: 2.0848 - accuracy: 0.3250 - val_loss: 2.2074 - val_accuracy: 0.1892\n",
            "Epoch 28/100\n",
            "1/1 [==============================] - 1s 561ms/step - loss: 2.0785 - accuracy: 0.3100 - val_loss: 2.2068 - val_accuracy: 0.1909\n",
            "Epoch 29/100\n",
            "1/1 [==============================] - 1s 576ms/step - loss: 2.0711 - accuracy: 0.3350 - val_loss: 2.2056 - val_accuracy: 0.1922\n",
            "Epoch 30/100\n",
            "1/1 [==============================] - 1s 669ms/step - loss: 2.0702 - accuracy: 0.3200 - val_loss: 2.2040 - val_accuracy: 0.1925\n",
            "Epoch 31/100\n",
            "1/1 [==============================] - 1s 588ms/step - loss: 2.0735 - accuracy: 0.3300 - val_loss: 2.2027 - val_accuracy: 0.1923\n",
            "Epoch 32/100\n",
            "1/1 [==============================] - 1s 668ms/step - loss: 2.0697 - accuracy: 0.3150 - val_loss: 2.2029 - val_accuracy: 0.1933\n",
            "Epoch 33/100\n",
            "1/1 [==============================] - 1s 1s/step - loss: 2.0631 - accuracy: 0.3300 - val_loss: 2.2039 - val_accuracy: 0.1935\n",
            "Epoch 34/100\n",
            "1/1 [==============================] - 1s 1s/step - loss: 2.0528 - accuracy: 0.3400 - val_loss: 2.2030 - val_accuracy: 0.1932\n",
            "Epoch 35/100\n",
            "1/1 [==============================] - 1s 1s/step - loss: 2.0477 - accuracy: 0.3200 - val_loss: 2.2024 - val_accuracy: 0.1926\n",
            "Epoch 36/100\n",
            "1/1 [==============================] - 1s 558ms/step - loss: 2.0441 - accuracy: 0.3350 - val_loss: 2.2023 - val_accuracy: 0.1928\n",
            "Epoch 37/100\n",
            "1/1 [==============================] - 1s 539ms/step - loss: 2.0396 - accuracy: 0.3550 - val_loss: 2.2030 - val_accuracy: 0.1929\n",
            "Epoch 38/100\n",
            "1/1 [==============================] - 1s 561ms/step - loss: 2.0513 - accuracy: 0.3600 - val_loss: 2.1994 - val_accuracy: 0.1964\n",
            "Epoch 39/100\n",
            "1/1 [==============================] - 1s 668ms/step - loss: 2.0445 - accuracy: 0.3600 - val_loss: 2.1946 - val_accuracy: 0.2006\n",
            "Epoch 40/100\n",
            "1/1 [==============================] - 1s 556ms/step - loss: 2.0376 - accuracy: 0.3650 - val_loss: 2.1910 - val_accuracy: 0.2037\n",
            "Epoch 41/100\n",
            "1/1 [==============================] - 1s 676ms/step - loss: 2.0287 - accuracy: 0.3550 - val_loss: 2.1901 - val_accuracy: 0.2050\n",
            "Epoch 42/100\n",
            "1/1 [==============================] - 1s 560ms/step - loss: 2.0370 - accuracy: 0.3850 - val_loss: 2.1895 - val_accuracy: 0.2048\n",
            "Epoch 43/100\n",
            "1/1 [==============================] - 1s 674ms/step - loss: 2.0225 - accuracy: 0.3650 - val_loss: 2.1901 - val_accuracy: 0.2067\n",
            "Epoch 44/100\n",
            "1/1 [==============================] - 1s 1s/step - loss: 2.0218 - accuracy: 0.3400 - val_loss: 2.1916 - val_accuracy: 0.2089\n",
            "Epoch 45/100\n",
            "1/1 [==============================] - 1s 669ms/step - loss: 2.0230 - accuracy: 0.3800 - val_loss: 2.1927 - val_accuracy: 0.2082\n",
            "Epoch 46/100\n",
            "1/1 [==============================] - 1s 562ms/step - loss: 2.0172 - accuracy: 0.4000 - val_loss: 2.1936 - val_accuracy: 0.2078\n",
            "Epoch 47/100\n",
            "1/1 [==============================] - 1s 669ms/step - loss: 2.0172 - accuracy: 0.3750 - val_loss: 2.1917 - val_accuracy: 0.2088\n",
            "Epoch 48/100\n",
            "1/1 [==============================] - 1s 671ms/step - loss: 2.0148 - accuracy: 0.3750 - val_loss: 2.1890 - val_accuracy: 0.2117\n",
            "Epoch 49/100\n",
            "1/1 [==============================] - 1s 599ms/step - loss: 2.0108 - accuracy: 0.3850 - val_loss: 2.1870 - val_accuracy: 0.2120\n",
            "Epoch 50/100\n",
            "1/1 [==============================] - 1s 582ms/step - loss: 2.0063 - accuracy: 0.3750 - val_loss: 2.1852 - val_accuracy: 0.2119\n",
            "Epoch 51/100\n",
            "1/1 [==============================] - 1s 585ms/step - loss: 2.0065 - accuracy: 0.3750 - val_loss: 2.1845 - val_accuracy: 0.2115\n",
            "Epoch 52/100\n",
            "1/1 [==============================] - 1s 668ms/step - loss: 2.0016 - accuracy: 0.3750 - val_loss: 2.1830 - val_accuracy: 0.2103\n",
            "Epoch 53/100\n",
            "1/1 [==============================] - 1s 669ms/step - loss: 2.0016 - accuracy: 0.3950 - val_loss: 2.1807 - val_accuracy: 0.2106\n",
            "Epoch 54/100\n",
            "1/1 [==============================] - 1s 588ms/step - loss: 2.0074 - accuracy: 0.3550 - val_loss: 2.1784 - val_accuracy: 0.2095\n",
            "Epoch 55/100\n",
            "1/1 [==============================] - 1s 579ms/step - loss: 1.9991 - accuracy: 0.3700 - val_loss: 2.1764 - val_accuracy: 0.2106\n",
            "Epoch 56/100\n",
            "1/1 [==============================] - 1s 675ms/step - loss: 1.9972 - accuracy: 0.3700 - val_loss: 2.1740 - val_accuracy: 0.2133\n",
            "Epoch 57/100\n",
            "1/1 [==============================] - 1s 837ms/step - loss: 1.9973 - accuracy: 0.3900 - val_loss: 2.1731 - val_accuracy: 0.2156\n",
            "Epoch 58/100\n",
            "1/1 [==============================] - 1s 729ms/step - loss: 1.9883 - accuracy: 0.3750 - val_loss: 2.1735 - val_accuracy: 0.2171\n",
            "Epoch 59/100\n",
            "1/1 [==============================] - 1s 646ms/step - loss: 1.9876 - accuracy: 0.3950 - val_loss: 2.1743 - val_accuracy: 0.2163\n",
            "Epoch 60/100\n",
            "1/1 [==============================] - 1s 668ms/step - loss: 1.9889 - accuracy: 0.3900 - val_loss: 2.1743 - val_accuracy: 0.2167\n",
            "Epoch 61/100\n",
            "1/1 [==============================] - 1s 584ms/step - loss: 1.9809 - accuracy: 0.4000 - val_loss: 2.1745 - val_accuracy: 0.2168\n",
            "Epoch 62/100\n",
            "1/1 [==============================] - 1s 669ms/step - loss: 1.9815 - accuracy: 0.3950 - val_loss: 2.1743 - val_accuracy: 0.2180\n",
            "Epoch 63/100\n",
            "1/1 [==============================] - 3s 3s/step - loss: 1.9798 - accuracy: 0.3950 - val_loss: 2.1748 - val_accuracy: 0.2191\n",
            "Epoch 64/100\n",
            "1/1 [==============================] - 1s 565ms/step - loss: 1.9763 - accuracy: 0.3950 - val_loss: 2.1755 - val_accuracy: 0.2178\n",
            "Epoch 65/100\n",
            "1/1 [==============================] - 1s 572ms/step - loss: 1.9762 - accuracy: 0.3850 - val_loss: 2.1760 - val_accuracy: 0.2163\n",
            "Epoch 66/100\n",
            "1/1 [==============================] - 1s 559ms/step - loss: 1.9751 - accuracy: 0.3950 - val_loss: 2.1752 - val_accuracy: 0.2165\n",
            "Epoch 67/100\n",
            "1/1 [==============================] - 1s 565ms/step - loss: 1.9742 - accuracy: 0.4200 - val_loss: 2.1726 - val_accuracy: 0.2172\n",
            "Epoch 68/100\n",
            "1/1 [==============================] - 1s 675ms/step - loss: 1.9772 - accuracy: 0.3850 - val_loss: 2.1704 - val_accuracy: 0.2151\n",
            "Epoch 69/100\n",
            "1/1 [==============================] - 1s 672ms/step - loss: 1.9663 - accuracy: 0.4050 - val_loss: 2.1682 - val_accuracy: 0.2148\n",
            "Epoch 70/100\n",
            "1/1 [==============================] - 1s 571ms/step - loss: 1.9643 - accuracy: 0.3900 - val_loss: 2.1670 - val_accuracy: 0.2140\n",
            "Epoch 71/100\n",
            "1/1 [==============================] - 1s 1s/step - loss: 1.9647 - accuracy: 0.3900 - val_loss: 2.1665 - val_accuracy: 0.2124\n",
            "Epoch 72/100\n",
            "1/1 [==============================] - 1s 676ms/step - loss: 1.9648 - accuracy: 0.4050 - val_loss: 2.1662 - val_accuracy: 0.2130\n",
            "Epoch 73/100\n",
            "1/1 [==============================] - 1s 564ms/step - loss: 1.9610 - accuracy: 0.3800 - val_loss: 2.1664 - val_accuracy: 0.2135\n",
            "Epoch 74/100\n",
            "1/1 [==============================] - 1s 562ms/step - loss: 1.9619 - accuracy: 0.4000 - val_loss: 2.1672 - val_accuracy: 0.2156\n",
            "Epoch 75/100\n",
            "1/1 [==============================] - 1s 668ms/step - loss: 1.9604 - accuracy: 0.3950 - val_loss: 2.1674 - val_accuracy: 0.2154\n",
            "Epoch 76/100\n",
            "1/1 [==============================] - 1s 669ms/step - loss: 1.9553 - accuracy: 0.4050 - val_loss: 2.1671 - val_accuracy: 0.2162\n",
            "Epoch 77/100\n",
            "1/1 [==============================] - 1s 577ms/step - loss: 1.9567 - accuracy: 0.3950 - val_loss: 2.1658 - val_accuracy: 0.2168\n",
            "Epoch 78/100\n",
            "1/1 [==============================] - 1s 668ms/step - loss: 1.9562 - accuracy: 0.4000 - val_loss: 2.1636 - val_accuracy: 0.2171\n",
            "Epoch 79/100\n",
            "1/1 [==============================] - 1s 548ms/step - loss: 1.9539 - accuracy: 0.4000 - val_loss: 2.1615 - val_accuracy: 0.2177\n",
            "Epoch 80/100\n",
            "1/1 [==============================] - 1s 549ms/step - loss: 1.9513 - accuracy: 0.4150 - val_loss: 2.1597 - val_accuracy: 0.2177\n",
            "Epoch 81/100\n",
            "1/1 [==============================] - 1s 561ms/step - loss: 1.9486 - accuracy: 0.4050 - val_loss: 2.1584 - val_accuracy: 0.2176\n",
            "Epoch 82/100\n",
            "1/1 [==============================] - 1s 670ms/step - loss: 1.9421 - accuracy: 0.4100 - val_loss: 2.1578 - val_accuracy: 0.2174\n",
            "Epoch 83/100\n",
            "1/1 [==============================] - 1s 667ms/step - loss: 1.9436 - accuracy: 0.4050 - val_loss: 2.1578 - val_accuracy: 0.2193\n",
            "Epoch 84/100\n",
            "1/1 [==============================] - 1s 670ms/step - loss: 1.9402 - accuracy: 0.3950 - val_loss: 2.1583 - val_accuracy: 0.2192\n",
            "Epoch 85/100\n",
            "1/1 [==============================] - 1s 670ms/step - loss: 1.9441 - accuracy: 0.4000 - val_loss: 2.1586 - val_accuracy: 0.2191\n",
            "Epoch 86/100\n",
            "1/1 [==============================] - 1s 580ms/step - loss: 1.9379 - accuracy: 0.4200 - val_loss: 2.1587 - val_accuracy: 0.2194\n",
            "Epoch 87/100\n",
            "1/1 [==============================] - 1s 669ms/step - loss: 1.9385 - accuracy: 0.4150 - val_loss: 2.1587 - val_accuracy: 0.2188\n",
            "Epoch 88/100\n",
            "1/1 [==============================] - 1s 1s/step - loss: 1.9326 - accuracy: 0.3950 - val_loss: 2.1589 - val_accuracy: 0.2308\n",
            "Epoch 89/100\n",
            "1/1 [==============================] - 1s 571ms/step - loss: 1.9377 - accuracy: 0.4300 - val_loss: 2.1585 - val_accuracy: 0.2330\n",
            "Epoch 90/100\n",
            "1/1 [==============================] - 1s 553ms/step - loss: 1.9367 - accuracy: 0.4250 - val_loss: 2.1563 - val_accuracy: 0.2356\n",
            "Epoch 91/100\n",
            "1/1 [==============================] - 1s 666ms/step - loss: 1.9310 - accuracy: 0.4450 - val_loss: 2.1546 - val_accuracy: 0.2364\n",
            "Epoch 92/100\n",
            "1/1 [==============================] - 1s 571ms/step - loss: 1.9329 - accuracy: 0.4300 - val_loss: 2.1522 - val_accuracy: 0.2373\n",
            "Epoch 93/100\n",
            "1/1 [==============================] - 1s 671ms/step - loss: 1.9276 - accuracy: 0.4250 - val_loss: 2.1501 - val_accuracy: 0.2375\n",
            "Epoch 94/100\n",
            "1/1 [==============================] - 1s 553ms/step - loss: 1.9279 - accuracy: 0.4300 - val_loss: 2.1487 - val_accuracy: 0.2384\n",
            "Epoch 95/100\n",
            "1/1 [==============================] - 1s 670ms/step - loss: 1.9253 - accuracy: 0.4100 - val_loss: 2.1475 - val_accuracy: 0.2383\n",
            "Epoch 96/100\n",
            "1/1 [==============================] - 1s 679ms/step - loss: 1.9270 - accuracy: 0.4300 - val_loss: 2.1475 - val_accuracy: 0.2376\n",
            "Epoch 97/100\n",
            "1/1 [==============================] - 1s 672ms/step - loss: 1.9203 - accuracy: 0.4300 - val_loss: 2.1477 - val_accuracy: 0.2379\n",
            "Epoch 98/100\n",
            "1/1 [==============================] - 1s 558ms/step - loss: 1.9177 - accuracy: 0.4300 - val_loss: 2.1479 - val_accuracy: 0.2387\n",
            "Epoch 99/100\n",
            "1/1 [==============================] - 1s 667ms/step - loss: 1.9180 - accuracy: 0.4250 - val_loss: 2.1485 - val_accuracy: 0.2397\n",
            "Epoch 100/100\n",
            "1/1 [==============================] - 1s 669ms/step - loss: 1.9158 - accuracy: 0.4150 - val_loss: 2.1492 - val_accuracy: 0.2401\n"
          ]
        }
      ]
    },
    {
      "cell_type": "code",
      "source": [
        "plot(history, 'accuracy')"
      ],
      "metadata": {
        "colab": {
          "base_uri": "https://localhost:8080/",
          "height": 279
        },
        "id": "P_ql3GNmE1CU",
        "outputId": "f2b3cbc0-a272-4286-adb1-18f56f79af1b"
      },
      "execution_count": 14,
      "outputs": [
        {
          "output_type": "display_data",
          "data": {
            "text/plain": [
              "<Figure size 432x288 with 1 Axes>"
            ],
            "image/png": "[encoded data removed]"
          },
          "metadata": {
            "needs_background": "light"
          }
        }
      ]
    },
    {
      "cell_type": "code",
      "source": [
        "plot(history, 'loss')"
      ],
      "metadata": {
        "colab": {
          "base_uri": "https://localhost:8080/",
          "height": 279
        },
        "id": "D3UUy9qxE2JN",
        "outputId": "4cf85b85-f984-49ef-f8bf-d317f5f7f295"
      },
      "execution_count": 15,
      "outputs": [
        {
          "output_type": "display_data",
          "data": {
            "text/plain": [
              "<Figure size 432x288 with 1 Axes>"
            ],
            "image/png": "[encoded data removed]"
          },
          "metadata": {
            "needs_background": "light"
          }
        }
      ]
    },
    {
      "cell_type": "code",
      "source": [
        "input = keras.layers.Input((32, 32, 3), name='input')\n",
        "general = keras.models.Sequential(\n",
        "    [\n",
        "      keras.layers.Conv2D(32, (3, 3), activation='relu'),\n",
        "      keras.layers.MaxPooling2D((2, 2)),\n",
        "      keras.layers.Dropout(0.2),\n",
        "      keras.layers.Conv2D(64, (3, 3), activation='relu'),\n",
        "      keras.layers.MaxPooling2D((2, 2)),\n",
        "      keras.layers.Dropout(0.2),\n",
        "      keras.layers.Conv2D(64, (3, 3), activation='relu'),\n",
        "      keras.layers.Flatten()\n",
        "    ],\n",
        "    name='general'\n",
        ")(input)\n",
        "\n",
        "rotation = keras.models.Sequential(\n",
        "    [\n",
        "      keras.layers.Dense(64, activation='relu'),\n",
        "      keras.layers.Dense(4, activation='softmax')\n",
        "    ],\n",
        "    name='rotation'\n",
        ")(general)\n",
        "\n",
        "classifier = keras.models.Sequential(\n",
        "    [\n",
        "      keras.layers.Dense(64, activation='relu'),\n",
        "      keras.layers.Dense(10, activation='softmax')\n",
        "    ],\n",
        "    name='classifier'\n",
        ")(general)\n",
        "model = keras.models.Model(input, [classifier, rotation])"
      ],
      "metadata": {
        "id": "vcqYZb4qh_h-"
      },
      "execution_count": 8,
      "outputs": []
    },
    {
      "cell_type": "code",
      "source": [
        "x_train_0=x_train.copy()\n",
        "x_train_90=np.rot90(x_train, axes=(1,2))\n",
        "x_train_180=np.rot90(x_train, 2, axes=(1,2))\n",
        "x_train_270=np.rot90(x_train, 3, axes=(1,2))"
      ],
      "metadata": {
        "id": "uSEALxqPoCSV"
      },
      "execution_count": 10,
      "outputs": []
    },
    {
      "cell_type": "code",
      "source": [
        "n = len(x_train)\n",
        "y_train_ssl_0=np.full((n), 0)\n",
        "y_train_ssl_90=np.full((n), 1)\n",
        "y_train_ssl_180=np.full((n), 2)\n",
        "y_train_ssl_270=np.full((n), 3)"
      ],
      "metadata": {
        "id": "9k9iHcpGjrrD"
      },
      "execution_count": 11,
      "outputs": []
    },
    {
      "cell_type": "code",
      "source": [
        "x_train1=np.concatenate((x_train_0, x_train_90, x_train_180, x_train_270), axis=0)\n",
        "y_train1 = np.concatenate((y_train, y_train, y_train, y_train), axis=0)\n",
        "y_train_ssl = np.concatenate((y_train_ssl_0, y_train_ssl_90, y_train_ssl_180, y_train_ssl_270), axis=0)\n",
        "y_train_ssl = keras.utils.to_categorical(y_train_ssl, num_classes=4)\n",
        "y_test_ssl = keras.utils.to_categorical(np.zeros((y_test.shape[0])), num_classes=4)"
      ],
      "metadata": {
        "id": "3ycWtgUMoYZA"
      },
      "execution_count": 12,
      "outputs": []
    },
    {
      "cell_type": "code",
      "source": [
        "model.compile(optimizer='adam', \n",
        "              loss={\n",
        "                  'classifier': 'categorical_crossentropy', \n",
        "                  'rotation': 'mse'},\n",
        "              loss_weights={\n",
        "                  'classifier': 1, \n",
        "                  'rotation': 1},\n",
        "              metrics={\n",
        "                  'classifier': 'accuracy', \n",
        "                  'rotation': 'accuracy'})"
      ],
      "metadata": {
        "id": "KN1jiL_JqNNe"
      },
      "execution_count": 15,
      "outputs": []
    },
    {
      "cell_type": "code",
      "source": [
        "history = model.fit(x_train1, [y_train1, y_train_ssl], 256, 50,\n",
        "          validation_data=(x_test, [y_test, y_test_ssl]))"
      ],
      "metadata": {
        "colab": {
          "base_uri": "https://localhost:8080/"
        },
        "id": "w5l3OWMLqjJk",
        "outputId": "d83bb991-0146-4eca-9151-3107bc63f844"
      },
      "execution_count": 16,
      "outputs": [
        {
          "output_type": "stream",
          "name": "stdout",
          "text": [
            "Epoch 1/50\n",
            "4/4 [==============================] - 3s 417ms/step - loss: 2.4953 - classifier_loss: 2.3067 - rotation_loss: 0.1886 - classifier_accuracy: 0.0850 - rotation_accuracy: 0.2362 - val_loss: 2.4834 - val_classifier_loss: 2.2956 - val_rotation_loss: 0.1878 - val_classifier_accuracy: 0.1354 - val_rotation_accuracy: 0.1600\n",
            "Epoch 2/50\n",
            "4/4 [==============================] - 1s 464ms/step - loss: 2.4777 - classifier_loss: 2.2902 - rotation_loss: 0.1875 - classifier_accuracy: 0.1363 - rotation_accuracy: 0.2788 - val_loss: 2.4753 - val_classifier_loss: 2.2802 - val_rotation_loss: 0.1951 - val_classifier_accuracy: 0.1792 - val_rotation_accuracy: 0.0000e+00\n",
            "Epoch 3/50\n",
            "4/4 [==============================] - 1s 460ms/step - loss: 2.4502 - classifier_loss: 2.2633 - rotation_loss: 0.1869 - classifier_accuracy: 0.1825 - rotation_accuracy: 0.2862 - val_loss: 2.4344 - val_classifier_loss: 2.2479 - val_rotation_loss: 0.1865 - val_classifier_accuracy: 0.1603 - val_rotation_accuracy: 0.0232\n",
            "Epoch 4/50\n",
            "4/4 [==============================] - 1s 461ms/step - loss: 2.4335 - classifier_loss: 2.2477 - rotation_loss: 0.1858 - classifier_accuracy: 0.1575 - rotation_accuracy: 0.2750 - val_loss: 2.3981 - val_classifier_loss: 2.2092 - val_rotation_loss: 0.1890 - val_classifier_accuracy: 0.2171 - val_rotation_accuracy: 0.0620\n",
            "Epoch 5/50\n",
            "4/4 [==============================] - 1s 278ms/step - loss: 2.3934 - classifier_loss: 2.2092 - rotation_loss: 0.1842 - classifier_accuracy: 0.1775 - rotation_accuracy: 0.3063 - val_loss: 2.3484 - val_classifier_loss: 2.1650 - val_rotation_loss: 0.1834 - val_classifier_accuracy: 0.1919 - val_rotation_accuracy: 0.4006\n",
            "Epoch 6/50\n",
            "4/4 [==============================] - 1s 461ms/step - loss: 2.3027 - classifier_loss: 2.1228 - rotation_loss: 0.1798 - classifier_accuracy: 0.1988 - rotation_accuracy: 0.3938 - val_loss: 2.3153 - val_classifier_loss: 2.1332 - val_rotation_loss: 0.1822 - val_classifier_accuracy: 0.1926 - val_rotation_accuracy: 0.3793\n",
            "Epoch 7/50\n",
            "4/4 [==============================] - 1s 284ms/step - loss: 2.2487 - classifier_loss: 2.0747 - rotation_loss: 0.1740 - classifier_accuracy: 0.1813 - rotation_accuracy: 0.4775 - val_loss: 2.3124 - val_classifier_loss: 2.1199 - val_rotation_loss: 0.1925 - val_classifier_accuracy: 0.2052 - val_rotation_accuracy: 0.2487\n",
            "Epoch 8/50\n",
            "4/4 [==============================] - 1s 460ms/step - loss: 2.2027 - classifier_loss: 2.0358 - rotation_loss: 0.1669 - classifier_accuracy: 0.2250 - rotation_accuracy: 0.4712 - val_loss: 2.3486 - val_classifier_loss: 2.1994 - val_rotation_loss: 0.1492 - val_classifier_accuracy: 0.2103 - val_rotation_accuracy: 0.6216\n",
            "Epoch 9/50\n",
            "4/4 [==============================] - 1s 460ms/step - loss: 2.2148 - classifier_loss: 2.0516 - rotation_loss: 0.1633 - classifier_accuracy: 0.2138 - rotation_accuracy: 0.4675 - val_loss: 2.2875 - val_classifier_loss: 2.0980 - val_rotation_loss: 0.1895 - val_classifier_accuracy: 0.2218 - val_rotation_accuracy: 0.2753\n",
            "Epoch 10/50\n",
            "4/4 [==============================] - 1s 460ms/step - loss: 2.1787 - classifier_loss: 2.0168 - rotation_loss: 0.1619 - classifier_accuracy: 0.2400 - rotation_accuracy: 0.4538 - val_loss: 2.2862 - val_classifier_loss: 2.0951 - val_rotation_loss: 0.1911 - val_classifier_accuracy: 0.2196 - val_rotation_accuracy: 0.3145\n",
            "Epoch 11/50\n",
            "4/4 [==============================] - 1s 274ms/step - loss: 2.1978 - classifier_loss: 2.0388 - rotation_loss: 0.1591 - classifier_accuracy: 0.2412 - rotation_accuracy: 0.4812 - val_loss: 2.3083 - val_classifier_loss: 2.1451 - val_rotation_loss: 0.1632 - val_classifier_accuracy: 0.2075 - val_rotation_accuracy: 0.5661\n",
            "Epoch 12/50\n",
            "4/4 [==============================] - 1s 461ms/step - loss: 2.1914 - classifier_loss: 2.0357 - rotation_loss: 0.1556 - classifier_accuracy: 0.2250 - rotation_accuracy: 0.4950 - val_loss: 2.2578 - val_classifier_loss: 2.0945 - val_rotation_loss: 0.1633 - val_classifier_accuracy: 0.2190 - val_rotation_accuracy: 0.4512\n",
            "Epoch 13/50\n",
            "4/4 [==============================] - 1s 459ms/step - loss: 2.1621 - classifier_loss: 2.0055 - rotation_loss: 0.1566 - classifier_accuracy: 0.2562 - rotation_accuracy: 0.5050 - val_loss: 2.2312 - val_classifier_loss: 2.0762 - val_rotation_loss: 0.1550 - val_classifier_accuracy: 0.2362 - val_rotation_accuracy: 0.5541\n",
            "Epoch 14/50\n",
            "4/4 [==============================] - 1s 459ms/step - loss: 2.1142 - classifier_loss: 1.9615 - rotation_loss: 0.1527 - classifier_accuracy: 0.2912 - rotation_accuracy: 0.5138 - val_loss: 2.2399 - val_classifier_loss: 2.0720 - val_rotation_loss: 0.1679 - val_classifier_accuracy: 0.2399 - val_rotation_accuracy: 0.4515\n",
            "Epoch 15/50\n",
            "4/4 [==============================] - 1s 459ms/step - loss: 2.1139 - classifier_loss: 1.9618 - rotation_loss: 0.1520 - classifier_accuracy: 0.2725 - rotation_accuracy: 0.5100 - val_loss: 2.2221 - val_classifier_loss: 2.0732 - val_rotation_loss: 0.1489 - val_classifier_accuracy: 0.2374 - val_rotation_accuracy: 0.5994\n",
            "Epoch 16/50\n",
            "4/4 [==============================] - 1s 462ms/step - loss: 2.0638 - classifier_loss: 1.9138 - rotation_loss: 0.1500 - classifier_accuracy: 0.2925 - rotation_accuracy: 0.5150 - val_loss: 2.2387 - val_classifier_loss: 2.0833 - val_rotation_loss: 0.1555 - val_classifier_accuracy: 0.2347 - val_rotation_accuracy: 0.5509\n",
            "Epoch 17/50\n",
            "4/4 [==============================] - 1s 272ms/step - loss: 2.0360 - classifier_loss: 1.8869 - rotation_loss: 0.1491 - classifier_accuracy: 0.2988 - rotation_accuracy: 0.5200 - val_loss: 2.3053 - val_classifier_loss: 2.1296 - val_rotation_loss: 0.1757 - val_classifier_accuracy: 0.2318 - val_rotation_accuracy: 0.4603\n",
            "Epoch 18/50\n",
            "4/4 [==============================] - 1s 463ms/step - loss: 2.0969 - classifier_loss: 1.9483 - rotation_loss: 0.1486 - classifier_accuracy: 0.2812 - rotation_accuracy: 0.5275 - val_loss: 2.2483 - val_classifier_loss: 2.0838 - val_rotation_loss: 0.1645 - val_classifier_accuracy: 0.2319 - val_rotation_accuracy: 0.4436\n",
            "Epoch 19/50\n",
            "4/4 [==============================] - 1s 275ms/step - loss: 2.0038 - classifier_loss: 1.8550 - rotation_loss: 0.1488 - classifier_accuracy: 0.3313 - rotation_accuracy: 0.5138 - val_loss: 2.2427 - val_classifier_loss: 2.0627 - val_rotation_loss: 0.1800 - val_classifier_accuracy: 0.2577 - val_rotation_accuracy: 0.3952\n",
            "Epoch 20/50\n",
            "4/4 [==============================] - 1s 269ms/step - loss: 2.0200 - classifier_loss: 1.8711 - rotation_loss: 0.1489 - classifier_accuracy: 0.3162 - rotation_accuracy: 0.5238 - val_loss: 2.2220 - val_classifier_loss: 2.0515 - val_rotation_loss: 0.1706 - val_classifier_accuracy: 0.2322 - val_rotation_accuracy: 0.4638\n",
            "Epoch 21/50\n",
            "4/4 [==============================] - 1s 269ms/step - loss: 1.9989 - classifier_loss: 1.8526 - rotation_loss: 0.1463 - classifier_accuracy: 0.3150 - rotation_accuracy: 0.5312 - val_loss: 2.1785 - val_classifier_loss: 2.0340 - val_rotation_loss: 0.1445 - val_classifier_accuracy: 0.2601 - val_rotation_accuracy: 0.6231\n",
            "Epoch 22/50\n",
            "4/4 [==============================] - 1s 271ms/step - loss: 1.9716 - classifier_loss: 1.8263 - rotation_loss: 0.1453 - classifier_accuracy: 0.3113 - rotation_accuracy: 0.5537 - val_loss: 2.1955 - val_classifier_loss: 2.0319 - val_rotation_loss: 0.1636 - val_classifier_accuracy: 0.2571 - val_rotation_accuracy: 0.4855\n",
            "Epoch 23/50\n",
            "4/4 [==============================] - 1s 281ms/step - loss: 1.9580 - classifier_loss: 1.8126 - rotation_loss: 0.1454 - classifier_accuracy: 0.3375 - rotation_accuracy: 0.5387 - val_loss: 2.2233 - val_classifier_loss: 2.0317 - val_rotation_loss: 0.1916 - val_classifier_accuracy: 0.2704 - val_rotation_accuracy: 0.3354\n",
            "Epoch 24/50\n",
            "4/4 [==============================] - 1s 281ms/step - loss: 1.9403 - classifier_loss: 1.7920 - rotation_loss: 0.1483 - classifier_accuracy: 0.3338 - rotation_accuracy: 0.5163 - val_loss: 2.1736 - val_classifier_loss: 2.0239 - val_rotation_loss: 0.1497 - val_classifier_accuracy: 0.2654 - val_rotation_accuracy: 0.5476\n",
            "Epoch 25/50\n",
            "4/4 [==============================] - 1s 276ms/step - loss: 1.9092 - classifier_loss: 1.7639 - rotation_loss: 0.1453 - classifier_accuracy: 0.3450 - rotation_accuracy: 0.5425 - val_loss: 2.1800 - val_classifier_loss: 2.0137 - val_rotation_loss: 0.1663 - val_classifier_accuracy: 0.2663 - val_rotation_accuracy: 0.4707\n",
            "Epoch 26/50\n",
            "4/4 [==============================] - 1s 458ms/step - loss: 1.8945 - classifier_loss: 1.7498 - rotation_loss: 0.1446 - classifier_accuracy: 0.3325 - rotation_accuracy: 0.5450 - val_loss: 2.1959 - val_classifier_loss: 2.0140 - val_rotation_loss: 0.1818 - val_classifier_accuracy: 0.2765 - val_rotation_accuracy: 0.3828\n",
            "Epoch 27/50\n",
            "4/4 [==============================] - 1s 461ms/step - loss: 1.8717 - classifier_loss: 1.7283 - rotation_loss: 0.1434 - classifier_accuracy: 0.3587 - rotation_accuracy: 0.5512 - val_loss: 2.1584 - val_classifier_loss: 2.0208 - val_rotation_loss: 0.1376 - val_classifier_accuracy: 0.2795 - val_rotation_accuracy: 0.5887\n",
            "Epoch 28/50\n",
            "4/4 [==============================] - 1s 463ms/step - loss: 1.8832 - classifier_loss: 1.7393 - rotation_loss: 0.1438 - classifier_accuracy: 0.3900 - rotation_accuracy: 0.5587 - val_loss: 2.1973 - val_classifier_loss: 2.0118 - val_rotation_loss: 0.1855 - val_classifier_accuracy: 0.2664 - val_rotation_accuracy: 0.3645\n",
            "Epoch 29/50\n",
            "4/4 [==============================] - 1s 269ms/step - loss: 1.8382 - classifier_loss: 1.6942 - rotation_loss: 0.1441 - classifier_accuracy: 0.3850 - rotation_accuracy: 0.5475 - val_loss: 2.1607 - val_classifier_loss: 1.9824 - val_rotation_loss: 0.1784 - val_classifier_accuracy: 0.2860 - val_rotation_accuracy: 0.4037\n",
            "Epoch 30/50\n",
            "4/4 [==============================] - 1s 461ms/step - loss: 1.8221 - classifier_loss: 1.6802 - rotation_loss: 0.1418 - classifier_accuracy: 0.3812 - rotation_accuracy: 0.5525 - val_loss: 2.1576 - val_classifier_loss: 2.0163 - val_rotation_loss: 0.1413 - val_classifier_accuracy: 0.2833 - val_rotation_accuracy: 0.6093\n",
            "Epoch 31/50\n",
            "4/4 [==============================] - 1s 480ms/step - loss: 1.8328 - classifier_loss: 1.6896 - rotation_loss: 0.1433 - classifier_accuracy: 0.3675 - rotation_accuracy: 0.5562 - val_loss: 2.1932 - val_classifier_loss: 2.0201 - val_rotation_loss: 0.1731 - val_classifier_accuracy: 0.2687 - val_rotation_accuracy: 0.4603\n",
            "Epoch 32/50\n",
            "4/4 [==============================] - 1s 334ms/step - loss: 1.7917 - classifier_loss: 1.6524 - rotation_loss: 0.1393 - classifier_accuracy: 0.3812 - rotation_accuracy: 0.5675 - val_loss: 2.1726 - val_classifier_loss: 2.0097 - val_rotation_loss: 0.1629 - val_classifier_accuracy: 0.2808 - val_rotation_accuracy: 0.5007\n",
            "Epoch 33/50\n",
            "4/4 [==============================] - 2s 470ms/step - loss: 1.7630 - classifier_loss: 1.6209 - rotation_loss: 0.1421 - classifier_accuracy: 0.4062 - rotation_accuracy: 0.5537 - val_loss: 2.1231 - val_classifier_loss: 1.9834 - val_rotation_loss: 0.1397 - val_classifier_accuracy: 0.2790 - val_rotation_accuracy: 0.5925\n",
            "Epoch 34/50\n",
            "4/4 [==============================] - 2s 515ms/step - loss: 1.7480 - classifier_loss: 1.6074 - rotation_loss: 0.1406 - classifier_accuracy: 0.4062 - rotation_accuracy: 0.5625 - val_loss: 2.2188 - val_classifier_loss: 2.0353 - val_rotation_loss: 0.1835 - val_classifier_accuracy: 0.2851 - val_rotation_accuracy: 0.4101\n",
            "Epoch 35/50\n",
            "4/4 [==============================] - 1s 462ms/step - loss: 1.7281 - classifier_loss: 1.5860 - rotation_loss: 0.1421 - classifier_accuracy: 0.4300 - rotation_accuracy: 0.5663 - val_loss: 2.1429 - val_classifier_loss: 2.0024 - val_rotation_loss: 0.1405 - val_classifier_accuracy: 0.2902 - val_rotation_accuracy: 0.5807\n",
            "Epoch 36/50\n",
            "4/4 [==============================] - 1s 270ms/step - loss: 1.7402 - classifier_loss: 1.6014 - rotation_loss: 0.1388 - classifier_accuracy: 0.3787 - rotation_accuracy: 0.5625 - val_loss: 2.2396 - val_classifier_loss: 2.0625 - val_rotation_loss: 0.1770 - val_classifier_accuracy: 0.2606 - val_rotation_accuracy: 0.4280\n",
            "Epoch 37/50\n",
            "4/4 [==============================] - 1s 462ms/step - loss: 1.7323 - classifier_loss: 1.5914 - rotation_loss: 0.1409 - classifier_accuracy: 0.4300 - rotation_accuracy: 0.5738 - val_loss: 2.2224 - val_classifier_loss: 2.0427 - val_rotation_loss: 0.1797 - val_classifier_accuracy: 0.2725 - val_rotation_accuracy: 0.4066\n",
            "Epoch 38/50\n",
            "4/4 [==============================] - 1s 268ms/step - loss: 1.7325 - classifier_loss: 1.5935 - rotation_loss: 0.1390 - classifier_accuracy: 0.4000 - rotation_accuracy: 0.5587 - val_loss: 2.1373 - val_classifier_loss: 2.0029 - val_rotation_loss: 0.1344 - val_classifier_accuracy: 0.2826 - val_rotation_accuracy: 0.6163\n",
            "Epoch 39/50\n",
            "4/4 [==============================] - 1s 458ms/step - loss: 1.6570 - classifier_loss: 1.5169 - rotation_loss: 0.1401 - classifier_accuracy: 0.4387 - rotation_accuracy: 0.5663 - val_loss: 2.2086 - val_classifier_loss: 2.0202 - val_rotation_loss: 0.1885 - val_classifier_accuracy: 0.2932 - val_rotation_accuracy: 0.3870\n",
            "Epoch 40/50\n",
            "4/4 [==============================] - 1s 460ms/step - loss: 1.6109 - classifier_loss: 1.4738 - rotation_loss: 0.1371 - classifier_accuracy: 0.4550 - rotation_accuracy: 0.5775 - val_loss: 2.1748 - val_classifier_loss: 2.0088 - val_rotation_loss: 0.1659 - val_classifier_accuracy: 0.2959 - val_rotation_accuracy: 0.5018\n",
            "Epoch 41/50\n",
            "4/4 [==============================] - 1s 267ms/step - loss: 1.6248 - classifier_loss: 1.4882 - rotation_loss: 0.1366 - classifier_accuracy: 0.4375 - rotation_accuracy: 0.5925 - val_loss: 2.1785 - val_classifier_loss: 2.0322 - val_rotation_loss: 0.1463 - val_classifier_accuracy: 0.2886 - val_rotation_accuracy: 0.5559\n",
            "Epoch 42/50\n",
            "4/4 [==============================] - 1s 275ms/step - loss: 1.6000 - classifier_loss: 1.4668 - rotation_loss: 0.1332 - classifier_accuracy: 0.4800 - rotation_accuracy: 0.5975 - val_loss: 2.3561 - val_classifier_loss: 2.1843 - val_rotation_loss: 0.1717 - val_classifier_accuracy: 0.2831 - val_rotation_accuracy: 0.4339\n",
            "Epoch 43/50\n",
            "4/4 [==============================] - 1s 467ms/step - loss: 1.6296 - classifier_loss: 1.4959 - rotation_loss: 0.1337 - classifier_accuracy: 0.4525 - rotation_accuracy: 0.5913 - val_loss: 2.2029 - val_classifier_loss: 2.0291 - val_rotation_loss: 0.1738 - val_classifier_accuracy: 0.2850 - val_rotation_accuracy: 0.4263\n",
            "Epoch 44/50\n",
            "4/4 [==============================] - 1s 466ms/step - loss: 1.5560 - classifier_loss: 1.4175 - rotation_loss: 0.1385 - classifier_accuracy: 0.4550 - rotation_accuracy: 0.5575 - val_loss: 2.1873 - val_classifier_loss: 2.0170 - val_rotation_loss: 0.1703 - val_classifier_accuracy: 0.2905 - val_rotation_accuracy: 0.4345\n",
            "Epoch 45/50\n",
            "4/4 [==============================] - 1s 458ms/step - loss: 1.5285 - classifier_loss: 1.3941 - rotation_loss: 0.1344 - classifier_accuracy: 0.5063 - rotation_accuracy: 0.5863 - val_loss: 2.3082 - val_classifier_loss: 2.1146 - val_rotation_loss: 0.1936 - val_classifier_accuracy: 0.2857 - val_rotation_accuracy: 0.3684\n",
            "Epoch 46/50\n",
            "4/4 [==============================] - 1s 460ms/step - loss: 1.5847 - classifier_loss: 1.4511 - rotation_loss: 0.1336 - classifier_accuracy: 0.4688 - rotation_accuracy: 0.5888 - val_loss: 2.2700 - val_classifier_loss: 2.1381 - val_rotation_loss: 0.1319 - val_classifier_accuracy: 0.2561 - val_rotation_accuracy: 0.6440\n",
            "Epoch 47/50\n",
            "4/4 [==============================] - 1s 262ms/step - loss: 1.5894 - classifier_loss: 1.4567 - rotation_loss: 0.1327 - classifier_accuracy: 0.4775 - rotation_accuracy: 0.5913 - val_loss: 2.3232 - val_classifier_loss: 2.1306 - val_rotation_loss: 0.1925 - val_classifier_accuracy: 0.2809 - val_rotation_accuracy: 0.3651\n",
            "Epoch 48/50\n",
            "4/4 [==============================] - 1s 269ms/step - loss: 1.4824 - classifier_loss: 1.3517 - rotation_loss: 0.1307 - classifier_accuracy: 0.5125 - rotation_accuracy: 0.6150 - val_loss: 2.2492 - val_classifier_loss: 2.0670 - val_rotation_loss: 0.1822 - val_classifier_accuracy: 0.2766 - val_rotation_accuracy: 0.3957\n",
            "Epoch 49/50\n",
            "4/4 [==============================] - 1s 277ms/step - loss: 1.4516 - classifier_loss: 1.3216 - rotation_loss: 0.1300 - classifier_accuracy: 0.5375 - rotation_accuracy: 0.6062 - val_loss: 2.2751 - val_classifier_loss: 2.1248 - val_rotation_loss: 0.1503 - val_classifier_accuracy: 0.2946 - val_rotation_accuracy: 0.5191\n",
            "Epoch 50/50\n",
            "4/4 [==============================] - 1s 261ms/step - loss: 1.4827 - classifier_loss: 1.3548 - rotation_loss: 0.1279 - classifier_accuracy: 0.5013 - rotation_accuracy: 0.6175 - val_loss: 2.2268 - val_classifier_loss: 2.0713 - val_rotation_loss: 0.1555 - val_classifier_accuracy: 0.2971 - val_rotation_accuracy: 0.5391\n"
          ]
        }
      ]
    },
    {
      "cell_type": "code",
      "source": [
        "plot(history, 'classifier_accuracy')"
      ],
      "metadata": {
        "colab": {
          "base_uri": "https://localhost:8080/",
          "height": 279
        },
        "id": "q4uCkMy7rnLO",
        "outputId": "9f7dec1c-8041-4c6e-fa99-1d102023ff88"
      },
      "execution_count": 19,
      "outputs": [
        {
          "output_type": "display_data",
          "data": {
            "text/plain": [
              "<Figure size 432x288 with 1 Axes>"
            ],
            "image/png": "[encoded data removed]"
          },
          "metadata": {
            "needs_background": "light"
          }
        }
      ]
    },
    {
      "cell_type": "code",
      "source": [
        "plot(history, 'classifier_loss')"
      ],
      "metadata": {
        "colab": {
          "base_uri": "https://localhost:8080/",
          "height": 279
        },
        "id": "zYuBmu3jrvBQ",
        "outputId": "0f9e1e1d-5c14-4436-e74d-2eb127a9d483"
      },
      "execution_count": 20,
      "outputs": [
        {
          "output_type": "display_data",
          "data": {
            "text/plain": [
              "<Figure size 432x288 with 1 Axes>"
            ],
            "image/png": "[encoded data removed]"
          },
          "metadata": {
            "needs_background": "light"
          }
        }
      ]
    },
    {
      "cell_type": "code",
      "source": [],
      "metadata": {
        "id": "uVSxigaE3Mhv"
      },
      "execution_count": null,
      "outputs": []
    }
  ],
  "metadata": {
    "colab": {
      "provenance": []
    },
    "kernelspec": {
      "display_name": "Python 3",
      "name": "python3"
    },
    "accelerator": "GPU",
    "gpuClass": "standard"
  },
  "nbformat": 4,
  "nbformat_minor": 0
}